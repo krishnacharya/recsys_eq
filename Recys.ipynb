{
  "cells": [
    {
      "cell_type": "code",
      "execution_count": null,
      "id": "ae0a671a",
      "metadata": {
        "scrolled": true,
        "id": "ae0a671a"
      },
      "outputs": [],
      "source": [
        "import pandas as pd\n",
        "import numpy as np\n",
        "import random\n",
        "from scipy import sparse\n",
        "from sklearn.decomposition import NMF"
      ]
    },
    {
      "cell_type": "code",
      "execution_count": null,
      "id": "1042d0e4",
      "metadata": {
        "id": "1042d0e4"
      },
      "outputs": [],
      "source": [
        "# Loading ratings\n",
        "ratings_df = pd.read_csv('data/ratings.csv', sep=',')\n",
        "\n",
        "# Loading movies info\n",
        "movie_info = pd.read_csv('data/movies.csv', sep=',')   # Information about the items (keeps only movie's name)\n",
        "movie_info['genres'] = movie_info.genres.str.split(\"|\", expand=False)\n",
        "movie_info['compressed_idx'] = np.arange(movie_info.shape[0])+1"
      ]
    },
    {
      "cell_type": "code",
      "execution_count": null,
      "id": "bbba5811",
      "metadata": {
        "id": "bbba5811"
      },
      "outputs": [],
      "source": [
        "df = ratings_df.join(movie_info.set_index('movieId'), on='movieId')\n",
        "df = df[[\"userId\", \"compressed_idx\", \"rating\"]]"
      ]
    },
    {
      "cell_type": "code",
      "execution_count": null,
      "id": "fc7d7048",
      "metadata": {
        "id": "fc7d7048"
      },
      "outputs": [],
      "source": [
        "\n",
        "sparse_matrix = sparse.csr_matrix((df.rating.values, (df.userId.values, df.compressed_idx.values)))\n",
        "R = np.array(sparse_matrix.todense())[1:, 1:]"
      ]
    },
    {
      "cell_type": "code",
      "execution_count": null,
      "id": "867209fa",
      "metadata": {
        "id": "867209fa"
      },
      "outputs": [],
      "source": [
        "\n",
        "#How do I set n_components\n",
        "nmf_model = NMF(n_components=2)\n",
        "\n",
        "nmf_model.fit(R)\n",
        "W = nmf_model.fit_transform(R)\n",
        "H = nmf_model.components_\n",
        "\n"
      ]
    },
    {
      "cell_type": "code",
      "execution_count": null,
      "id": "dd8607fd",
      "metadata": {
        "id": "dd8607fd"
      },
      "outputs": [],
      "source": [
        "user = random.choice(W)"
      ]
    },
    {
      "cell_type": "code",
      "execution_count": null,
      "id": "e33318d9",
      "metadata": {
        "colab": {
          "base_uri": "https://localhost:8080/"
        },
        "id": "e33318d9",
        "outputId": "13236d2f-35e0-45fc-aac9-784216600248"
      },
      "outputs": [
        {
          "output_type": "execute_result",
          "data": {
            "text/plain": [
              "array([0.35124485, 0.275965  ])"
            ]
          },
          "metadata": {},
          "execution_count": 11
        }
      ],
      "source": [
        "user"
      ]
    }
  ],
  "metadata": {
    "kernelspec": {
      "display_name": "Python 3 (ipykernel)",
      "language": "python",
      "name": "python3"
    },
    "language_info": {
      "codemirror_mode": {
        "name": "ipython",
        "version": 3
      },
      "file_extension": ".py",
      "mimetype": "text/x-python",
      "name": "python",
      "nbconvert_exporter": "python",
      "pygments_lexer": "ipython3",
      "version": "3.11.0"
    },
    "colab": {
      "provenance": []
    }
  },
  "nbformat": 4,
  "nbformat_minor": 5
}