{
 "cells": [
  {
   "cell_type": "code",
   "execution_count": 1,
   "id": "8cdf7c4c",
   "metadata": {},
   "outputs": [],
   "source": [
    "import sys\n",
    "sys.path.append('../source/')\n",
    "import numpy as np\n",
    "from Users import Users\n",
    "from Producers import *\n",
    "from embeddings import *\n",
    "from sklearn.preprocessing import normalize\n",
    "from plotting import *\n",
    "from tqdm import tqdm\n",
    "import pandas as pd"
   ]
  },
  {
   "cell_type": "code",
   "execution_count": 2,
   "id": "726e14fb",
   "metadata": {},
   "outputs": [
    {
     "data": {
      "text/plain": [
       "10"
      ]
     },
     "execution_count": 2,
     "metadata": {},
     "output_type": "execute_result"
    }
   ],
   "source": [
    "seeds = [2, 3, 5, 7, 11, 13, 17, 19, 23, 29] # seeds for reproducibilit of NMF factorizations\n",
    "len(seeds)"
   ]
  },
  {
   "cell_type": "code",
   "execution_count": 3,
   "id": "3e6afdb7",
   "metadata": {},
   "outputs": [],
   "source": [
    "dimension, seed, nprod =  5, 11, 5 # NE not found?\n",
    "n_users = 10\n",
    "np.random.seed(seed = seed)\n",
    "# _, nue  = get_user_embeddings_movielens100k(user_dimension =  dimension)\n",
    "nue = generate_uniform_users(dimension = dimension, num_users = n_users)\n",
    "PEng = ProducersEngagementGame(num_producers = nprod, users = Users(nue), prob = 'softmax')"
   ]
  },
  {
   "cell_type": "code",
   "execution_count": 4,
   "id": "e0f269fe",
   "metadata": {},
   "outputs": [],
   "source": [
    "# PEng = ProducersEngagementGame(num_producers = nprod, users = Users(nue), prob = 'linear')\n",
    "# # NE, NE_compact, iters = PEng.best_response_dynamics()"
   ]
  },
  {
   "cell_type": "code",
   "execution_count": 5,
   "id": "27736358",
   "metadata": {},
   "outputs": [],
   "source": [
    "# PEng.best_response_dynamics(verbose=True)"
   ]
  },
  {
   "cell_type": "code",
   "execution_count": 6,
   "id": "c2a8b2b8",
   "metadata": {},
   "outputs": [],
   "source": [
    "PEng = ProducersEngagementGame(num_producers = nprod, users = Users(nue), prob = 'softmax', temp = 0.01)"
   ]
  },
  {
   "cell_type": "code",
   "execution_count": 7,
   "id": "981dcbeb",
   "metadata": {},
   "outputs": [
    {
     "name": "stdout",
     "output_type": "stream",
     "text": [
      "##### PRODUCERS FOR ITER 0\n",
      " [0. 2. 1. 2. 0.]\n",
      "##### PRODUCERS FOR ITER 0 \n",
      " [0. 1. 1. 2. 1.]\n",
      "##### PRODUCERS FOR ITER 1 \n",
      " [0. 1. 2. 1. 1.]\n",
      "##### PRODUCERS FOR ITER 2 \n",
      " [0. 2. 2. 0. 1.]\n",
      "##### PRODUCERS FOR ITER 3 \n",
      " [0. 2. 2. 0. 1.]\n",
      "Number of iterations to coverge: 3\n"
     ]
    }
   ],
   "source": [
    "converged, last_profile, last_profile_compact, iters  = PEng.best_response_dynamics(verbose=True)"
   ]
  },
  {
   "cell_type": "code",
   "execution_count": 8,
   "id": "b85f0f59",
   "metadata": {},
   "outputs": [],
   "source": [
    "# PEng = ProducersEngagementGame(num_producers = nprod, users = Users(nue), prob = 'softmax', temp = 1)\n",
    "# PEng.best_response_dynamics(verbose=True)"
   ]
  },
  {
   "cell_type": "code",
   "execution_count": 9,
   "id": "3ef37cee",
   "metadata": {},
   "outputs": [
    {
     "data": {
      "text/plain": [
       "(5, 5)"
      ]
     },
     "execution_count": 9,
     "metadata": {},
     "output_type": "execute_result"
    }
   ],
   "source": [
    "last_profile.shape"
   ]
  },
  {
   "cell_type": "code",
   "execution_count": 10,
   "id": "482116f9",
   "metadata": {},
   "outputs": [
    {
     "data": {
      "text/plain": [
       "(10, 5)"
      ]
     },
     "execution_count": 10,
     "metadata": {},
     "output_type": "execute_result"
    }
   ],
   "source": [
    "nue.shape"
   ]
  },
  {
   "cell_type": "code",
   "execution_count": 11,
   "id": "63d8c249",
   "metadata": {},
   "outputs": [
    {
     "data": {
      "text/plain": [
       "(array([2, 1, 2, 1, 4]),\n",
       " array([0.85335149, 0.71728398, 0.85335149, 0.71728398, 1.24721749]),\n",
       " array([0.28148836, 0.51262272, 0.6212284 , 0.4672474 , 0.68363269,\n",
       "        0.4143551 , 0.48788216, 0.3460028 , 0.1156471 , 0.4583817 ]))"
      ]
     },
     "execution_count": 11,
     "metadata": {},
     "output_type": "execute_result"
    }
   ],
   "source": [
    "get_all_engagement_utilities(last_profile, nue, prob_type='softmax', temp = 0.01)"
   ]
  },
  {
   "cell_type": "code",
   "execution_count": null,
   "id": "e0e59120",
   "metadata": {},
   "outputs": [],
   "source": []
  },
  {
   "cell_type": "code",
   "execution_count": null,
   "id": "3af17353",
   "metadata": {},
   "outputs": [],
   "source": [
    "#checks if both frames are same or not for greedy"
   ]
  },
  {
   "cell_type": "code",
   "execution_count": 10,
   "id": "f8f3ae86",
   "metadata": {},
   "outputs": [],
   "source": [
    "import pandas as pd\n",
    "\n",
    "df1 = pd.read_pickle('../saved_frames/synth-uniform_softmax_temp_0.01.pkl')\n",
    "df2 = pd.read_pickle('../saved_frames/uniform_synthetic_grid_greedy_statistics.pkl')"
   ]
  },
  {
   "cell_type": "code",
   "execution_count": 2,
   "id": "c86d3c53",
   "metadata": {},
   "outputs": [
    {
     "data": {
      "text/plain": [
       "(400, 16)"
      ]
     },
     "execution_count": 2,
     "metadata": {},
     "output_type": "execute_result"
    }
   ],
   "source": [
    "df1.shape"
   ]
  },
  {
   "cell_type": "code",
   "execution_count": 4,
   "id": "5d864d43",
   "metadata": {},
   "outputs": [
    {
     "data": {
      "text/plain": [
       "(400, 16)"
      ]
     },
     "execution_count": 4,
     "metadata": {},
     "output_type": "execute_result"
    }
   ],
   "source": [
    "df2.shape"
   ]
  },
  {
   "cell_type": "code",
   "execution_count": 6,
   "id": "2d141036",
   "metadata": {},
   "outputs": [
    {
     "data": {
      "text/html": [
       "<div>\n",
       "<style scoped>\n",
       "    .dataframe tbody tr th:only-of-type {\n",
       "        vertical-align: middle;\n",
       "    }\n",
       "\n",
       "    .dataframe tbody tr th {\n",
       "        vertical-align: top;\n",
       "    }\n",
       "\n",
       "    .dataframe thead th {\n",
       "        text-align: right;\n",
       "    }\n",
       "</style>\n",
       "<table border=\"1\" class=\"dataframe\">\n",
       "  <thead>\n",
       "    <tr style=\"text-align: right;\">\n",
       "      <th></th>\n",
       "      <th>dimension</th>\n",
       "      <th>seed</th>\n",
       "      <th>nprod</th>\n",
       "      <th>NE_exists</th>\n",
       "      <th>iters</th>\n",
       "      <th>last_profile_compact</th>\n",
       "      <th>producer_dist</th>\n",
       "      <th>user_dist</th>\n",
       "      <th>total_prod_util</th>\n",
       "      <th>avg_prod_util</th>\n",
       "      <th>max_prod_util</th>\n",
       "      <th>min_prod_util</th>\n",
       "      <th>total_user_util</th>\n",
       "      <th>avg_user_util</th>\n",
       "      <th>max_user_util</th>\n",
       "      <th>min_user_util</th>\n",
       "    </tr>\n",
       "  </thead>\n",
       "  <tbody>\n",
       "    <tr>\n",
       "      <th>0</th>\n",
       "      <td>5</td>\n",
       "      <td>2</td>\n",
       "      <td>10</td>\n",
       "      <td>True</td>\n",
       "      <td>3</td>\n",
       "      <td>[2.0, 2.0, 2.0, 2.0, 2.0]</td>\n",
       "      <td>[0.2, 0.2, 0.2, 0.2, 0.2]</td>\n",
       "      <td>[0.1985065740914945, 0.20296485834765995, 0.19...</td>\n",
       "      <td>4580.160712</td>\n",
       "      <td>458.016071</td>\n",
       "      <td>471.101240</td>\n",
       "      <td>439.573110</td>\n",
       "      <td>4580.160712</td>\n",
       "      <td>0.458016</td>\n",
       "      <td>0.957918</td>\n",
       "      <td>0.216822</td>\n",
       "    </tr>\n",
       "    <tr>\n",
       "      <th>1</th>\n",
       "      <td>5</td>\n",
       "      <td>2</td>\n",
       "      <td>20</td>\n",
       "      <td>True</td>\n",
       "      <td>6</td>\n",
       "      <td>[4.0, 4.0, 4.0, 4.0, 4.0]</td>\n",
       "      <td>[0.2, 0.2, 0.2, 0.2, 0.2]</td>\n",
       "      <td>[0.1985065740914945, 0.20296485834765995, 0.19...</td>\n",
       "      <td>4580.160712</td>\n",
       "      <td>229.008036</td>\n",
       "      <td>235.550620</td>\n",
       "      <td>219.786555</td>\n",
       "      <td>4580.160712</td>\n",
       "      <td>0.458016</td>\n",
       "      <td>0.957918</td>\n",
       "      <td>0.216822</td>\n",
       "    </tr>\n",
       "    <tr>\n",
       "      <th>2</th>\n",
       "      <td>5</td>\n",
       "      <td>2</td>\n",
       "      <td>30</td>\n",
       "      <td>True</td>\n",
       "      <td>5</td>\n",
       "      <td>[6.0, 6.0, 6.0, 6.0, 6.0]</td>\n",
       "      <td>[0.2, 0.2, 0.2, 0.2, 0.2]</td>\n",
       "      <td>[0.1985065740914945, 0.20296485834765995, 0.19...</td>\n",
       "      <td>4580.160712</td>\n",
       "      <td>152.672024</td>\n",
       "      <td>157.033747</td>\n",
       "      <td>146.524370</td>\n",
       "      <td>4580.160712</td>\n",
       "      <td>0.458016</td>\n",
       "      <td>0.957918</td>\n",
       "      <td>0.216822</td>\n",
       "    </tr>\n",
       "    <tr>\n",
       "      <th>3</th>\n",
       "      <td>5</td>\n",
       "      <td>2</td>\n",
       "      <td>40</td>\n",
       "      <td>True</td>\n",
       "      <td>4</td>\n",
       "      <td>[8.0, 8.0, 8.0, 8.0, 8.0]</td>\n",
       "      <td>[0.2, 0.2, 0.2, 0.2, 0.2]</td>\n",
       "      <td>[0.1985065740914945, 0.20296485834765995, 0.19...</td>\n",
       "      <td>4580.160712</td>\n",
       "      <td>114.504018</td>\n",
       "      <td>117.775310</td>\n",
       "      <td>109.893278</td>\n",
       "      <td>4580.160712</td>\n",
       "      <td>0.458016</td>\n",
       "      <td>0.957918</td>\n",
       "      <td>0.216822</td>\n",
       "    </tr>\n",
       "    <tr>\n",
       "      <th>4</th>\n",
       "      <td>5</td>\n",
       "      <td>2</td>\n",
       "      <td>50</td>\n",
       "      <td>True</td>\n",
       "      <td>8</td>\n",
       "      <td>[10.0, 10.0, 10.0, 10.0, 10.0]</td>\n",
       "      <td>[0.2, 0.2, 0.2, 0.2, 0.2]</td>\n",
       "      <td>[0.1985065740914945, 0.20296485834765995, 0.19...</td>\n",
       "      <td>4580.160712</td>\n",
       "      <td>91.603214</td>\n",
       "      <td>94.220248</td>\n",
       "      <td>87.914622</td>\n",
       "      <td>4580.160712</td>\n",
       "      <td>0.458016</td>\n",
       "      <td>0.957918</td>\n",
       "      <td>0.216822</td>\n",
       "    </tr>\n",
       "    <tr>\n",
       "      <th>...</th>\n",
       "      <td>...</td>\n",
       "      <td>...</td>\n",
       "      <td>...</td>\n",
       "      <td>...</td>\n",
       "      <td>...</td>\n",
       "      <td>...</td>\n",
       "      <td>...</td>\n",
       "      <td>...</td>\n",
       "      <td>...</td>\n",
       "      <td>...</td>\n",
       "      <td>...</td>\n",
       "      <td>...</td>\n",
       "      <td>...</td>\n",
       "      <td>...</td>\n",
       "      <td>...</td>\n",
       "      <td>...</td>\n",
       "    </tr>\n",
       "    <tr>\n",
       "      <th>395</th>\n",
       "      <td>20</td>\n",
       "      <td>29</td>\n",
       "      <td>60</td>\n",
       "      <td>True</td>\n",
       "      <td>18</td>\n",
       "      <td>[3.0, 3.0, 3.0, 3.0, 3.0, 3.0, 3.0, 3.0, 3.0, ...</td>\n",
       "      <td>[0.05, 0.05, 0.05, 0.05, 0.05, 0.05, 0.05, 0.0...</td>\n",
       "      <td>[0.050078133785279026, 0.049848806809137, 0.05...</td>\n",
       "      <td>1783.017244</td>\n",
       "      <td>29.716954</td>\n",
       "      <td>31.586607</td>\n",
       "      <td>27.408338</td>\n",
       "      <td>1783.017244</td>\n",
       "      <td>0.178302</td>\n",
       "      <td>0.454346</td>\n",
       "      <td>0.076661</td>\n",
       "    </tr>\n",
       "    <tr>\n",
       "      <th>396</th>\n",
       "      <td>20</td>\n",
       "      <td>29</td>\n",
       "      <td>70</td>\n",
       "      <td>True</td>\n",
       "      <td>18</td>\n",
       "      <td>[4.0, 4.0, 4.0, 3.0, 4.0, 3.0, 3.0, 3.0, 3.0, ...</td>\n",
       "      <td>[0.05714285714285714, 0.05714285714285714, 0.0...</td>\n",
       "      <td>[0.050078133785279026, 0.049848806809137, 0.05...</td>\n",
       "      <td>1782.808603</td>\n",
       "      <td>25.468694</td>\n",
       "      <td>28.825547</td>\n",
       "      <td>22.740216</td>\n",
       "      <td>1782.808603</td>\n",
       "      <td>0.178281</td>\n",
       "      <td>0.454346</td>\n",
       "      <td>0.076378</td>\n",
       "    </tr>\n",
       "    <tr>\n",
       "      <th>397</th>\n",
       "      <td>20</td>\n",
       "      <td>29</td>\n",
       "      <td>80</td>\n",
       "      <td>True</td>\n",
       "      <td>23</td>\n",
       "      <td>[4.0, 4.0, 4.0, 4.0, 4.0, 4.0, 4.0, 4.0, 4.0, ...</td>\n",
       "      <td>[0.05, 0.05, 0.05, 0.05, 0.05, 0.05, 0.05, 0.0...</td>\n",
       "      <td>[0.050078133785279026, 0.049848806809137, 0.05...</td>\n",
       "      <td>1783.017244</td>\n",
       "      <td>22.287716</td>\n",
       "      <td>23.689955</td>\n",
       "      <td>20.556253</td>\n",
       "      <td>1783.017244</td>\n",
       "      <td>0.178302</td>\n",
       "      <td>0.454346</td>\n",
       "      <td>0.076661</td>\n",
       "    </tr>\n",
       "    <tr>\n",
       "      <th>398</th>\n",
       "      <td>20</td>\n",
       "      <td>29</td>\n",
       "      <td>90</td>\n",
       "      <td>True</td>\n",
       "      <td>20</td>\n",
       "      <td>[5.0, 5.0, 5.0, 4.0, 5.0, 4.0, 4.0, 4.0, 4.0, ...</td>\n",
       "      <td>[0.05555555555555555, 0.05555555555555555, 0.0...</td>\n",
       "      <td>[0.050078133785279026, 0.049848806809137, 0.05...</td>\n",
       "      <td>1782.891248</td>\n",
       "      <td>19.809903</td>\n",
       "      <td>21.732055</td>\n",
       "      <td>18.105236</td>\n",
       "      <td>1782.891248</td>\n",
       "      <td>0.178289</td>\n",
       "      <td>0.454346</td>\n",
       "      <td>0.076442</td>\n",
       "    </tr>\n",
       "    <tr>\n",
       "      <th>399</th>\n",
       "      <td>20</td>\n",
       "      <td>29</td>\n",
       "      <td>100</td>\n",
       "      <td>True</td>\n",
       "      <td>34</td>\n",
       "      <td>[5.0, 5.0, 5.0, 5.0, 5.0, 5.0, 5.0, 5.0, 5.0, ...</td>\n",
       "      <td>[0.05, 0.05, 0.05, 0.05, 0.05, 0.05, 0.05, 0.0...</td>\n",
       "      <td>[0.050078133785279026, 0.049848806809137, 0.05...</td>\n",
       "      <td>1783.017244</td>\n",
       "      <td>17.830172</td>\n",
       "      <td>18.951964</td>\n",
       "      <td>16.445003</td>\n",
       "      <td>1783.017244</td>\n",
       "      <td>0.178302</td>\n",
       "      <td>0.454346</td>\n",
       "      <td>0.076661</td>\n",
       "    </tr>\n",
       "  </tbody>\n",
       "</table>\n",
       "<p>400 rows × 16 columns</p>\n",
       "</div>"
      ],
      "text/plain": [
       "     dimension  seed  nprod  NE_exists  iters  \\\n",
       "0            5     2     10       True      3   \n",
       "1            5     2     20       True      6   \n",
       "2            5     2     30       True      5   \n",
       "3            5     2     40       True      4   \n",
       "4            5     2     50       True      8   \n",
       "..         ...   ...    ...        ...    ...   \n",
       "395         20    29     60       True     18   \n",
       "396         20    29     70       True     18   \n",
       "397         20    29     80       True     23   \n",
       "398         20    29     90       True     20   \n",
       "399         20    29    100       True     34   \n",
       "\n",
       "                                  last_profile_compact  \\\n",
       "0                            [2.0, 2.0, 2.0, 2.0, 2.0]   \n",
       "1                            [4.0, 4.0, 4.0, 4.0, 4.0]   \n",
       "2                            [6.0, 6.0, 6.0, 6.0, 6.0]   \n",
       "3                            [8.0, 8.0, 8.0, 8.0, 8.0]   \n",
       "4                       [10.0, 10.0, 10.0, 10.0, 10.0]   \n",
       "..                                                 ...   \n",
       "395  [3.0, 3.0, 3.0, 3.0, 3.0, 3.0, 3.0, 3.0, 3.0, ...   \n",
       "396  [4.0, 4.0, 4.0, 3.0, 4.0, 3.0, 3.0, 3.0, 3.0, ...   \n",
       "397  [4.0, 4.0, 4.0, 4.0, 4.0, 4.0, 4.0, 4.0, 4.0, ...   \n",
       "398  [5.0, 5.0, 5.0, 4.0, 5.0, 4.0, 4.0, 4.0, 4.0, ...   \n",
       "399  [5.0, 5.0, 5.0, 5.0, 5.0, 5.0, 5.0, 5.0, 5.0, ...   \n",
       "\n",
       "                                         producer_dist  \\\n",
       "0                            [0.2, 0.2, 0.2, 0.2, 0.2]   \n",
       "1                            [0.2, 0.2, 0.2, 0.2, 0.2]   \n",
       "2                            [0.2, 0.2, 0.2, 0.2, 0.2]   \n",
       "3                            [0.2, 0.2, 0.2, 0.2, 0.2]   \n",
       "4                            [0.2, 0.2, 0.2, 0.2, 0.2]   \n",
       "..                                                 ...   \n",
       "395  [0.05, 0.05, 0.05, 0.05, 0.05, 0.05, 0.05, 0.0...   \n",
       "396  [0.05714285714285714, 0.05714285714285714, 0.0...   \n",
       "397  [0.05, 0.05, 0.05, 0.05, 0.05, 0.05, 0.05, 0.0...   \n",
       "398  [0.05555555555555555, 0.05555555555555555, 0.0...   \n",
       "399  [0.05, 0.05, 0.05, 0.05, 0.05, 0.05, 0.05, 0.0...   \n",
       "\n",
       "                                             user_dist  total_prod_util  \\\n",
       "0    [0.1985065740914945, 0.20296485834765995, 0.19...      4580.160712   \n",
       "1    [0.1985065740914945, 0.20296485834765995, 0.19...      4580.160712   \n",
       "2    [0.1985065740914945, 0.20296485834765995, 0.19...      4580.160712   \n",
       "3    [0.1985065740914945, 0.20296485834765995, 0.19...      4580.160712   \n",
       "4    [0.1985065740914945, 0.20296485834765995, 0.19...      4580.160712   \n",
       "..                                                 ...              ...   \n",
       "395  [0.050078133785279026, 0.049848806809137, 0.05...      1783.017244   \n",
       "396  [0.050078133785279026, 0.049848806809137, 0.05...      1782.808603   \n",
       "397  [0.050078133785279026, 0.049848806809137, 0.05...      1783.017244   \n",
       "398  [0.050078133785279026, 0.049848806809137, 0.05...      1782.891248   \n",
       "399  [0.050078133785279026, 0.049848806809137, 0.05...      1783.017244   \n",
       "\n",
       "     avg_prod_util  max_prod_util  min_prod_util  total_user_util  \\\n",
       "0       458.016071     471.101240     439.573110      4580.160712   \n",
       "1       229.008036     235.550620     219.786555      4580.160712   \n",
       "2       152.672024     157.033747     146.524370      4580.160712   \n",
       "3       114.504018     117.775310     109.893278      4580.160712   \n",
       "4        91.603214      94.220248      87.914622      4580.160712   \n",
       "..             ...            ...            ...              ...   \n",
       "395      29.716954      31.586607      27.408338      1783.017244   \n",
       "396      25.468694      28.825547      22.740216      1782.808603   \n",
       "397      22.287716      23.689955      20.556253      1783.017244   \n",
       "398      19.809903      21.732055      18.105236      1782.891248   \n",
       "399      17.830172      18.951964      16.445003      1783.017244   \n",
       "\n",
       "     avg_user_util  max_user_util  min_user_util  \n",
       "0         0.458016       0.957918       0.216822  \n",
       "1         0.458016       0.957918       0.216822  \n",
       "2         0.458016       0.957918       0.216822  \n",
       "3         0.458016       0.957918       0.216822  \n",
       "4         0.458016       0.957918       0.216822  \n",
       "..             ...            ...            ...  \n",
       "395       0.178302       0.454346       0.076661  \n",
       "396       0.178281       0.454346       0.076378  \n",
       "397       0.178302       0.454346       0.076661  \n",
       "398       0.178289       0.454346       0.076442  \n",
       "399       0.178302       0.454346       0.076661  \n",
       "\n",
       "[400 rows x 16 columns]"
      ]
     },
     "execution_count": 6,
     "metadata": {},
     "output_type": "execute_result"
    }
   ],
   "source": [
    "df1"
   ]
  },
  {
   "cell_type": "code",
   "execution_count": 9,
   "id": "c77a4a23",
   "metadata": {},
   "outputs": [
    {
     "data": {
      "text/plain": [
       "(True, True)"
      ]
     },
     "execution_count": 9,
     "metadata": {},
     "output_type": "execute_result"
    }
   ],
   "source": [
    "df2.equals(df1), df1.equals(df2)"
   ]
  },
  {
   "cell_type": "code",
   "execution_count": 12,
   "id": "2644f7ef",
   "metadata": {},
   "outputs": [
    {
     "data": {
      "text/plain": [
       "(12, 16)"
      ]
     },
     "execution_count": 12,
     "metadata": {},
     "output_type": "execute_result"
    }
   ],
   "source": [
    "# df3 = pd.read_pickle('../saved_frames/synth-skewed_softmax_temp_1.0.pkl')\n",
    "df3.shape"
   ]
  },
  {
   "cell_type": "code",
   "execution_count": null,
   "id": "8da6f07d",
   "metadata": {},
   "outputs": [],
   "source": []
  }
 ],
 "metadata": {
  "kernelspec": {
   "display_name": "recsys3.10",
   "language": "python",
   "name": "recsys3.10"
  },
  "language_info": {
   "codemirror_mode": {
    "name": "ipython",
    "version": 3
   },
   "file_extension": ".py",
   "mimetype": "text/x-python",
   "name": "python",
   "nbconvert_exporter": "python",
   "pygments_lexer": "ipython3",
   "version": "3.10.9"
  }
 },
 "nbformat": 4,
 "nbformat_minor": 5
}
