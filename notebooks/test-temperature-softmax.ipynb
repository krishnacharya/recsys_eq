{
 "cells": [
  {
   "cell_type": "code",
   "execution_count": 1,
   "id": "8cdf7c4c",
   "metadata": {},
   "outputs": [],
   "source": [
    "import sys\n",
    "sys.path.append('../source/')\n",
    "import numpy as np\n",
    "from Users import Users\n",
    "from Producers import *\n",
    "from embeddings import *\n",
    "from sklearn.preprocessing import normalize\n",
    "from plotting import *\n",
    "from tqdm import tqdm\n",
    "import pandas as pd"
   ]
  },
  {
   "cell_type": "code",
   "execution_count": 2,
   "id": "726e14fb",
   "metadata": {},
   "outputs": [
    {
     "data": {
      "text/plain": [
       "10"
      ]
     },
     "execution_count": 2,
     "metadata": {},
     "output_type": "execute_result"
    }
   ],
   "source": [
    "seeds = [2, 3, 5, 7, 11, 13, 17, 19, 23, 29] # seeds for reproducibilit of NMF factorizations\n",
    "len(seeds)"
   ]
  },
  {
   "cell_type": "code",
   "execution_count": 3,
   "id": "3e6afdb7",
   "metadata": {},
   "outputs": [],
   "source": [
    "dimension, seed, nprod =  5, 11, 5 # NE not found?\n",
    "n_users = 10\n",
    "np.random.seed(seed = seed)\n",
    "# _, nue  = get_user_embeddings_movielens100k(user_dimension =  dimension)\n",
    "nue = generate_uniform_users(dimension = dimension, num_users = n_users)\n",
    "PEng = ProducersEngagementGame(num_producers = nprod, users = Users(nue), prob = 'softmax')"
   ]
  },
  {
   "cell_type": "code",
   "execution_count": 4,
   "id": "e0f269fe",
   "metadata": {},
   "outputs": [],
   "source": [
    "# PEng = ProducersEngagementGame(num_producers = nprod, users = Users(nue), prob = 'linear')\n",
    "# # NE, NE_compact, iters = PEng.best_response_dynamics()"
   ]
  },
  {
   "cell_type": "code",
   "execution_count": 5,
   "id": "27736358",
   "metadata": {},
   "outputs": [],
   "source": [
    "# PEng.best_response_dynamics(verbose=True)"
   ]
  },
  {
   "cell_type": "code",
   "execution_count": 6,
   "id": "c2a8b2b8",
   "metadata": {},
   "outputs": [],
   "source": [
    "PEng = ProducersEngagementGame(num_producers = nprod, users = Users(nue), prob = 'softmax', temp = 0.01)"
   ]
  },
  {
   "cell_type": "code",
   "execution_count": 7,
   "id": "981dcbeb",
   "metadata": {},
   "outputs": [
    {
     "name": "stdout",
     "output_type": "stream",
     "text": [
      "##### PRODUCERS FOR ITER 0\n",
      " [0. 2. 1. 2. 0.]\n",
      "##### PRODUCERS FOR ITER 0 \n",
      " [0. 1. 1. 2. 1.]\n",
      "##### PRODUCERS FOR ITER 1 \n",
      " [0. 1. 2. 1. 1.]\n",
      "##### PRODUCERS FOR ITER 2 \n",
      " [0. 2. 2. 0. 1.]\n",
      "##### PRODUCERS FOR ITER 3 \n",
      " [0. 2. 2. 0. 1.]\n",
      "Number of iterations to coverge: 3\n"
     ]
    }
   ],
   "source": [
    "converged, last_profile, last_profile_compact, iters  = PEng.best_response_dynamics(verbose=True)"
   ]
  },
  {
   "cell_type": "code",
   "execution_count": 8,
   "id": "b85f0f59",
   "metadata": {},
   "outputs": [],
   "source": [
    "# PEng = ProducersEngagementGame(num_producers = nprod, users = Users(nue), prob = 'softmax', temp = 1)\n",
    "# PEng.best_response_dynamics(verbose=True)"
   ]
  },
  {
   "cell_type": "code",
   "execution_count": 9,
   "id": "3ef37cee",
   "metadata": {},
   "outputs": [
    {
     "data": {
      "text/plain": [
       "(5, 5)"
      ]
     },
     "execution_count": 9,
     "metadata": {},
     "output_type": "execute_result"
    }
   ],
   "source": [
    "last_profile.shape"
   ]
  },
  {
   "cell_type": "code",
   "execution_count": 10,
   "id": "482116f9",
   "metadata": {},
   "outputs": [
    {
     "data": {
      "text/plain": [
       "(10, 5)"
      ]
     },
     "execution_count": 10,
     "metadata": {},
     "output_type": "execute_result"
    }
   ],
   "source": [
    "nue.shape"
   ]
  },
  {
   "cell_type": "code",
   "execution_count": 11,
   "id": "63d8c249",
   "metadata": {},
   "outputs": [
    {
     "data": {
      "text/plain": [
       "(array([2, 1, 2, 1, 4]),\n",
       " array([0.85335149, 0.71728398, 0.85335149, 0.71728398, 1.24721749]),\n",
       " array([0.28148836, 0.51262272, 0.6212284 , 0.4672474 , 0.68363269,\n",
       "        0.4143551 , 0.48788216, 0.3460028 , 0.1156471 , 0.4583817 ]))"
      ]
     },
     "execution_count": 11,
     "metadata": {},
     "output_type": "execute_result"
    }
   ],
   "source": [
    "get_all_engagement_utilities(last_profile, nue, prob_type='softmax', temp = 0.01)"
   ]
  },
  {
   "cell_type": "code",
   "execution_count": null,
   "id": "ca58f878",
   "metadata": {},
   "outputs": [],
   "source": []
  }
 ],
 "metadata": {
  "kernelspec": {
   "display_name": "recsys3.10",
   "language": "python",
   "name": "recsys3.10"
  },
  "language_info": {
   "codemirror_mode": {
    "name": "ipython",
    "version": 3
   },
   "file_extension": ".py",
   "mimetype": "text/x-python",
   "name": "python",
   "nbconvert_exporter": "python",
   "pygments_lexer": "ipython3",
   "version": "3.10.9"
  }
 },
 "nbformat": 4,
 "nbformat_minor": 5
}
