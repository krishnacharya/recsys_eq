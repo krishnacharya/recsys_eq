{
 "cells": [
  {
   "cell_type": "code",
   "execution_count": 2,
   "metadata": {},
   "outputs": [],
   "source": [
    "import sys\n",
    "sys.path.append('../source/')\n",
    "import numpy as np\n",
    "from Users import Users\n",
    "from Producers import ProducersEngagementGame\n",
    "from embeddings import generate_uniform_user"
   ]
  },
  {
   "cell_type": "markdown",
   "metadata": {},
   "source": [
    "Workflow is:\n",
    "1) Create User object\n",
    "2) Create ProducersEngagementGame\n",
    "3) Run Producer dynamics"
   ]
  },
  {
   "cell_type": "code",
   "execution_count": 14,
   "metadata": {},
   "outputs": [],
   "source": [
    "# EXPERIMENT 1 - Linear probability of RS\n",
    "dimension = 3\n",
    "num_users = 100\n",
    "num_producers = 5\n",
    "\n",
    "user_embeddings = np.array([generate_uniform_user(dimension) for _ in range(num_users)])\n",
    "users = Users(user_embeddings)\n",
    "PEng = ProducersEngagementGame(num_producers=num_producers, users=users, prob = 'linear')\n",
    "NE, iters= PEng.best_response_dynamics(verbose=False)"
   ]
  },
  {
   "cell_type": "code",
   "execution_count": 15,
   "metadata": {},
   "outputs": [
    {
     "data": {
      "text/plain": [
       "(array([2., 1., 2.]), 5.0)"
      ]
     },
     "execution_count": 15,
     "metadata": {},
     "output_type": "execute_result"
    }
   ],
   "source": [
    "NE, NE.sum()"
   ]
  },
  {
   "cell_type": "code",
   "execution_count": 11,
   "metadata": {},
   "outputs": [],
   "source": [
    "# EXPERIMENT 2 - Softmax probability of RS\n",
    "dimension = 15\n",
    "num_users = 1000\n",
    "num_producers = 100\n",
    "\n",
    "user_embeddings = np.array([generate_uniform_user(dimension) for _ in range(num_users)])\n",
    "users = Users(user_embeddings)\n",
    "PEng = ProducersEngagementGame(num_producers=num_producers, users=users, prob = 'softmax')\n",
    "NE, iters= PEng.best_response_dynamics(verbose=False)"
   ]
  },
  {
   "cell_type": "code",
   "execution_count": 12,
   "metadata": {},
   "outputs": [
    {
     "data": {
      "text/plain": [
       "(array([ 0.,  3.,  0.,  0., 11.,  0.,  0.,  7.,  9.,  0., 25., 45.,  0.,\n",
       "         0.,  0.]),\n",
       " 100.0)"
      ]
     },
     "execution_count": 12,
     "metadata": {},
     "output_type": "execute_result"
    }
   ],
   "source": [
    "NE, NE.sum()"
   ]
  }
 ],
 "metadata": {
  "kernelspec": {
   "display_name": "Python 3.10.13 ('recsys')",
   "language": "python",
   "name": "python3"
  },
  "language_info": {
   "codemirror_mode": {
    "name": "ipython",
    "version": 3
   },
   "file_extension": ".py",
   "mimetype": "text/x-python",
   "name": "python",
   "nbconvert_exporter": "python",
   "pygments_lexer": "ipython3",
   "version": "3.10.13"
  },
  "orig_nbformat": 4,
  "vscode": {
   "interpreter": {
    "hash": "ee54be9069c715697806837d8c51e202bd664c5c3200a4325dc96f05a2e1ec8f"
   }
  }
 },
 "nbformat": 4,
 "nbformat_minor": 2
}
