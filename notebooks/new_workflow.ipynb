{
 "cells": [
  {
   "cell_type": "code",
   "execution_count": 138,
   "metadata": {},
   "outputs": [],
   "source": [
    "import sys\n",
    "sys.path.append('../source/')\n",
    "import numpy as np\n",
    "from Users import Users\n",
    "from Producers import ProducersEngagementGame\n",
    "from embeddings import generate_uniform_user\n",
    "from sklearn.preprocessing import normalize"
   ]
  },
  {
   "cell_type": "markdown",
   "metadata": {},
   "source": [
    "Workflow is:\n",
    "1) Create User object\n",
    "2) Create ProducersEngagementGame\n",
    "3) Run Producer dynamics"
   ]
  },
  {
   "cell_type": "code",
   "execution_count": 120,
   "metadata": {},
   "outputs": [],
   "source": [
    "# EXPERIMENT 1 - Linear probability of RS\n",
    "dimension = 5\n",
    "num_users = 10\n",
    "num_producers = 4\n",
    "\n",
    "user_embeddings = np.array([generate_uniform_user(dimension) for _ in range(num_users)])\n",
    "users = Users(user_embeddings)\n",
    "PEng = ProducersEngagementGame(num_producers=num_producers, users=users, prob = 'linear')"
   ]
  },
  {
   "cell_type": "code",
   "execution_count": 121,
   "metadata": {},
   "outputs": [
    {
     "data": {
      "text/plain": [
       "array([[0.38039438, 0.15948064, 0.13651518, 0.21781202, 0.10579778],\n",
       "       [0.0030275 , 0.40543198, 0.07617561, 0.32280799, 0.19255693],\n",
       "       [0.11200457, 0.25205085, 0.22526089, 0.34465915, 0.06602453],\n",
       "       [0.18815378, 0.08958091, 0.34189536, 0.34684001, 0.03352993],\n",
       "       [0.14783737, 0.3841454 , 0.21132332, 0.23004451, 0.02664941],\n",
       "       [0.40295531, 0.34892141, 0.0015875 , 0.13855925, 0.10797653],\n",
       "       [0.76364291, 0.01331703, 0.11568377, 0.06523019, 0.04212611],\n",
       "       [0.02814075, 0.12851489, 0.14391109, 0.06068714, 0.63874612],\n",
       "       [0.25657492, 0.02320765, 0.09262316, 0.1509646 , 0.47662966],\n",
       "       [0.01772002, 0.12654479, 0.43756097, 0.22268329, 0.19549094]])"
      ]
     },
     "execution_count": 121,
     "metadata": {},
     "output_type": "execute_result"
    }
   ],
   "source": [
    "user_embeddings"
   ]
  },
  {
   "cell_type": "code",
   "execution_count": 133,
   "metadata": {},
   "outputs": [
    {
     "name": "stdout",
     "output_type": "stream",
     "text": [
      "##### PRODUCERS FOR ITER 0\n",
      " [[0. 0. 1. 0. 0.]\n",
      " [0. 1. 0. 0. 0.]\n",
      " [0. 0. 0. 0. 1.]\n",
      " [0. 0. 1. 0. 0.]]\n",
      "##### PRODUCERS FOR ITER 0 \n",
      " [[1. 0. 0. 0. 0.]\n",
      " [0. 1. 0. 0. 0.]\n",
      " [0. 0. 0. 0. 1.]\n",
      " [0. 0. 1. 0. 0.]]\n",
      "##### PRODUCERS FOR ITER 1 \n",
      " [[1. 0. 0. 0. 0.]\n",
      " [0. 1. 0. 0. 0.]\n",
      " [0. 0. 0. 0. 1.]\n",
      " [1. 0. 0. 0. 0.]]\n",
      "##### PRODUCERS FOR ITER 2 \n",
      " [[1. 0. 0. 0. 0.]\n",
      " [0. 0. 0. 1. 0.]\n",
      " [0. 0. 0. 0. 1.]\n",
      " [1. 0. 0. 0. 0.]]\n",
      "##### PRODUCERS FOR ITER 3 \n",
      " [[1. 0. 0. 0. 0.]\n",
      " [0. 0. 0. 1. 0.]\n",
      " [0. 0. 0. 0. 1.]\n",
      " [1. 0. 0. 0. 0.]]\n",
      "Number of iterations to coverge: 3\n"
     ]
    },
    {
     "data": {
      "text/plain": [
       "(array([2., 0., 0., 1., 1.]), 3)"
      ]
     },
     "execution_count": 133,
     "metadata": {},
     "output_type": "execute_result"
    }
   ],
   "source": [
    "PEng.best_response_dynamics(verbose=True)"
   ]
  },
  {
   "cell_type": "code",
   "execution_count": 134,
   "metadata": {},
   "outputs": [
    {
     "data": {
      "text/plain": [
       "{(2.0, 0.0, 0.0, 1.0, 1.0)}"
      ]
     },
     "execution_count": 134,
     "metadata": {},
     "output_type": "execute_result"
    }
   ],
   "source": [
    "PEng.BR_dyna_NE"
   ]
  },
  {
   "cell_type": "code",
   "execution_count": 135,
   "metadata": {},
   "outputs": [
    {
     "data": {
      "text/plain": [
       "{(2.0, 0.0, 0.0, 1.0, 1.0)}"
      ]
     },
     "execution_count": 135,
     "metadata": {},
     "output_type": "execute_result"
    }
   ],
   "source": [
    "PEng.brute_force_NEsearch()"
   ]
  },
  {
   "cell_type": "code",
   "execution_count": 136,
   "metadata": {},
   "outputs": [
    {
     "data": {
      "text/plain": [
       "{(2.0, 0.0, 0.0, 1.0, 1.0)}"
      ]
     },
     "execution_count": 136,
     "metadata": {},
     "output_type": "execute_result"
    }
   ],
   "source": [
    "PEng.BruteForce_NE"
   ]
  },
  {
   "cell_type": "code",
   "execution_count": 15,
   "metadata": {},
   "outputs": [
    {
     "data": {
      "text/plain": [
       "(array([2., 1., 2.]), 5.0)"
      ]
     },
     "execution_count": 15,
     "metadata": {},
     "output_type": "execute_result"
    }
   ],
   "source": [
    "NE, NE.sum()"
   ]
  },
  {
   "cell_type": "code",
   "execution_count": 11,
   "metadata": {},
   "outputs": [],
   "source": [
    "# EXPERIMENT 2 - Softmax probability of RS\n",
    "dimension = 15\n",
    "num_users = 1000\n",
    "num_producers = 100\n",
    "\n",
    "user_embeddings = np.array([generate_uniform_user(dimension) for _ in range(num_users)])\n",
    "users = Users(user_embeddings)\n",
    "PEng = ProducersEngagementGame(num_producers=num_producers, users=users, prob = 'softmax')\n",
    "NE, iters= PEng.best_response_dynamics(verbose=False)"
   ]
  },
  {
   "cell_type": "code",
   "execution_count": 12,
   "metadata": {},
   "outputs": [
    {
     "data": {
      "text/plain": [
       "(array([ 0.,  3.,  0.,  0., 11.,  0.,  0.,  7.,  9.,  0., 25., 45.,  0.,\n",
       "         0.,  0.]),\n",
       " 100.0)"
      ]
     },
     "execution_count": 12,
     "metadata": {},
     "output_type": "execute_result"
    }
   ],
   "source": [
    "NE, NE.sum()"
   ]
  },
  {
   "cell_type": "code",
   "execution_count": 175,
   "metadata": {},
   "outputs": [],
   "source": [
    "# Experiment - 3, user embeddings sorted, softmax probability\n",
    "num_users = 1000\n",
    "dimension = 15\n",
    "num_producers = 100\n",
    "feature_weights = np.sort(generate_uniform_user(dimension))\n",
    "unweighted_array = np.array([generate_uniform_user(dimension) for i in range(num_users)])\n",
    "user_embeddings = normalize(np.multiply(feature_weights,unweighted_array),\"l1\")"
   ]
  },
  {
   "cell_type": "code",
   "execution_count": 176,
   "metadata": {},
   "outputs": [
    {
     "data": {
      "text/plain": [
       "(array([  9.72655803,  10.87518798,  20.85154254,  21.33576737,\n",
       "         29.85898003,  41.6220864 ,  48.88586949,  61.82964795,\n",
       "         65.58215433,  91.53915927,  95.07188414, 100.5710156 ,\n",
       "        107.2685074 , 112.10764588, 182.87399358]),\n",
       " (1000, 15))"
      ]
     },
     "execution_count": 176,
     "metadata": {},
     "output_type": "execute_result"
    }
   ],
   "source": [
    "user_embeddings.sum(axis=0), user_embeddings.shape"
   ]
  },
  {
   "cell_type": "code",
   "execution_count": 177,
   "metadata": {},
   "outputs": [],
   "source": [
    "runs = 10"
   ]
  },
  {
   "cell_type": "code",
   "execution_count": 178,
   "metadata": {},
   "outputs": [],
   "source": [
    "users = Users(user_embeddings)\n",
    "PEng = ProducersEngagementGame(num_producers=num_producers, users=users, prob = 'linear')\n",
    "for run in range(runs):\n",
    "    PEng.best_response_dynamics(verbose=False) # runs a single best response dynamics\n",
    "NE_linear = PEng.BR_dyna_NE"
   ]
  },
  {
   "cell_type": "code",
   "execution_count": 179,
   "metadata": {},
   "outputs": [],
   "source": [
    "users = Users(user_embeddings)\n",
    "PEng = ProducersEngagementGame(num_producers=num_producers, users=users, prob = 'softmax')\n",
    "for run in range(runs):\n",
    "    PEng.best_response_dynamics(verbose=False) # runs a single best response dynamics\n",
    "NE_softmax = PEng.BR_dyna_NE"
   ]
  },
  {
   "cell_type": "code",
   "execution_count": 180,
   "metadata": {},
   "outputs": [
    {
     "name": "stdout",
     "output_type": "stream",
     "text": [
      "{(0.0, 0.0, 0.0, 0.0, 0.0, 0.0, 0.0, 0.0, 0.0, 1.0, 1.0, 5.0, 8.0, 9.0, 76.0)}\n",
      "{(0.0, 0.0, 0.0, 0.0, 0.0, 0.0, 0.0, 0.0, 0.0, 0.0, 0.0, 0.0, 0.0, 0.0, 100.0)}\n"
     ]
    }
   ],
   "source": [
    "print(NE_linear)\n",
    "print(NE_softmax)"
   ]
  },
  {
   "cell_type": "code",
   "execution_count": 154,
   "metadata": {},
   "outputs": [
    {
     "data": {
      "text/plain": [
       "{(0.0, 0.0, 0.0, 0.0, 0.0, 0.0, 0.0, 0.0, 0.0, 0.0, 0.0, 0.0, 0.0, 0.0, 100.0)}"
      ]
     },
     "execution_count": 154,
     "metadata": {},
     "output_type": "execute_result"
    }
   ],
   "source": [
    "PEng.BR_dyna_NE"
   ]
  },
  {
   "cell_type": "code",
   "execution_count": null,
   "metadata": {},
   "outputs": [],
   "source": []
  }
 ],
 "metadata": {
  "kernelspec": {
   "display_name": "Python 3.10.13 ('recsys')",
   "language": "python",
   "name": "python3"
  },
  "language_info": {
   "codemirror_mode": {
    "name": "ipython",
    "version": 3
   },
   "file_extension": ".py",
   "mimetype": "text/x-python",
   "name": "python",
   "nbconvert_exporter": "python",
   "pygments_lexer": "ipython3",
   "version": "3.10.13"
  },
  "orig_nbformat": 4,
  "vscode": {
   "interpreter": {
    "hash": "ee54be9069c715697806837d8c51e202bd664c5c3200a4325dc96f05a2e1ec8f"
   }
  }
 },
 "nbformat": 4,
 "nbformat_minor": 2
}
