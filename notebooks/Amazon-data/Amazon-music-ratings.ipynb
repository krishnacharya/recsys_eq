{
 "cells": [
  {
   "cell_type": "code",
   "execution_count": 3,
   "id": "d7a7d53d",
   "metadata": {},
   "outputs": [],
   "source": [
    "import pandas as pd\n",
    "from surprise import NMF,SVD\n",
    "from surprise.model_selection import cross_validate"
   ]
  },
  {
   "cell_type": "code",
   "execution_count": 4,
   "id": "4e3efcc6",
   "metadata": {},
   "outputs": [],
   "source": [
    "df = pd.read_csv('Digital_Music.csv')"
   ]
  },
  {
   "cell_type": "code",
   "execution_count": 5,
   "id": "d32d2135",
   "metadata": {},
   "outputs": [
    {
     "data": {
      "text/html": [
       "<div>\n",
       "<style scoped>\n",
       "    .dataframe tbody tr th:only-of-type {\n",
       "        vertical-align: middle;\n",
       "    }\n",
       "\n",
       "    .dataframe tbody tr th {\n",
       "        vertical-align: top;\n",
       "    }\n",
       "\n",
       "    .dataframe thead th {\n",
       "        text-align: right;\n",
       "    }\n",
       "</style>\n",
       "<table border=\"1\" class=\"dataframe\">\n",
       "  <thead>\n",
       "    <tr style=\"text-align: right;\">\n",
       "      <th></th>\n",
       "      <th>item_id</th>\n",
       "      <th>user_id</th>\n",
       "      <th>rating</th>\n",
       "      <th>timestamp</th>\n",
       "    </tr>\n",
       "  </thead>\n",
       "  <tbody>\n",
       "    <tr>\n",
       "      <th>0</th>\n",
       "      <td>0001388703</td>\n",
       "      <td>A1ZCPG3D3HGRSS</td>\n",
       "      <td>5.0</td>\n",
       "      <td>1387670400</td>\n",
       "    </tr>\n",
       "    <tr>\n",
       "      <th>1</th>\n",
       "      <td>0001388703</td>\n",
       "      <td>AC2PL52NKPL29</td>\n",
       "      <td>5.0</td>\n",
       "      <td>1378857600</td>\n",
       "    </tr>\n",
       "    <tr>\n",
       "      <th>2</th>\n",
       "      <td>0001388703</td>\n",
       "      <td>A1SUZXBDZSDQ3A</td>\n",
       "      <td>5.0</td>\n",
       "      <td>1362182400</td>\n",
       "    </tr>\n",
       "    <tr>\n",
       "      <th>3</th>\n",
       "      <td>0001388703</td>\n",
       "      <td>A3A0W7FZXM0IZW</td>\n",
       "      <td>5.0</td>\n",
       "      <td>1354406400</td>\n",
       "    </tr>\n",
       "    <tr>\n",
       "      <th>4</th>\n",
       "      <td>0001388703</td>\n",
       "      <td>A12R54MKO17TW0</td>\n",
       "      <td>5.0</td>\n",
       "      <td>1325894400</td>\n",
       "    </tr>\n",
       "    <tr>\n",
       "      <th>...</th>\n",
       "      <td>...</td>\n",
       "      <td>...</td>\n",
       "      <td>...</td>\n",
       "      <td>...</td>\n",
       "    </tr>\n",
       "    <tr>\n",
       "      <th>1584077</th>\n",
       "      <td>B01HJ91P94</td>\n",
       "      <td>AR3KABMPL5L0O</td>\n",
       "      <td>5.0</td>\n",
       "      <td>1520035200</td>\n",
       "    </tr>\n",
       "    <tr>\n",
       "      <th>1584078</th>\n",
       "      <td>B01HJ91P94</td>\n",
       "      <td>A2N53GHW73INDH</td>\n",
       "      <td>4.0</td>\n",
       "      <td>1516752000</td>\n",
       "    </tr>\n",
       "    <tr>\n",
       "      <th>1584079</th>\n",
       "      <td>B01HJ91P94</td>\n",
       "      <td>ABNKLDCCVJKW1</td>\n",
       "      <td>5.0</td>\n",
       "      <td>1492732800</td>\n",
       "    </tr>\n",
       "    <tr>\n",
       "      <th>1584080</th>\n",
       "      <td>B01HJ91IVY</td>\n",
       "      <td>AMWSDABZWFRAT</td>\n",
       "      <td>5.0</td>\n",
       "      <td>1519344000</td>\n",
       "    </tr>\n",
       "    <tr>\n",
       "      <th>1584081</th>\n",
       "      <td>B01HJ91IVY</td>\n",
       "      <td>A7K5263R5OUIP</td>\n",
       "      <td>5.0</td>\n",
       "      <td>1494979200</td>\n",
       "    </tr>\n",
       "  </tbody>\n",
       "</table>\n",
       "<p>1584082 rows × 4 columns</p>\n",
       "</div>"
      ],
      "text/plain": [
       "            item_id         user_id  rating   timestamp\n",
       "0        0001388703  A1ZCPG3D3HGRSS     5.0  1387670400\n",
       "1        0001388703   AC2PL52NKPL29     5.0  1378857600\n",
       "2        0001388703  A1SUZXBDZSDQ3A     5.0  1362182400\n",
       "3        0001388703  A3A0W7FZXM0IZW     5.0  1354406400\n",
       "4        0001388703  A12R54MKO17TW0     5.0  1325894400\n",
       "...             ...             ...     ...         ...\n",
       "1584077  B01HJ91P94   AR3KABMPL5L0O     5.0  1520035200\n",
       "1584078  B01HJ91P94  A2N53GHW73INDH     4.0  1516752000\n",
       "1584079  B01HJ91P94   ABNKLDCCVJKW1     5.0  1492732800\n",
       "1584080  B01HJ91IVY   AMWSDABZWFRAT     5.0  1519344000\n",
       "1584081  B01HJ91IVY   A7K5263R5OUIP     5.0  1494979200\n",
       "\n",
       "[1584082 rows x 4 columns]"
      ]
     },
     "execution_count": 5,
     "metadata": {},
     "output_type": "execute_result"
    }
   ],
   "source": [
    "df"
   ]
  },
  {
   "cell_type": "code",
   "execution_count": 6,
   "id": "3965b259",
   "metadata": {},
   "outputs": [
    {
     "data": {
      "text/plain": [
       "456992"
      ]
     },
     "execution_count": 6,
     "metadata": {},
     "output_type": "execute_result"
    }
   ],
   "source": [
    "len(df['item_id'].unique())"
   ]
  },
  {
   "cell_type": "code",
   "execution_count": 7,
   "id": "ea806f1b",
   "metadata": {},
   "outputs": [
    {
     "data": {
      "text/plain": [
       "840372"
      ]
     },
     "execution_count": 7,
     "metadata": {},
     "output_type": "execute_result"
    }
   ],
   "source": [
    "len(df['user_id'].unique())"
   ]
  },
  {
   "cell_type": "code",
   "execution_count": 8,
   "id": "74ff930c",
   "metadata": {},
   "outputs": [
    {
     "data": {
      "text/plain": [
       "numpy.float64"
      ]
     },
     "execution_count": 8,
     "metadata": {},
     "output_type": "execute_result"
    }
   ],
   "source": [
    "type(df['rating'].unique()[0])"
   ]
  },
  {
   "cell_type": "code",
   "execution_count": 9,
   "id": "7631ce43",
   "metadata": {},
   "outputs": [
    {
     "data": {
      "text/html": [
       "<div>\n",
       "<style scoped>\n",
       "    .dataframe tbody tr th:only-of-type {\n",
       "        vertical-align: middle;\n",
       "    }\n",
       "\n",
       "    .dataframe tbody tr th {\n",
       "        vertical-align: top;\n",
       "    }\n",
       "\n",
       "    .dataframe thead th {\n",
       "        text-align: right;\n",
       "    }\n",
       "</style>\n",
       "<table border=\"1\" class=\"dataframe\">\n",
       "  <thead>\n",
       "    <tr style=\"text-align: right;\">\n",
       "      <th></th>\n",
       "      <th>is_null_count</th>\n",
       "    </tr>\n",
       "  </thead>\n",
       "  <tbody>\n",
       "    <tr>\n",
       "      <th>item_id</th>\n",
       "      <td>0</td>\n",
       "    </tr>\n",
       "    <tr>\n",
       "      <th>user_id</th>\n",
       "      <td>0</td>\n",
       "    </tr>\n",
       "    <tr>\n",
       "      <th>rating</th>\n",
       "      <td>0</td>\n",
       "    </tr>\n",
       "    <tr>\n",
       "      <th>timestamp</th>\n",
       "      <td>0</td>\n",
       "    </tr>\n",
       "  </tbody>\n",
       "</table>\n",
       "</div>"
      ],
      "text/plain": [
       "           is_null_count\n",
       "item_id                0\n",
       "user_id                0\n",
       "rating                 0\n",
       "timestamp              0"
      ]
     },
     "execution_count": 9,
     "metadata": {},
     "output_type": "execute_result"
    }
   ],
   "source": [
    "pd.DataFrame({\"is_null_count\": df.isna().sum()}) "
   ]
  },
  {
   "cell_type": "code",
   "execution_count": 10,
   "id": "dd87ae76",
   "metadata": {},
   "outputs": [],
   "source": [
    "df = df[['user_id','item_id','rating']]"
   ]
  },
  {
   "cell_type": "code",
   "execution_count": 11,
   "id": "7a8a9a61",
   "metadata": {},
   "outputs": [
    {
     "data": {
      "text/html": [
       "<div>\n",
       "<style scoped>\n",
       "    .dataframe tbody tr th:only-of-type {\n",
       "        vertical-align: middle;\n",
       "    }\n",
       "\n",
       "    .dataframe tbody tr th {\n",
       "        vertical-align: top;\n",
       "    }\n",
       "\n",
       "    .dataframe thead th {\n",
       "        text-align: right;\n",
       "    }\n",
       "</style>\n",
       "<table border=\"1\" class=\"dataframe\">\n",
       "  <thead>\n",
       "    <tr style=\"text-align: right;\">\n",
       "      <th></th>\n",
       "      <th>user_id</th>\n",
       "      <th>item_id</th>\n",
       "      <th>rating</th>\n",
       "    </tr>\n",
       "  </thead>\n",
       "  <tbody>\n",
       "    <tr>\n",
       "      <th>0</th>\n",
       "      <td>A1ZCPG3D3HGRSS</td>\n",
       "      <td>0001388703</td>\n",
       "      <td>5.0</td>\n",
       "    </tr>\n",
       "    <tr>\n",
       "      <th>1</th>\n",
       "      <td>AC2PL52NKPL29</td>\n",
       "      <td>0001388703</td>\n",
       "      <td>5.0</td>\n",
       "    </tr>\n",
       "    <tr>\n",
       "      <th>2</th>\n",
       "      <td>A1SUZXBDZSDQ3A</td>\n",
       "      <td>0001388703</td>\n",
       "      <td>5.0</td>\n",
       "    </tr>\n",
       "    <tr>\n",
       "      <th>3</th>\n",
       "      <td>A3A0W7FZXM0IZW</td>\n",
       "      <td>0001388703</td>\n",
       "      <td>5.0</td>\n",
       "    </tr>\n",
       "    <tr>\n",
       "      <th>4</th>\n",
       "      <td>A12R54MKO17TW0</td>\n",
       "      <td>0001388703</td>\n",
       "      <td>5.0</td>\n",
       "    </tr>\n",
       "    <tr>\n",
       "      <th>...</th>\n",
       "      <td>...</td>\n",
       "      <td>...</td>\n",
       "      <td>...</td>\n",
       "    </tr>\n",
       "    <tr>\n",
       "      <th>1584077</th>\n",
       "      <td>AR3KABMPL5L0O</td>\n",
       "      <td>B01HJ91P94</td>\n",
       "      <td>5.0</td>\n",
       "    </tr>\n",
       "    <tr>\n",
       "      <th>1584078</th>\n",
       "      <td>A2N53GHW73INDH</td>\n",
       "      <td>B01HJ91P94</td>\n",
       "      <td>4.0</td>\n",
       "    </tr>\n",
       "    <tr>\n",
       "      <th>1584079</th>\n",
       "      <td>ABNKLDCCVJKW1</td>\n",
       "      <td>B01HJ91P94</td>\n",
       "      <td>5.0</td>\n",
       "    </tr>\n",
       "    <tr>\n",
       "      <th>1584080</th>\n",
       "      <td>AMWSDABZWFRAT</td>\n",
       "      <td>B01HJ91IVY</td>\n",
       "      <td>5.0</td>\n",
       "    </tr>\n",
       "    <tr>\n",
       "      <th>1584081</th>\n",
       "      <td>A7K5263R5OUIP</td>\n",
       "      <td>B01HJ91IVY</td>\n",
       "      <td>5.0</td>\n",
       "    </tr>\n",
       "  </tbody>\n",
       "</table>\n",
       "<p>1584082 rows × 3 columns</p>\n",
       "</div>"
      ],
      "text/plain": [
       "                user_id     item_id  rating\n",
       "0        A1ZCPG3D3HGRSS  0001388703     5.0\n",
       "1         AC2PL52NKPL29  0001388703     5.0\n",
       "2        A1SUZXBDZSDQ3A  0001388703     5.0\n",
       "3        A3A0W7FZXM0IZW  0001388703     5.0\n",
       "4        A12R54MKO17TW0  0001388703     5.0\n",
       "...                 ...         ...     ...\n",
       "1584077   AR3KABMPL5L0O  B01HJ91P94     5.0\n",
       "1584078  A2N53GHW73INDH  B01HJ91P94     4.0\n",
       "1584079   ABNKLDCCVJKW1  B01HJ91P94     5.0\n",
       "1584080   AMWSDABZWFRAT  B01HJ91IVY     5.0\n",
       "1584081   A7K5263R5OUIP  B01HJ91IVY     5.0\n",
       "\n",
       "[1584082 rows x 3 columns]"
      ]
     },
     "execution_count": 11,
     "metadata": {},
     "output_type": "execute_result"
    }
   ],
   "source": [
    "df #has like 1.5 million rows"
   ]
  },
  {
   "cell_type": "code",
   "execution_count": 12,
   "id": "aef015fe",
   "metadata": {},
   "outputs": [],
   "source": [
    "from surprise import Dataset, NormalPredictor, Reader\n",
    "from surprise.model_selection import train_test_split\n",
    "\n",
    "reader = Reader(rating_scale=(1, 5))\n",
    "data = Dataset.load_from_df(df, reader)"
   ]
  },
  {
   "cell_type": "code",
   "execution_count": 13,
   "id": "4cfc0eac-076e-4bcd-9444-c3781df2c723",
   "metadata": {},
   "outputs": [],
   "source": [
    "trainset, testset = train_test_split(data, test_size=0.1)"
   ]
  },
  {
   "cell_type": "code",
   "execution_count": 14,
   "id": "e1c86538",
   "metadata": {},
   "outputs": [
    {
     "data": {
      "text/plain": [
       "<surprise.prediction_algorithms.matrix_factorization.NMF at 0x7f2a12b7d0c0>"
      ]
     },
     "execution_count": 14,
     "metadata": {},
     "output_type": "execute_result"
    }
   ],
   "source": [
    "algo = NMF(n_factors = 10) #maximum memory consumption like 2G\n",
    "algo.fit(trainset)\n",
    "# cross_validate(algo, data, measures=['RMSE', 'MAE'], cv=5, verbose=True)"
   ]
  },
  {
   "cell_type": "code",
   "execution_count": 15,
   "id": "c21507cd-19d1-4bff-b7e6-5f47af333456",
   "metadata": {},
   "outputs": [
    {
     "name": "stdout",
     "output_type": "stream",
     "text": [
      "RMSE: 1.0499\n"
     ]
    },
    {
     "data": {
      "text/plain": [
       "1.0498649231909412"
      ]
     },
     "execution_count": 15,
     "metadata": {},
     "output_type": "execute_result"
    }
   ],
   "source": [
    "from surprise import accuracy\n",
    "predictions = algo.test(testset)\n",
    "accuracy.rmse(predictions)\n"
   ]
  },
  {
   "cell_type": "code",
   "execution_count": 16,
   "id": "0621f28e",
   "metadata": {},
   "outputs": [
    {
     "name": "stdout",
     "output_type": "stream",
     "text": [
      "(778763, 10)\n"
     ]
    }
   ],
   "source": [
    "from sklearn.preprocessing import normalize\n",
    "print(algo.pu.shape)\n",
    "normalized_embeddings = normalize(algo.pu,  norm = \"l1\")"
   ]
  },
  {
   "cell_type": "code",
   "execution_count": 17,
   "id": "3ed2b543",
   "metadata": {},
   "outputs": [
    {
     "data": {
      "text/plain": [
       "array([0.1001467 , 0.09996396, 0.10023176, 0.10048728, 0.09947658,\n",
       "       0.09979998, 0.10015715, 0.10039907, 0.09969974, 0.09963777])"
      ]
     },
     "execution_count": 17,
     "metadata": {},
     "output_type": "execute_result"
    }
   ],
   "source": [
    "normalized_embeddings.mean(axis=0)"
   ]
  },
  {
   "cell_type": "code",
   "execution_count": 18,
   "id": "1b86734e",
   "metadata": {},
   "outputs": [
    {
     "data": {
      "text/plain": [
       "array([0.05453889, 0.0542316 , 0.05430859, 0.05428767, 0.05416475,\n",
       "       0.05436459, 0.05438067, 0.05457235, 0.05428547, 0.05429899])"
      ]
     },
     "execution_count": 18,
     "metadata": {},
     "output_type": "execute_result"
    }
   ],
   "source": [
    "normalized_embeddings.std(axis=0)"
   ]
  },
  {
   "cell_type": "code",
   "execution_count": null,
   "id": "da799eda-89f8-4dc9-aef2-503cd48ae362",
   "metadata": {},
   "outputs": [],
   "source": []
  }
 ],
 "metadata": {
  "kernelspec": {
   "display_name": "recsys",
   "language": "python",
   "name": "recsys"
  },
  "language_info": {
   "codemirror_mode": {
    "name": "ipython",
    "version": 3
   },
   "file_extension": ".py",
   "mimetype": "text/x-python",
   "name": "python",
   "nbconvert_exporter": "python",
   "pygments_lexer": "ipython3",
   "version": "3.10.13"
  }
 },
 "nbformat": 4,
 "nbformat_minor": 5
}
