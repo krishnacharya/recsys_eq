{
 "cells": [
  {
   "cell_type": "markdown",
   "id": "68159b3e",
   "metadata": {},
   "source": [
    "Fix the number of users and dimension\n",
    "Increase the number of producers\n",
    "\n",
    "### Track the following\n",
    "All engagement\n",
    "- Total producer utility, Total user engagement [Sanity check both should be same]\n",
    "- Average producer utility, min producer utility, max producer utility\n",
    "- Average user utility, min user utility, max user utility"
   ]
  },
  {
   "cell_type": "code",
   "execution_count": 1,
   "id": "5f4c0998",
   "metadata": {},
   "outputs": [],
   "source": [
    "import sys\n",
    "sys.path.append('../source/')\n",
    "import numpy as np\n",
    "from Users import Users\n",
    "from Producers import *\n",
    "from embeddings import *\n",
    "from sklearn.preprocessing import normalize\n",
    "from plotting import *\n",
    "from tqdm import tqdm\n",
    "import pandas as pd"
   ]
  },
  {
   "cell_type": "code",
   "execution_count": 10,
   "id": "a2f1e76d",
   "metadata": {},
   "outputs": [
    {
     "data": {
      "text/plain": [
       "10"
      ]
     },
     "execution_count": 10,
     "metadata": {},
     "output_type": "execute_result"
    }
   ],
   "source": [
    "seeds = [2, 3, 5, 7, 11, 13, 17, 19, 23, 29] # seeds for reproducibilit of NMF factorizations\n",
    "len(seeds)"
   ]
  },
  {
   "cell_type": "code",
   "execution_count": null,
   "id": "382a06ed",
   "metadata": {},
   "outputs": [],
   "source": [
    "def get_df_increasing_prods(user_embeddding, prob_type = 'linear', n_prodarr = [5, 10, 50, 100, 200]):\n",
    "  n_users, dimension = user_embeddding.shape\n",
    "  res = []\n",
    "  for n_prod in n_prodarr:\n",
    "    PEng = ProducersEngagementGame(num_producers = n_prod, users = Users(user_embeddding), prob = prob_type)\n",
    "    NE, NE_compact, iters = PEng.best_response_dynamics(verbose=False)\n",
    "    dir_prods, prod_utils, user_utils = get_all_engagement_utilities(NE, user_embeddding, prob_type = prob_type)\n",
    "    di = {\n",
    "        'seed': seed,\n",
    "        'n_prod' : n_prod,\n",
    "        'NE_compact' : NE_compact,\n",
    "        'prod_dist' : NE_compact / n_prod,\n",
    "        'user_dist': user_embeddding.sum(axis = 0) / n_users,\n",
    "        'iters_to_NE':iters,\n",
    "        \n",
    "        'total_prod_util': prod_utils.sum(),\n",
    "        'avg_prod_util': prod_utils.mean(),\n",
    "        'max_prod_util': prod_utils.max(),\n",
    "        'min_prod_util': prod_utils.min(),\n",
    "        \n",
    "        'total_user_util': user_utils.sum(),\n",
    "        'avg_user_util': user_utils.mean(),\n",
    "        'max_user_util': user_utils.max(),\n",
    "        'min_user_util': user_utils.min(),\n",
    "      }\n",
    "    res.append(di)\n",
    "  return pd.DataFrame(res)"
   ]
  },
  {
   "cell_type": "code",
   "execution_count": null,
   "id": "c7cf65db",
   "metadata": {},
   "outputs": [],
   "source": [
    "for seed in seeds:\n",
    "  np.random.seed()"
   ]
  },
  {
   "cell_type": "code",
   "execution_count": 9,
   "id": "0e3d6ac3",
   "metadata": {},
   "outputs": [],
   "source": []
  },
  {
   "cell_type": "code",
   "execution_count": 5,
   "id": "4513a4d1",
   "metadata": {},
   "outputs": [],
   "source": [
    "_, nue5  = user_embeddings_movielens100k_nmf(dimension =  5)\n",
    "_, nue10 = user_embeddings_movielens100k_nmf(dimension = 10)\n",
    "_, nue15 = user_embeddings_movielens100k_nmf(dimension = 15)"
   ]
  },
  {
   "cell_type": "code",
   "execution_count": 6,
   "id": "1ee6ba40",
   "metadata": {},
   "outputs": [],
   "source": [
    "n_prodarr = [5, 10, 50, 100, 200]"
   ]
  },
  {
   "cell_type": "code",
   "execution_count": 7,
   "id": "a2c5568b",
   "metadata": {},
   "outputs": [
    {
     "name": "stdout",
     "output_type": "stream",
     "text": [
      "943 943.0\n"
     ]
    },
    {
     "name": "stderr",
     "output_type": "stream",
     "text": [
      "\r",
      "  0%|                                                     | 0/5 [00:00<?, ?it/s]"
     ]
    },
    {
     "name": "stdout",
     "output_type": "stream",
     "text": [
      "(5, 5) 5.0 5\n",
      "(10, 5) 10.0 10\n",
      "(50, 5) 50.0 50\n"
     ]
    },
    {
     "name": "stderr",
     "output_type": "stream",
     "text": [
      "\r",
      " 80%|████████████████████████████████████         | 4/5 [00:00<00:00, 15.54it/s]"
     ]
    },
    {
     "name": "stdout",
     "output_type": "stream",
     "text": [
      "(100, 5) 100.0 100\n"
     ]
    },
    {
     "name": "stderr",
     "output_type": "stream",
     "text": [
      "100%|█████████████████████████████████████████████| 5/5 [00:01<00:00,  4.15it/s]\n"
     ]
    },
    {
     "name": "stdout",
     "output_type": "stream",
     "text": [
      "(200, 5) 200.0 200\n",
      "943 943.0\n"
     ]
    },
    {
     "name": "stderr",
     "output_type": "stream",
     "text": [
      "\r",
      "  0%|                                                     | 0/5 [00:00<?, ?it/s]"
     ]
    },
    {
     "name": "stdout",
     "output_type": "stream",
     "text": [
      "(5, 5) 5.0 5\n",
      "(10, 5) 10.0 10\n"
     ]
    },
    {
     "name": "stderr",
     "output_type": "stream",
     "text": [
      "\r",
      " 60%|███████████████████████████                  | 3/5 [00:00<00:00, 11.42it/s]"
     ]
    },
    {
     "name": "stdout",
     "output_type": "stream",
     "text": [
      "(50, 5) 50.0 50\n",
      "(100, 5) 100.0 100\n"
     ]
    },
    {
     "name": "stderr",
     "output_type": "stream",
     "text": [
      "100%|█████████████████████████████████████████████| 5/5 [00:11<00:00,  2.20s/it]"
     ]
    },
    {
     "name": "stdout",
     "output_type": "stream",
     "text": [
      "(200, 5) 200.0 200\n"
     ]
    },
    {
     "name": "stderr",
     "output_type": "stream",
     "text": [
      "\n"
     ]
    }
   ],
   "source": [
    "df_linear = get_df_increasing_prods(nue5, prob_type = 'linear')\n",
    "df_softmax = get_df_increasing_prods(nue5, prob_type = 'softmax')"
   ]
  },
  {
   "cell_type": "code",
   "execution_count": 8,
   "id": "fe0dfa07",
   "metadata": {},
   "outputs": [
    {
     "data": {
      "text/html": [
       "<div>\n",
       "<style scoped>\n",
       "    .dataframe tbody tr th:only-of-type {\n",
       "        vertical-align: middle;\n",
       "    }\n",
       "\n",
       "    .dataframe tbody tr th {\n",
       "        vertical-align: top;\n",
       "    }\n",
       "\n",
       "    .dataframe thead th {\n",
       "        text-align: right;\n",
       "    }\n",
       "</style>\n",
       "<table border=\"1\" class=\"dataframe\">\n",
       "  <thead>\n",
       "    <tr style=\"text-align: right;\">\n",
       "      <th></th>\n",
       "      <th>n_prod</th>\n",
       "      <th>iters_to_NE</th>\n",
       "      <th>total_prod_util</th>\n",
       "      <th>avg_prod_util</th>\n",
       "      <th>max_prod_util</th>\n",
       "      <th>min_prod_util</th>\n",
       "      <th>total_user_util</th>\n",
       "      <th>avg_user_util</th>\n",
       "      <th>max_user_util</th>\n",
       "      <th>min_user_util</th>\n",
       "    </tr>\n",
       "  </thead>\n",
       "  <tbody>\n",
       "    <tr>\n",
       "      <th>0</th>\n",
       "      <td>False</td>\n",
       "      <td>False</td>\n",
       "      <td>True</td>\n",
       "      <td>True</td>\n",
       "      <td>True</td>\n",
       "      <td>True</td>\n",
       "      <td>True</td>\n",
       "      <td>True</td>\n",
       "      <td>False</td>\n",
       "      <td>True</td>\n",
       "    </tr>\n",
       "    <tr>\n",
       "      <th>1</th>\n",
       "      <td>False</td>\n",
       "      <td>False</td>\n",
       "      <td>True</td>\n",
       "      <td>True</td>\n",
       "      <td>True</td>\n",
       "      <td>True</td>\n",
       "      <td>True</td>\n",
       "      <td>True</td>\n",
       "      <td>True</td>\n",
       "      <td>True</td>\n",
       "    </tr>\n",
       "    <tr>\n",
       "      <th>2</th>\n",
       "      <td>False</td>\n",
       "      <td>False</td>\n",
       "      <td>True</td>\n",
       "      <td>True</td>\n",
       "      <td>True</td>\n",
       "      <td>True</td>\n",
       "      <td>True</td>\n",
       "      <td>True</td>\n",
       "      <td>True</td>\n",
       "      <td>True</td>\n",
       "    </tr>\n",
       "    <tr>\n",
       "      <th>3</th>\n",
       "      <td>False</td>\n",
       "      <td>False</td>\n",
       "      <td>True</td>\n",
       "      <td>True</td>\n",
       "      <td>True</td>\n",
       "      <td>True</td>\n",
       "      <td>True</td>\n",
       "      <td>True</td>\n",
       "      <td>True</td>\n",
       "      <td>True</td>\n",
       "    </tr>\n",
       "    <tr>\n",
       "      <th>4</th>\n",
       "      <td>False</td>\n",
       "      <td>False</td>\n",
       "      <td>True</td>\n",
       "      <td>True</td>\n",
       "      <td>True</td>\n",
       "      <td>True</td>\n",
       "      <td>True</td>\n",
       "      <td>True</td>\n",
       "      <td>True</td>\n",
       "      <td>True</td>\n",
       "    </tr>\n",
       "  </tbody>\n",
       "</table>\n",
       "</div>"
      ],
      "text/plain": [
       "   n_prod  iters_to_NE  total_prod_util  avg_prod_util  max_prod_util  \\\n",
       "0   False        False             True           True           True   \n",
       "1   False        False             True           True           True   \n",
       "2   False        False             True           True           True   \n",
       "3   False        False             True           True           True   \n",
       "4   False        False             True           True           True   \n",
       "\n",
       "   min_prod_util  total_user_util  avg_user_util  max_user_util  min_user_util  \n",
       "0           True             True           True          False           True  \n",
       "1           True             True           True           True           True  \n",
       "2           True             True           True           True           True  \n",
       "3           True             True           True           True           True  \n",
       "4           True             True           True           True           True  "
      ]
     },
     "execution_count": 8,
     "metadata": {},
     "output_type": "execute_result"
    }
   ],
   "source": [
    "df_linear.drop(['NE_compact','prod_dist', 'user_dist'], axis=1) > \\\n",
    "df_softmax.drop(['NE_compact','prod_dist', 'user_dist'], axis=1)"
   ]
  },
  {
   "cell_type": "code",
   "execution_count": 26,
   "id": "d2d229b1",
   "metadata": {},
   "outputs": [
    {
     "data": {
      "text/html": [
       "<div>\n",
       "<style scoped>\n",
       "    .dataframe tbody tr th:only-of-type {\n",
       "        vertical-align: middle;\n",
       "    }\n",
       "\n",
       "    .dataframe tbody tr th {\n",
       "        vertical-align: top;\n",
       "    }\n",
       "\n",
       "    .dataframe thead th {\n",
       "        text-align: right;\n",
       "    }\n",
       "</style>\n",
       "<table border=\"1\" class=\"dataframe\">\n",
       "  <thead>\n",
       "    <tr style=\"text-align: right;\">\n",
       "      <th></th>\n",
       "      <th>n_prod</th>\n",
       "      <th>iters_to_NE</th>\n",
       "      <th>total_prod_util</th>\n",
       "      <th>avg_prod_util</th>\n",
       "      <th>max_prod_util</th>\n",
       "      <th>min_prod_util</th>\n",
       "      <th>total_user_util</th>\n",
       "      <th>avg_user_util</th>\n",
       "      <th>max_user_util</th>\n",
       "      <th>min_user_util</th>\n",
       "    </tr>\n",
       "  </thead>\n",
       "  <tbody>\n",
       "    <tr>\n",
       "      <th>0</th>\n",
       "      <td>5</td>\n",
       "      <td>2</td>\n",
       "      <td>227.428385</td>\n",
       "      <td>45.485677</td>\n",
       "      <td>47.371321</td>\n",
       "      <td>43.772186</td>\n",
       "      <td>227.428385</td>\n",
       "      <td>0.241175</td>\n",
       "      <td>0.568146</td>\n",
       "      <td>0.159102</td>\n",
       "    </tr>\n",
       "    <tr>\n",
       "      <th>1</th>\n",
       "      <td>10</td>\n",
       "      <td>5</td>\n",
       "      <td>228.053466</td>\n",
       "      <td>22.805347</td>\n",
       "      <td>23.158877</td>\n",
       "      <td>22.231496</td>\n",
       "      <td>228.053466</td>\n",
       "      <td>0.241838</td>\n",
       "      <td>0.587159</td>\n",
       "      <td>0.160932</td>\n",
       "    </tr>\n",
       "    <tr>\n",
       "      <th>2</th>\n",
       "      <td>50</td>\n",
       "      <td>19</td>\n",
       "      <td>227.902005</td>\n",
       "      <td>4.558040</td>\n",
       "      <td>4.570095</td>\n",
       "      <td>4.541110</td>\n",
       "      <td>227.902005</td>\n",
       "      <td>0.241678</td>\n",
       "      <td>0.569808</td>\n",
       "      <td>0.165466</td>\n",
       "    </tr>\n",
       "    <tr>\n",
       "      <th>3</th>\n",
       "      <td>100</td>\n",
       "      <td>29</td>\n",
       "      <td>227.931962</td>\n",
       "      <td>2.279320</td>\n",
       "      <td>2.283197</td>\n",
       "      <td>2.274356</td>\n",
       "      <td>227.931962</td>\n",
       "      <td>0.241709</td>\n",
       "      <td>0.571803</td>\n",
       "      <td>0.165809</td>\n",
       "    </tr>\n",
       "    <tr>\n",
       "      <th>4</th>\n",
       "      <td>200</td>\n",
       "      <td>62</td>\n",
       "      <td>227.950467</td>\n",
       "      <td>1.139752</td>\n",
       "      <td>1.140306</td>\n",
       "      <td>1.138422</td>\n",
       "      <td>227.950467</td>\n",
       "      <td>0.241729</td>\n",
       "      <td>0.572836</td>\n",
       "      <td>0.165878</td>\n",
       "    </tr>\n",
       "  </tbody>\n",
       "</table>\n",
       "</div>"
      ],
      "text/plain": [
       "   n_prod  iters_to_NE  total_prod_util  avg_prod_util  max_prod_util  \\\n",
       "0       5            2       227.428385      45.485677      47.371321   \n",
       "1      10            5       228.053466      22.805347      23.158877   \n",
       "2      50           19       227.902005       4.558040       4.570095   \n",
       "3     100           29       227.931962       2.279320       2.283197   \n",
       "4     200           62       227.950467       1.139752       1.140306   \n",
       "\n",
       "   min_prod_util  total_user_util  avg_user_util  max_user_util  min_user_util  \n",
       "0      43.772186       227.428385       0.241175       0.568146       0.159102  \n",
       "1      22.231496       228.053466       0.241838       0.587159       0.160932  \n",
       "2       4.541110       227.902005       0.241678       0.569808       0.165466  \n",
       "3       2.274356       227.931962       0.241709       0.571803       0.165809  \n",
       "4       1.138422       227.950467       0.241729       0.572836       0.165878  "
      ]
     },
     "execution_count": 26,
     "metadata": {},
     "output_type": "execute_result"
    }
   ],
   "source": [
    "df_linear.drop(['NE_compact','prod_dist', 'user_dist'], axis=1)"
   ]
  },
  {
   "cell_type": "code",
   "execution_count": 27,
   "id": "3a5327f7",
   "metadata": {},
   "outputs": [
    {
     "data": {
      "text/html": [
       "<div>\n",
       "<style scoped>\n",
       "    .dataframe tbody tr th:only-of-type {\n",
       "        vertical-align: middle;\n",
       "    }\n",
       "\n",
       "    .dataframe tbody tr th {\n",
       "        vertical-align: top;\n",
       "    }\n",
       "\n",
       "    .dataframe thead th {\n",
       "        text-align: right;\n",
       "    }\n",
       "</style>\n",
       "<table border=\"1\" class=\"dataframe\">\n",
       "  <thead>\n",
       "    <tr style=\"text-align: right;\">\n",
       "      <th></th>\n",
       "      <th>n_prod</th>\n",
       "      <th>iters_to_NE</th>\n",
       "      <th>total_prod_util</th>\n",
       "      <th>avg_prod_util</th>\n",
       "      <th>max_prod_util</th>\n",
       "      <th>min_prod_util</th>\n",
       "      <th>total_user_util</th>\n",
       "      <th>avg_user_util</th>\n",
       "      <th>max_user_util</th>\n",
       "      <th>min_user_util</th>\n",
       "    </tr>\n",
       "  </thead>\n",
       "  <tbody>\n",
       "    <tr>\n",
       "      <th>0</th>\n",
       "      <td>5</td>\n",
       "      <td>3</td>\n",
       "      <td>198.919073</td>\n",
       "      <td>39.783815</td>\n",
       "      <td>39.877419</td>\n",
       "      <td>39.693250</td>\n",
       "      <td>198.919073</td>\n",
       "      <td>0.210943</td>\n",
       "      <td>0.424657</td>\n",
       "      <td>0.029037</td>\n",
       "    </tr>\n",
       "    <tr>\n",
       "      <th>1</th>\n",
       "      <td>10</td>\n",
       "      <td>2</td>\n",
       "      <td>199.251398</td>\n",
       "      <td>19.925140</td>\n",
       "      <td>19.942980</td>\n",
       "      <td>19.851770</td>\n",
       "      <td>199.251398</td>\n",
       "      <td>0.211295</td>\n",
       "      <td>0.357387</td>\n",
       "      <td>0.084764</td>\n",
       "    </tr>\n",
       "    <tr>\n",
       "      <th>2</th>\n",
       "      <td>50</td>\n",
       "      <td>21</td>\n",
       "      <td>199.172416</td>\n",
       "      <td>3.983448</td>\n",
       "      <td>3.984857</td>\n",
       "      <td>3.981779</td>\n",
       "      <td>199.172416</td>\n",
       "      <td>0.211211</td>\n",
       "      <td>0.371243</td>\n",
       "      <td>0.079795</td>\n",
       "    </tr>\n",
       "    <tr>\n",
       "      <th>3</th>\n",
       "      <td>100</td>\n",
       "      <td>44</td>\n",
       "      <td>199.143620</td>\n",
       "      <td>1.991436</td>\n",
       "      <td>1.992105</td>\n",
       "      <td>1.991231</td>\n",
       "      <td>199.143620</td>\n",
       "      <td>0.211181</td>\n",
       "      <td>0.378196</td>\n",
       "      <td>0.078281</td>\n",
       "    </tr>\n",
       "    <tr>\n",
       "      <th>4</th>\n",
       "      <td>200</td>\n",
       "      <td>80</td>\n",
       "      <td>199.143620</td>\n",
       "      <td>0.995718</td>\n",
       "      <td>0.996052</td>\n",
       "      <td>0.995616</td>\n",
       "      <td>199.143620</td>\n",
       "      <td>0.211181</td>\n",
       "      <td>0.378196</td>\n",
       "      <td>0.078281</td>\n",
       "    </tr>\n",
       "  </tbody>\n",
       "</table>\n",
       "</div>"
      ],
      "text/plain": [
       "   n_prod  iters_to_NE  total_prod_util  avg_prod_util  max_prod_util  \\\n",
       "0       5            3       198.919073      39.783815      39.877419   \n",
       "1      10            2       199.251398      19.925140      19.942980   \n",
       "2      50           21       199.172416       3.983448       3.984857   \n",
       "3     100           44       199.143620       1.991436       1.992105   \n",
       "4     200           80       199.143620       0.995718       0.996052   \n",
       "\n",
       "   min_prod_util  total_user_util  avg_user_util  max_user_util  min_user_util  \n",
       "0      39.693250       198.919073       0.210943       0.424657       0.029037  \n",
       "1      19.851770       199.251398       0.211295       0.357387       0.084764  \n",
       "2       3.981779       199.172416       0.211211       0.371243       0.079795  \n",
       "3       1.991231       199.143620       0.211181       0.378196       0.078281  \n",
       "4       0.995616       199.143620       0.211181       0.378196       0.078281  "
      ]
     },
     "execution_count": 27,
     "metadata": {},
     "output_type": "execute_result"
    }
   ],
   "source": [
    "df_softmax.drop(['NE_compact','prod_dist', 'user_dist'], axis=1)"
   ]
  },
  {
   "cell_type": "code",
   "execution_count": 5,
   "id": "a29c9001",
   "metadata": {},
   "outputs": [
    {
     "name": "stderr",
     "output_type": "stream",
     "text": [
      " 40%|██████████████████                           | 2/5 [00:00<00:00, 13.53it/s]"
     ]
    },
    {
     "name": "stdout",
     "output_type": "stream",
     "text": [
      "5.0 5\n",
      "10.0 10\n",
      "50.0 50\n"
     ]
    },
    {
     "name": "stderr",
     "output_type": "stream",
     "text": [
      "\r",
      " 80%|████████████████████████████████████         | 4/5 [00:05<00:01,  1.47s/it]"
     ]
    },
    {
     "name": "stdout",
     "output_type": "stream",
     "text": [
      "100.0 100\n"
     ]
    },
    {
     "name": "stderr",
     "output_type": "stream",
     "text": [
      "100%|█████████████████████████████████████████████| 5/5 [00:21<00:00,  4.39s/it]"
     ]
    },
    {
     "name": "stdout",
     "output_type": "stream",
     "text": [
      "200.0 200\n"
     ]
    },
    {
     "name": "stderr",
     "output_type": "stream",
     "text": [
      "\n"
     ]
    }
   ],
   "source": [
    "res = []\n",
    "for n_prod in tqdm(n_prodarr):\n",
    "  PEng = ProducersEngagementGame(num_producers = n_prod, users = Users(nue10), prob = 'softmax')\n",
    "  NE, NE_compact, iters = PEng.best_response_dynamics()\n",
    "  print(NE_compact.sum(), n_prod)\n",
    "  dir_prods, prod_utils, user_utils = get_all_engagement_utilities(NE, nue10, prob_type='softmax')\n",
    "  di = {'n_prod' : n_prod,\n",
    "        'NE_compact' : NE_compact,\n",
    "        'prod_dist' : NE_compact / n_prod,\n",
    "        'user_dist': nue10.sum(axis = 0) / n_users,\n",
    "        'iters_to_NE':iters,\n",
    "        \n",
    "        'total_prod_util': prod_utils.sum(),\n",
    "        'avg_prod_util': prod_utils.mean(),\n",
    "        'max_prod_util': prod_utils.max(),\n",
    "        'min_prod_util': prod_utils.min(),\n",
    "        \n",
    "        'total_user_util': user_utils.sum(),\n",
    "        'avg_user_util': user_utils.mean(),\n",
    "        'max_user_util': user_utils.max(),\n",
    "        'min_user_util': user_utils.min(),\n",
    "      }\n",
    "  res.append(di)\n",
    "df_dim10 = pd.DataFrame(res)"
   ]
  },
  {
   "cell_type": "code",
   "execution_count": 26,
   "id": "8b7c84f4",
   "metadata": {},
   "outputs": [
    {
     "data": {
      "text/html": [
       "<div>\n",
       "<style scoped>\n",
       "    .dataframe tbody tr th:only-of-type {\n",
       "        vertical-align: middle;\n",
       "    }\n",
       "\n",
       "    .dataframe tbody tr th {\n",
       "        vertical-align: top;\n",
       "    }\n",
       "\n",
       "    .dataframe thead th {\n",
       "        text-align: right;\n",
       "    }\n",
       "</style>\n",
       "<table border=\"1\" class=\"dataframe\">\n",
       "  <thead>\n",
       "    <tr style=\"text-align: right;\">\n",
       "      <th></th>\n",
       "      <th>n_prod</th>\n",
       "      <th>NE_compact</th>\n",
       "      <th>prod_dist</th>\n",
       "      <th>user_dist</th>\n",
       "      <th>iters_to_NE</th>\n",
       "      <th>total_prod_util</th>\n",
       "      <th>avg_prod_util</th>\n",
       "      <th>max_prod_util</th>\n",
       "      <th>min_prod_util</th>\n",
       "      <th>total_user_util</th>\n",
       "      <th>avg_user_util</th>\n",
       "      <th>max_user_util</th>\n",
       "      <th>min_user_util</th>\n",
       "    </tr>\n",
       "  </thead>\n",
       "  <tbody>\n",
       "    <tr>\n",
       "      <th>0</th>\n",
       "      <td>5</td>\n",
       "      <td>[0.0, 0.0, 0.0, 0.0, 0.0, 0.0, 2.0, 0.0, 2.0, ...</td>\n",
       "      <td>[0.0, 0.0, 0.0, 0.0, 0.0, 0.0, 0.4, 0.0, 0.4, ...</td>\n",
       "      <td>[0.0962641501460523, 0.10136871592148264, 0.09...</td>\n",
       "      <td>6</td>\n",
       "      <td>122.338263</td>\n",
       "      <td>24.467653</td>\n",
       "      <td>24.754108</td>\n",
       "      <td>24.053156</td>\n",
       "      <td>122.338263</td>\n",
       "      <td>0.129733</td>\n",
       "      <td>0.322927</td>\n",
       "      <td>0.011202</td>\n",
       "    </tr>\n",
       "    <tr>\n",
       "      <th>1</th>\n",
       "      <td>10</td>\n",
       "      <td>[0.0, 1.0, 0.0, 0.0, 1.0, 0.0, 3.0, 0.0, 3.0, ...</td>\n",
       "      <td>[0.0, 0.1, 0.0, 0.0, 0.1, 0.0, 0.3, 0.0, 0.3, ...</td>\n",
       "      <td>[0.0962641501460523, 0.10136871592148264, 0.09...</td>\n",
       "      <td>9</td>\n",
       "      <td>124.295364</td>\n",
       "      <td>12.429536</td>\n",
       "      <td>12.624609</td>\n",
       "      <td>12.126717</td>\n",
       "      <td>124.295364</td>\n",
       "      <td>0.131808</td>\n",
       "      <td>0.323127</td>\n",
       "      <td>0.054588</td>\n",
       "    </tr>\n",
       "    <tr>\n",
       "      <th>2</th>\n",
       "      <td>50</td>\n",
       "      <td>[0.0, 6.0, 3.0, 2.0, 2.0, 0.0, 15.0, 0.0, 15.0...</td>\n",
       "      <td>[0.0, 0.12, 0.06, 0.04, 0.04, 0.0, 0.3, 0.0, 0...</td>\n",
       "      <td>[0.0962641501460523, 0.10136871592148264, 0.09...</td>\n",
       "      <td>37</td>\n",
       "      <td>124.898447</td>\n",
       "      <td>2.497969</td>\n",
       "      <td>2.526019</td>\n",
       "      <td>2.485973</td>\n",
       "      <td>124.898447</td>\n",
       "      <td>0.132448</td>\n",
       "      <td>0.310314</td>\n",
       "      <td>0.069587</td>\n",
       "    </tr>\n",
       "    <tr>\n",
       "      <th>3</th>\n",
       "      <td>100</td>\n",
       "      <td>[0.0, 11.0, 5.0, 5.0, 5.0, 0.0, 30.0, 0.0, 31....</td>\n",
       "      <td>[0.0, 0.11, 0.05, 0.05, 0.05, 0.0, 0.3, 0.0, 0...</td>\n",
       "      <td>[0.0962641501460523, 0.10136871592148264, 0.09...</td>\n",
       "      <td>60</td>\n",
       "      <td>124.933615</td>\n",
       "      <td>1.249336</td>\n",
       "      <td>1.255282</td>\n",
       "      <td>1.246815</td>\n",
       "      <td>124.933615</td>\n",
       "      <td>0.132485</td>\n",
       "      <td>0.310291</td>\n",
       "      <td>0.067457</td>\n",
       "    </tr>\n",
       "    <tr>\n",
       "      <th>4</th>\n",
       "      <td>200</td>\n",
       "      <td>[0.0, 23.0, 11.0, 10.0, 10.0, 0.0, 59.0, 0.0, ...</td>\n",
       "      <td>[0.0, 0.115, 0.055, 0.05, 0.05, 0.0, 0.295, 0....</td>\n",
       "      <td>[0.0962641501460523, 0.10136871592148264, 0.09...</td>\n",
       "      <td>117</td>\n",
       "      <td>124.940798</td>\n",
       "      <td>0.624704</td>\n",
       "      <td>0.625453</td>\n",
       "      <td>0.624185</td>\n",
       "      <td>124.940798</td>\n",
       "      <td>0.132493</td>\n",
       "      <td>0.309688</td>\n",
       "      <td>0.068430</td>\n",
       "    </tr>\n",
       "  </tbody>\n",
       "</table>\n",
       "</div>"
      ],
      "text/plain": [
       "   n_prod                                         NE_compact  \\\n",
       "0       5  [0.0, 0.0, 0.0, 0.0, 0.0, 0.0, 2.0, 0.0, 2.0, ...   \n",
       "1      10  [0.0, 1.0, 0.0, 0.0, 1.0, 0.0, 3.0, 0.0, 3.0, ...   \n",
       "2      50  [0.0, 6.0, 3.0, 2.0, 2.0, 0.0, 15.0, 0.0, 15.0...   \n",
       "3     100  [0.0, 11.0, 5.0, 5.0, 5.0, 0.0, 30.0, 0.0, 31....   \n",
       "4     200  [0.0, 23.0, 11.0, 10.0, 10.0, 0.0, 59.0, 0.0, ...   \n",
       "\n",
       "                                           prod_dist  \\\n",
       "0  [0.0, 0.0, 0.0, 0.0, 0.0, 0.0, 0.4, 0.0, 0.4, ...   \n",
       "1  [0.0, 0.1, 0.0, 0.0, 0.1, 0.0, 0.3, 0.0, 0.3, ...   \n",
       "2  [0.0, 0.12, 0.06, 0.04, 0.04, 0.0, 0.3, 0.0, 0...   \n",
       "3  [0.0, 0.11, 0.05, 0.05, 0.05, 0.0, 0.3, 0.0, 0...   \n",
       "4  [0.0, 0.115, 0.055, 0.05, 0.05, 0.0, 0.295, 0....   \n",
       "\n",
       "                                           user_dist  iters_to_NE  \\\n",
       "0  [0.0962641501460523, 0.10136871592148264, 0.09...            6   \n",
       "1  [0.0962641501460523, 0.10136871592148264, 0.09...            9   \n",
       "2  [0.0962641501460523, 0.10136871592148264, 0.09...           37   \n",
       "3  [0.0962641501460523, 0.10136871592148264, 0.09...           60   \n",
       "4  [0.0962641501460523, 0.10136871592148264, 0.09...          117   \n",
       "\n",
       "   total_prod_util  avg_prod_util  max_prod_util  min_prod_util  \\\n",
       "0       122.338263      24.467653      24.754108      24.053156   \n",
       "1       124.295364      12.429536      12.624609      12.126717   \n",
       "2       124.898447       2.497969       2.526019       2.485973   \n",
       "3       124.933615       1.249336       1.255282       1.246815   \n",
       "4       124.940798       0.624704       0.625453       0.624185   \n",
       "\n",
       "   total_user_util  avg_user_util  max_user_util  min_user_util  \n",
       "0       122.338263       0.129733       0.322927       0.011202  \n",
       "1       124.295364       0.131808       0.323127       0.054588  \n",
       "2       124.898447       0.132448       0.310314       0.069587  \n",
       "3       124.933615       0.132485       0.310291       0.067457  \n",
       "4       124.940798       0.132493       0.309688       0.068430  "
      ]
     },
     "execution_count": 26,
     "metadata": {},
     "output_type": "execute_result"
    }
   ],
   "source": [
    "df_dim10"
   ]
  }
 ],
 "metadata": {
  "kernelspec": {
   "display_name": "recsys3.10",
   "language": "python",
   "name": "recsys3.10"
  },
  "language_info": {
   "codemirror_mode": {
    "name": "ipython",
    "version": 3
   },
   "file_extension": ".py",
   "mimetype": "text/x-python",
   "name": "python",
   "nbconvert_exporter": "python",
   "pygments_lexer": "ipython3",
   "version": "3.10.9"
  }
 },
 "nbformat": 4,
 "nbformat_minor": 5
}
