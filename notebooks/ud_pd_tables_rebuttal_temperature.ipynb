{
 "cells": [
  {
   "cell_type": "code",
   "execution_count": 2,
   "id": "1d1a5094",
   "metadata": {},
   "outputs": [],
   "source": [
    "import sys\n",
    "sys.path.append('../source/')\n",
    "import numpy as np\n",
    "from Users import Users\n",
    "from Producers import *\n",
    "from sklearn.preprocessing import normalize\n",
    "from plotting import *\n",
    "from tqdm import tqdm\n",
    "import pandas as pd"
   ]
  },
  {
   "cell_type": "code",
   "execution_count": 72,
   "id": "3d9dc755",
   "metadata": {},
   "outputs": [],
   "source": [
    "#TODO add to utils\n",
    "def pd_across_temp(df_dic, dimension = 5, nprod = 100, seed = 17):\n",
    "  selection_mask = (df_dic['temp100']['dimension'] == dimension) & (df_dic['temp100']['nprod'] == nprod) \\\n",
    "  & (df_dic['temp100']['seed'] == seed)\n",
    "  res_list = []\n",
    "  ud = df_dic['temp100'][selection_mask]['user_dist'].values[0]\n",
    "  res_list.append(ud)\n",
    "  for key in ['temp100', 'temp10', 'temp1', 'temp01', 'temp001']:\n",
    "    if not np.array_equal(df_dic[key][selection_mask]['user_dist'].values[0], ud):\n",
    "      print(\"uds don't match check!\")\n",
    "    res_list.append(df_dic[key][selection_mask]['producer_dist'].values[0])\n",
    "  res = pd.DataFrame(res_list, columns=['d1','d2', 'd3', 'd4', 'd5'])\n",
    "  return res"
   ]
  },
  {
   "cell_type": "markdown",
   "id": "d1cef60d",
   "metadata": {},
   "source": [
    "## Synth uniform dataset\n",
    "Across different temeperatures\n",
    "\n",
    "t = 100, 10, 1, 0.1, 0.01"
   ]
  },
  {
   "cell_type": "code",
   "execution_count": 23,
   "id": "8e89d565",
   "metadata": {},
   "outputs": [],
   "source": [
    "df_100 = pd.read_pickle(\"../saved_frames/synth-uniform_softmax_temp_100.0.pkl\")\n",
    "df_10 = pd.read_pickle('../saved_frames/synth-uniform_softmax_temp_10.0.pkl')\n",
    "df_1 = pd.read_pickle('../saved_frames/uniform_synthetic_grid_softmax_statistics.pkl') # temp = 1\n",
    "df_01 = pd.read_pickle('../saved_frames/synth-uniform_softmax_temp_0.1.pkl')\n",
    "df_001 = pd.read_pickle('../saved_frames/synth-uniform_softmax_temp_0.01.pkl')\n",
    "\n",
    "df_dic = {'temp100': df_100, 'temp10': df_10, 'temp1':df_1,\\\n",
    "          'temp01': df_01, 'temp001': df_001}"
   ]
  },
  {
   "cell_type": "code",
   "execution_count": 24,
   "id": "81e099c4",
   "metadata": {},
   "outputs": [
    {
     "data": {
      "text/plain": [
       "((400, 16), (400, 16), (400, 16), (400, 16))"
      ]
     },
     "execution_count": 24,
     "metadata": {},
     "output_type": "execute_result"
    }
   ],
   "source": [
    "df_100.shape, df_1.shape, df_01.shape,df_001.shape"
   ]
  },
  {
   "cell_type": "code",
   "execution_count": 25,
   "id": "a3ce313f",
   "metadata": {},
   "outputs": [
    {
     "data": {
      "text/plain": [
       "(3, 0, 0, 0, 0)"
      ]
     },
     "execution_count": 25,
     "metadata": {},
     "output_type": "execute_result"
    }
   ],
   "source": [
    "(df_001['NE_exists'] == False).sum(), (df_01['NE_exists'] == False).sum(), \\\n",
    "(df_1['NE_exists']==False).sum(), (df_10['NE_exists']==False).sum(), \\\n",
    "(df_100['NE_exists']==False).sum()"
   ]
  },
  {
   "cell_type": "code",
   "execution_count": 26,
   "id": "1b2fcdd2",
   "metadata": {},
   "outputs": [
    {
     "data": {
      "text/html": [
       "<div>\n",
       "<style scoped>\n",
       "    .dataframe tbody tr th:only-of-type {\n",
       "        vertical-align: middle;\n",
       "    }\n",
       "\n",
       "    .dataframe tbody tr th {\n",
       "        vertical-align: top;\n",
       "    }\n",
       "\n",
       "    .dataframe thead th {\n",
       "        text-align: right;\n",
       "    }\n",
       "</style>\n",
       "<table border=\"1\" class=\"dataframe\">\n",
       "  <thead>\n",
       "    <tr style=\"text-align: right;\">\n",
       "      <th></th>\n",
       "      <th>dimension</th>\n",
       "      <th>seed</th>\n",
       "      <th>nprod</th>\n",
       "      <th>NE_exists</th>\n",
       "      <th>iters</th>\n",
       "      <th>last_profile_compact</th>\n",
       "      <th>producer_dist</th>\n",
       "      <th>user_dist</th>\n",
       "      <th>total_prod_util</th>\n",
       "      <th>avg_prod_util</th>\n",
       "      <th>max_prod_util</th>\n",
       "      <th>min_prod_util</th>\n",
       "      <th>total_user_util</th>\n",
       "      <th>avg_user_util</th>\n",
       "      <th>max_user_util</th>\n",
       "      <th>min_user_util</th>\n",
       "    </tr>\n",
       "  </thead>\n",
       "  <tbody>\n",
       "    <tr>\n",
       "      <th>240</th>\n",
       "      <td>15</td>\n",
       "      <td>11</td>\n",
       "      <td>10</td>\n",
       "      <td>False</td>\n",
       "      <td>499</td>\n",
       "      <td>[1.0, 1.0, 1.0, 0.0, 0.0, 1.0, 1.0, 0.0, 1.0, ...</td>\n",
       "      <td>[0.1, 0.1, 0.1, 0.0, 0.0, 0.1, 0.1, 0.0, 0.1, ...</td>\n",
       "      <td>[0.06664620173307696, 0.06611955066153148, 0.0...</td>\n",
       "      <td>-1.0</td>\n",
       "      <td>-1.0</td>\n",
       "      <td>-1.0</td>\n",
       "      <td>-1.0</td>\n",
       "      <td>-1.0</td>\n",
       "      <td>-1.0</td>\n",
       "      <td>-1.0</td>\n",
       "      <td>-1.0</td>\n",
       "    </tr>\n",
       "    <tr>\n",
       "      <th>250</th>\n",
       "      <td>15</td>\n",
       "      <td>13</td>\n",
       "      <td>10</td>\n",
       "      <td>False</td>\n",
       "      <td>499</td>\n",
       "      <td>[1.0, 1.0, 1.0, 0.0, 0.0, 1.0, 1.0, 0.0, 1.0, ...</td>\n",
       "      <td>[0.1, 0.1, 0.1, 0.0, 0.0, 0.1, 0.1, 0.0, 0.1, ...</td>\n",
       "      <td>[0.06730056604547782, 0.06691743467192814, 0.0...</td>\n",
       "      <td>-1.0</td>\n",
       "      <td>-1.0</td>\n",
       "      <td>-1.0</td>\n",
       "      <td>-1.0</td>\n",
       "      <td>-1.0</td>\n",
       "      <td>-1.0</td>\n",
       "      <td>-1.0</td>\n",
       "      <td>-1.0</td>\n",
       "    </tr>\n",
       "    <tr>\n",
       "      <th>390</th>\n",
       "      <td>20</td>\n",
       "      <td>29</td>\n",
       "      <td>10</td>\n",
       "      <td>False</td>\n",
       "      <td>499</td>\n",
       "      <td>[1.0, 0.0, 1.0, 0.0, 1.0, 1.0, 0.0, 1.0, 0.0, ...</td>\n",
       "      <td>[0.1, 0.0, 0.1, 0.0, 0.1, 0.1, 0.0, 0.1, 0.0, ...</td>\n",
       "      <td>[0.050078133785279026, 0.049848806809137, 0.05...</td>\n",
       "      <td>-1.0</td>\n",
       "      <td>-1.0</td>\n",
       "      <td>-1.0</td>\n",
       "      <td>-1.0</td>\n",
       "      <td>-1.0</td>\n",
       "      <td>-1.0</td>\n",
       "      <td>-1.0</td>\n",
       "      <td>-1.0</td>\n",
       "    </tr>\n",
       "  </tbody>\n",
       "</table>\n",
       "</div>"
      ],
      "text/plain": [
       "     dimension  seed  nprod  NE_exists  iters  \\\n",
       "240         15    11     10      False    499   \n",
       "250         15    13     10      False    499   \n",
       "390         20    29     10      False    499   \n",
       "\n",
       "                                  last_profile_compact  \\\n",
       "240  [1.0, 1.0, 1.0, 0.0, 0.0, 1.0, 1.0, 0.0, 1.0, ...   \n",
       "250  [1.0, 1.0, 1.0, 0.0, 0.0, 1.0, 1.0, 0.0, 1.0, ...   \n",
       "390  [1.0, 0.0, 1.0, 0.0, 1.0, 1.0, 0.0, 1.0, 0.0, ...   \n",
       "\n",
       "                                         producer_dist  \\\n",
       "240  [0.1, 0.1, 0.1, 0.0, 0.0, 0.1, 0.1, 0.0, 0.1, ...   \n",
       "250  [0.1, 0.1, 0.1, 0.0, 0.0, 0.1, 0.1, 0.0, 0.1, ...   \n",
       "390  [0.1, 0.0, 0.1, 0.0, 0.1, 0.1, 0.0, 0.1, 0.0, ...   \n",
       "\n",
       "                                             user_dist  total_prod_util  \\\n",
       "240  [0.06664620173307696, 0.06611955066153148, 0.0...             -1.0   \n",
       "250  [0.06730056604547782, 0.06691743467192814, 0.0...             -1.0   \n",
       "390  [0.050078133785279026, 0.049848806809137, 0.05...             -1.0   \n",
       "\n",
       "     avg_prod_util  max_prod_util  min_prod_util  total_user_util  \\\n",
       "240           -1.0           -1.0           -1.0             -1.0   \n",
       "250           -1.0           -1.0           -1.0             -1.0   \n",
       "390           -1.0           -1.0           -1.0             -1.0   \n",
       "\n",
       "     avg_user_util  max_user_util  min_user_util  \n",
       "240           -1.0           -1.0           -1.0  \n",
       "250           -1.0           -1.0           -1.0  \n",
       "390           -1.0           -1.0           -1.0  "
      ]
     },
     "execution_count": 26,
     "metadata": {},
     "output_type": "execute_result"
    }
   ],
   "source": [
    "df_001[df_001['NE_exists'] == False]"
   ]
  },
  {
   "cell_type": "code",
   "execution_count": 27,
   "id": "3ecc3969",
   "metadata": {},
   "outputs": [
    {
     "data": {
      "text/html": [
       "<div>\n",
       "<style scoped>\n",
       "    .dataframe tbody tr th:only-of-type {\n",
       "        vertical-align: middle;\n",
       "    }\n",
       "\n",
       "    .dataframe tbody tr th {\n",
       "        vertical-align: top;\n",
       "    }\n",
       "\n",
       "    .dataframe thead th {\n",
       "        text-align: right;\n",
       "    }\n",
       "</style>\n",
       "<table border=\"1\" class=\"dataframe\">\n",
       "  <thead>\n",
       "    <tr style=\"text-align: right;\">\n",
       "      <th></th>\n",
       "      <th>dimension</th>\n",
       "      <th>seed</th>\n",
       "      <th>nprod</th>\n",
       "      <th>NE_exists</th>\n",
       "      <th>iters</th>\n",
       "      <th>last_profile_compact</th>\n",
       "      <th>producer_dist</th>\n",
       "      <th>user_dist</th>\n",
       "      <th>total_prod_util</th>\n",
       "      <th>avg_prod_util</th>\n",
       "      <th>max_prod_util</th>\n",
       "      <th>min_prod_util</th>\n",
       "      <th>total_user_util</th>\n",
       "      <th>avg_user_util</th>\n",
       "      <th>max_user_util</th>\n",
       "      <th>min_user_util</th>\n",
       "    </tr>\n",
       "  </thead>\n",
       "  <tbody>\n",
       "    <tr>\n",
       "      <th>69</th>\n",
       "      <td>5</td>\n",
       "      <td>17</td>\n",
       "      <td>100</td>\n",
       "      <td>True</td>\n",
       "      <td>8</td>\n",
       "      <td>[19.0, 20.0, 20.0, 20.0, 21.0]</td>\n",
       "      <td>[0.19, 0.2, 0.2, 0.2, 0.21]</td>\n",
       "      <td>[0.19795098440854125, 0.20069698840386346, 0.1...</td>\n",
       "      <td>4573.476885</td>\n",
       "      <td>45.734769</td>\n",
       "      <td>46.27447</td>\n",
       "      <td>45.239875</td>\n",
       "      <td>4573.476885</td>\n",
       "      <td>0.457348</td>\n",
       "      <td>0.935508</td>\n",
       "      <td>0.214191</td>\n",
       "    </tr>\n",
       "  </tbody>\n",
       "</table>\n",
       "</div>"
      ],
      "text/plain": [
       "    dimension  seed  nprod  NE_exists  iters            last_profile_compact  \\\n",
       "69          5    17    100       True      8  [19.0, 20.0, 20.0, 20.0, 21.0]   \n",
       "\n",
       "                  producer_dist  \\\n",
       "69  [0.19, 0.2, 0.2, 0.2, 0.21]   \n",
       "\n",
       "                                            user_dist  total_prod_util  \\\n",
       "69  [0.19795098440854125, 0.20069698840386346, 0.1...      4573.476885   \n",
       "\n",
       "    avg_prod_util  max_prod_util  min_prod_util  total_user_util  \\\n",
       "69      45.734769       46.27447      45.239875      4573.476885   \n",
       "\n",
       "    avg_user_util  max_user_util  min_user_util  \n",
       "69       0.457348       0.935508       0.214191  "
      ]
     },
     "execution_count": 27,
     "metadata": {},
     "output_type": "execute_result"
    }
   ],
   "source": [
    "dimension = 5\n",
    "nprod = 100\n",
    "seed=17\n",
    "select = (df_001['dimension'] == dimension) & (df_001['nprod'] == nprod) & (df_001['seed'] == seed)\n",
    "df_001[select]"
   ]
  },
  {
   "cell_type": "code",
   "execution_count": 73,
   "id": "c1f3f588",
   "metadata": {},
   "outputs": [],
   "source": [
    "df = pd_across_temp(df_dic)"
   ]
  },
  {
   "cell_type": "code",
   "execution_count": 76,
   "id": "40d6f268",
   "metadata": {},
   "outputs": [],
   "source": [
    "df.to_csv('../csv_results/synth-uniform_temp-table.csv')"
   ]
  },
  {
   "cell_type": "markdown",
   "id": "95155049",
   "metadata": {},
   "source": [
    "## Movielens dataset\n",
    "Across different temeperatures\n",
    "\n",
    "t = 100, 10, 1, 0.1, 0.01"
   ]
  },
  {
   "cell_type": "code",
   "execution_count": 77,
   "id": "04d1e7f9",
   "metadata": {},
   "outputs": [],
   "source": [
    "df_100 = pd.read_pickle(\"../saved_frames/movielens-100k_softmax_temp_100.0.pkl\")\n",
    "df_10 = pd.read_pickle('../saved_frames/movielens-100k_softmax_temp_10.0.pkl')\n",
    "df_1 = pd.read_pickle('../saved_frames/Movielens100k_grid_softmax_statistics.pkl') # temp = 1\n",
    "df_01 = pd.read_pickle('../saved_frames/movielens-100k_softmax_temp_0.1.pkl')\n",
    "df_001 = pd.read_pickle('../saved_frames/Movielens100k_grid_greedy_statistics.pkl')\n",
    "\n",
    "df_dic = {'temp100': df_100, 'temp10': df_10, 'temp1':df_1,\\\n",
    "          'temp01': df_01, 'temp001': df_001}"
   ]
  },
  {
   "cell_type": "code",
   "execution_count": 78,
   "id": "3483e58e",
   "metadata": {},
   "outputs": [
    {
     "data": {
      "text/plain": [
       "((400, 16), (400, 16), (400, 16), (400, 16), (400, 16))"
      ]
     },
     "execution_count": 78,
     "metadata": {},
     "output_type": "execute_result"
    }
   ],
   "source": [
    "df_100.shape, df_10.shape, df_1.shape, df_01.shape,df_001.shape"
   ]
  },
  {
   "cell_type": "code",
   "execution_count": 79,
   "id": "c96e5aa3",
   "metadata": {},
   "outputs": [
    {
     "data": {
      "text/plain": [
       "(2, 0, 0, 0, 0)"
      ]
     },
     "execution_count": 79,
     "metadata": {},
     "output_type": "execute_result"
    }
   ],
   "source": [
    "(df_001['NE_exists'] == False).sum(), (df_01['NE_exists'] == False).sum(), \\\n",
    "(df_1['NE_exists']==False).sum(), (df_10['NE_exists']==False).sum(), \\\n",
    "(df_100['NE_exists']==False).sum()"
   ]
  },
  {
   "cell_type": "code",
   "execution_count": 80,
   "id": "4071c683",
   "metadata": {},
   "outputs": [
    {
     "data": {
      "text/html": [
       "<div>\n",
       "<style scoped>\n",
       "    .dataframe tbody tr th:only-of-type {\n",
       "        vertical-align: middle;\n",
       "    }\n",
       "\n",
       "    .dataframe tbody tr th {\n",
       "        vertical-align: top;\n",
       "    }\n",
       "\n",
       "    .dataframe thead th {\n",
       "        text-align: right;\n",
       "    }\n",
       "</style>\n",
       "<table border=\"1\" class=\"dataframe\">\n",
       "  <thead>\n",
       "    <tr style=\"text-align: right;\">\n",
       "      <th></th>\n",
       "      <th>dimension</th>\n",
       "      <th>seed</th>\n",
       "      <th>nprod</th>\n",
       "      <th>NE_exists</th>\n",
       "      <th>iters</th>\n",
       "      <th>last_profile_compact</th>\n",
       "      <th>producer_dist</th>\n",
       "      <th>user_dist</th>\n",
       "      <th>total_prod_util</th>\n",
       "      <th>avg_prod_util</th>\n",
       "      <th>max_prod_util</th>\n",
       "      <th>min_prod_util</th>\n",
       "      <th>total_user_util</th>\n",
       "      <th>avg_user_util</th>\n",
       "      <th>max_user_util</th>\n",
       "      <th>min_user_util</th>\n",
       "    </tr>\n",
       "  </thead>\n",
       "  <tbody>\n",
       "    <tr>\n",
       "      <th>200</th>\n",
       "      <td>15</td>\n",
       "      <td>2</td>\n",
       "      <td>10</td>\n",
       "      <td>False</td>\n",
       "      <td>499</td>\n",
       "      <td>[1.0, 0.0, 1.0, 1.0, 1.0, 0.0, 1.0, 1.0, 1.0, ...</td>\n",
       "      <td>[0.1, 0.0, 0.1, 0.1, 0.1, 0.0, 0.1, 0.1, 0.1, ...</td>\n",
       "      <td>[0.06839639356486636, 0.06542173178206166, 0.0...</td>\n",
       "      <td>-1.0</td>\n",
       "      <td>-1.0</td>\n",
       "      <td>-1.0</td>\n",
       "      <td>-1.0</td>\n",
       "      <td>-1.0</td>\n",
       "      <td>-1.0</td>\n",
       "      <td>-1.0</td>\n",
       "      <td>-1.0</td>\n",
       "    </tr>\n",
       "    <tr>\n",
       "      <th>280</th>\n",
       "      <td>15</td>\n",
       "      <td>23</td>\n",
       "      <td>10</td>\n",
       "      <td>False</td>\n",
       "      <td>499</td>\n",
       "      <td>[1.0, 0.0, 1.0, 1.0, 1.0, 1.0, 1.0, 1.0, 0.0, ...</td>\n",
       "      <td>[0.1, 0.0, 0.1, 0.1, 0.1, 0.1, 0.1, 0.1, 0.0, ...</td>\n",
       "      <td>[0.06601912110442619, 0.067822278938963, 0.065...</td>\n",
       "      <td>-1.0</td>\n",
       "      <td>-1.0</td>\n",
       "      <td>-1.0</td>\n",
       "      <td>-1.0</td>\n",
       "      <td>-1.0</td>\n",
       "      <td>-1.0</td>\n",
       "      <td>-1.0</td>\n",
       "      <td>-1.0</td>\n",
       "    </tr>\n",
       "  </tbody>\n",
       "</table>\n",
       "</div>"
      ],
      "text/plain": [
       "     dimension  seed  nprod  NE_exists  iters  \\\n",
       "200         15     2     10      False    499   \n",
       "280         15    23     10      False    499   \n",
       "\n",
       "                                  last_profile_compact  \\\n",
       "200  [1.0, 0.0, 1.0, 1.0, 1.0, 0.0, 1.0, 1.0, 1.0, ...   \n",
       "280  [1.0, 0.0, 1.0, 1.0, 1.0, 1.0, 1.0, 1.0, 0.0, ...   \n",
       "\n",
       "                                         producer_dist  \\\n",
       "200  [0.1, 0.0, 0.1, 0.1, 0.1, 0.0, 0.1, 0.1, 0.1, ...   \n",
       "280  [0.1, 0.0, 0.1, 0.1, 0.1, 0.1, 0.1, 0.1, 0.0, ...   \n",
       "\n",
       "                                             user_dist  total_prod_util  \\\n",
       "200  [0.06839639356486636, 0.06542173178206166, 0.0...             -1.0   \n",
       "280  [0.06601912110442619, 0.067822278938963, 0.065...             -1.0   \n",
       "\n",
       "     avg_prod_util  max_prod_util  min_prod_util  total_user_util  \\\n",
       "200           -1.0           -1.0           -1.0             -1.0   \n",
       "280           -1.0           -1.0           -1.0             -1.0   \n",
       "\n",
       "     avg_user_util  max_user_util  min_user_util  \n",
       "200           -1.0           -1.0           -1.0  \n",
       "280           -1.0           -1.0           -1.0  "
      ]
     },
     "execution_count": 80,
     "metadata": {},
     "output_type": "execute_result"
    }
   ],
   "source": [
    "df_001[df_001['NE_exists'] == False]"
   ]
  },
  {
   "cell_type": "code",
   "execution_count": 81,
   "id": "e7226be6",
   "metadata": {},
   "outputs": [],
   "source": [
    "df = pd_across_temp(df_dic)"
   ]
  },
  {
   "cell_type": "code",
   "execution_count": 83,
   "id": "ed228bb1",
   "metadata": {},
   "outputs": [],
   "source": [
    "df.to_csv('../csv_results/movielens100k_temp-table.csv')"
   ]
  },
  {
   "cell_type": "markdown",
   "id": "09879a9b",
   "metadata": {},
   "source": [
    "## Synth-skewed dataset\n",
    "Across different temeperatures\n",
    "\n",
    "t = 100, 10, 1, 0.1, 0.01"
   ]
  },
  {
   "cell_type": "code",
   "execution_count": 88,
   "id": "0d4daea6",
   "metadata": {},
   "outputs": [],
   "source": [
    "df_100 = pd.read_pickle(\"../saved_frames/synth-skewed_softmax_temp_100.0.pkl\")\n",
    "df_10 = pd.read_pickle('../saved_frames/synth-skewed_softmax_temp_10.0.pkl')\n",
    "df_1 = pd.read_pickle('../saved_frames/weighted_synthetic_grid_softmax_statistics.pkl') # temp = 1\n",
    "df_01 = pd.read_pickle('../saved_frames/synth-skewed_softmax_temp_0.1.pkl')\n",
    "df_001 = pd.read_pickle('../saved_frames/weighted_synthetic_grid_greedy_statistics.pkl')\n",
    "\n",
    "df_dic = {'temp100': df_100, 'temp10': df_10, 'temp1':df_1,\\\n",
    "          'temp01': df_01, 'temp001': df_001}"
   ]
  },
  {
   "cell_type": "code",
   "execution_count": 89,
   "id": "37d508a4",
   "metadata": {},
   "outputs": [
    {
     "data": {
      "text/plain": [
       "((400, 16), (400, 16), (400, 16), (400, 16), (400, 16))"
      ]
     },
     "execution_count": 89,
     "metadata": {},
     "output_type": "execute_result"
    }
   ],
   "source": [
    "df_100.shape, df_10.shape, df_1.shape, df_01.shape,df_001.shape"
   ]
  },
  {
   "cell_type": "code",
   "execution_count": 90,
   "id": "0ebd15b1",
   "metadata": {},
   "outputs": [
    {
     "data": {
      "text/plain": [
       "(0, 0, 0, 0, 0)"
      ]
     },
     "execution_count": 90,
     "metadata": {},
     "output_type": "execute_result"
    }
   ],
   "source": [
    "(df_001['NE_exists'] == False).sum(), (df_01['NE_exists'] == False).sum(), \\\n",
    "(df_1['NE_exists']==False).sum(), (df_10['NE_exists']==False).sum(), \\\n",
    "(df_100['NE_exists']==False).sum()"
   ]
  },
  {
   "cell_type": "code",
   "execution_count": 91,
   "id": "2e102951",
   "metadata": {},
   "outputs": [],
   "source": [
    "df = pd_across_temp(df_dic)"
   ]
  },
  {
   "cell_type": "code",
   "execution_count": 93,
   "id": "335cfa36",
   "metadata": {},
   "outputs": [],
   "source": [
    "df.to_csv('../csv_results/synth-skewed_temp-table.csv')"
   ]
  },
  {
   "cell_type": "code",
   "execution_count": 94,
   "id": "3ff98d86",
   "metadata": {},
   "outputs": [
    {
     "data": {
      "text/html": [
       "<div>\n",
       "<style scoped>\n",
       "    .dataframe tbody tr th:only-of-type {\n",
       "        vertical-align: middle;\n",
       "    }\n",
       "\n",
       "    .dataframe tbody tr th {\n",
       "        vertical-align: top;\n",
       "    }\n",
       "\n",
       "    .dataframe thead th {\n",
       "        text-align: right;\n",
       "    }\n",
       "</style>\n",
       "<table border=\"1\" class=\"dataframe\">\n",
       "  <thead>\n",
       "    <tr style=\"text-align: right;\">\n",
       "      <th></th>\n",
       "      <th>d1</th>\n",
       "      <th>d2</th>\n",
       "      <th>d3</th>\n",
       "      <th>d4</th>\n",
       "      <th>d5</th>\n",
       "    </tr>\n",
       "  </thead>\n",
       "  <tbody>\n",
       "    <tr>\n",
       "      <th>0</th>\n",
       "      <td>0.081815</td>\n",
       "      <td>0.120752</td>\n",
       "      <td>0.140034</td>\n",
       "      <td>0.241155</td>\n",
       "      <td>0.416245</td>\n",
       "    </tr>\n",
       "    <tr>\n",
       "      <th>1</th>\n",
       "      <td>0.000000</td>\n",
       "      <td>0.000000</td>\n",
       "      <td>0.000000</td>\n",
       "      <td>0.000000</td>\n",
       "      <td>1.000000</td>\n",
       "    </tr>\n",
       "    <tr>\n",
       "      <th>2</th>\n",
       "      <td>0.000000</td>\n",
       "      <td>0.000000</td>\n",
       "      <td>0.000000</td>\n",
       "      <td>0.000000</td>\n",
       "      <td>1.000000</td>\n",
       "    </tr>\n",
       "    <tr>\n",
       "      <th>3</th>\n",
       "      <td>0.000000</td>\n",
       "      <td>0.000000</td>\n",
       "      <td>0.000000</td>\n",
       "      <td>0.000000</td>\n",
       "      <td>1.000000</td>\n",
       "    </tr>\n",
       "    <tr>\n",
       "      <th>4</th>\n",
       "      <td>0.000000</td>\n",
       "      <td>0.010000</td>\n",
       "      <td>0.030000</td>\n",
       "      <td>0.220000</td>\n",
       "      <td>0.740000</td>\n",
       "    </tr>\n",
       "    <tr>\n",
       "      <th>5</th>\n",
       "      <td>0.010000</td>\n",
       "      <td>0.040000</td>\n",
       "      <td>0.070000</td>\n",
       "      <td>0.230000</td>\n",
       "      <td>0.650000</td>\n",
       "    </tr>\n",
       "  </tbody>\n",
       "</table>\n",
       "</div>"
      ],
      "text/plain": [
       "         d1        d2        d3        d4        d5\n",
       "0  0.081815  0.120752  0.140034  0.241155  0.416245\n",
       "1  0.000000  0.000000  0.000000  0.000000  1.000000\n",
       "2  0.000000  0.000000  0.000000  0.000000  1.000000\n",
       "3  0.000000  0.000000  0.000000  0.000000  1.000000\n",
       "4  0.000000  0.010000  0.030000  0.220000  0.740000\n",
       "5  0.010000  0.040000  0.070000  0.230000  0.650000"
      ]
     },
     "execution_count": 94,
     "metadata": {},
     "output_type": "execute_result"
    }
   ],
   "source": [
    "df"
   ]
  },
  {
   "cell_type": "code",
   "execution_count": null,
   "id": "c01643c6",
   "metadata": {},
   "outputs": [],
   "source": []
  },
  {
   "cell_type": "code",
   "execution_count": null,
   "id": "d05c6044",
   "metadata": {},
   "outputs": [],
   "source": []
  },
  {
   "cell_type": "code",
   "execution_count": null,
   "id": "69a8de1e",
   "metadata": {},
   "outputs": [],
   "source": []
  }
 ],
 "metadata": {
  "kernelspec": {
   "display_name": "recsys3.10",
   "language": "python",
   "name": "recsys3.10"
  },
  "language_info": {
   "codemirror_mode": {
    "name": "ipython",
    "version": 3
   },
   "file_extension": ".py",
   "mimetype": "text/x-python",
   "name": "python",
   "nbconvert_exporter": "python",
   "pygments_lexer": "ipython3",
   "version": "3.10.9"
  }
 },
 "nbformat": 4,
 "nbformat_minor": 5
}
