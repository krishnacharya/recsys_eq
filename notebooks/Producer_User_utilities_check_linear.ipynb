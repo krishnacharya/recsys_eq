{
 "cells": [
  {
   "cell_type": "markdown",
   "id": "01b25399",
   "metadata": {},
   "source": [
    "Fix the number of users and dimension\n",
    "Increase the number of producers\n",
    "\n",
    "### Track the following\n",
    "All engagement\n",
    "- Total producer utility, Total user engagement [Sanity check both should be same]\n",
    "- Average producer utility, min producer utility, max producer utility\n",
    "- Average user utility, min user utility, max user utility"
   ]
  },
  {
   "cell_type": "code",
   "execution_count": 18,
   "id": "eb92b186",
   "metadata": {},
   "outputs": [],
   "source": [
    "import sys\n",
    "sys.path.append('../source/')\n",
    "import numpy as np\n",
    "from Users import Users\n",
    "from Producers import *\n",
    "from embeddings import *\n",
    "from sklearn.preprocessing import normalize\n",
    "from plotting import *\n",
    "from tqdm import tqdm\n",
    "import pandas as pd"
   ]
  },
  {
   "cell_type": "code",
   "execution_count": 3,
   "id": "87220d5b",
   "metadata": {},
   "outputs": [],
   "source": [
    "_, nue5  = user_embeddings_movielens100k_nmf(dimension =  5)\n",
    "_, nue10 = user_embeddings_movielens100k_nmf(dimension = 10)\n",
    "_, nue15 = user_embeddings_movielens100k_nmf(dimension = 15)"
   ]
  },
  {
   "cell_type": "code",
   "execution_count": 6,
   "id": "11332eef",
   "metadata": {},
   "outputs": [],
   "source": [
    "n_users, dimension = nue10.shape"
   ]
  },
  {
   "cell_type": "code",
   "execution_count": 14,
   "id": "531fea5f",
   "metadata": {},
   "outputs": [],
   "source": [
    "n_prodarr = [5, 10, 50, 100, 200]"
   ]
  },
  {
   "cell_type": "code",
   "execution_count": 19,
   "id": "0f3185c9",
   "metadata": {},
   "outputs": [
    {
     "name": "stderr",
     "output_type": "stream",
     "text": [
      "\r",
      "  0%|                                                     | 0/5 [00:00<?, ?it/s]"
     ]
    },
    {
     "name": "stdout",
     "output_type": "stream",
     "text": [
      "5.0 5\n",
      "10.0 10\n"
     ]
    },
    {
     "name": "stderr",
     "output_type": "stream",
     "text": [
      "\r",
      " 60%|███████████████████████████                  | 3/5 [00:00<00:00,  6.90it/s]"
     ]
    },
    {
     "name": "stdout",
     "output_type": "stream",
     "text": [
      "50.0 50\n"
     ]
    },
    {
     "name": "stderr",
     "output_type": "stream",
     "text": [
      "\r",
      " 80%|████████████████████████████████████         | 4/5 [00:01<00:00,  2.01it/s]"
     ]
    },
    {
     "name": "stdout",
     "output_type": "stream",
     "text": [
      "100.0 100\n"
     ]
    },
    {
     "name": "stderr",
     "output_type": "stream",
     "text": [
      "100%|█████████████████████████████████████████████| 5/5 [00:06<00:00,  1.28s/it]"
     ]
    },
    {
     "name": "stdout",
     "output_type": "stream",
     "text": [
      "200.0 200\n"
     ]
    },
    {
     "name": "stderr",
     "output_type": "stream",
     "text": [
      "\n"
     ]
    }
   ],
   "source": [
    "res = []\n",
    "for n_prod in tqdm(n_prodarr):\n",
    "  PEng = ProducersEngagementGame(num_producers = n_prod, users = Users(nue10), prob = 'linear')\n",
    "  NE, NE_compact, iters = PEng.best_response_dynamics()\n",
    "  print(NE_compact.sum(), n_prod)\n",
    "  dir_prods, prod_utils, user_utils = get_all_engagement_utilities(NE, nue10, prob_type='linear')\n",
    "  di = {'n_prod' : n_prod,\n",
    "        'NE_compact' : NE_compact,\n",
    "        'prod_dist' : NE_compact / n_prod,\n",
    "        'user_dist': nue10.sum(axis = 0) / n_users,\n",
    "        'iters_to_NE':iters,\n",
    "        \n",
    "        'total_prod_util': prod_utils.sum(),\n",
    "        'avg_prod_util': prod_utils.mean(),\n",
    "        'max_prod_util': prod_utils.max(),\n",
    "        'min_prod_util': prod_utils.min(),\n",
    "        \n",
    "        'total_user_util': user_utils.sum(),\n",
    "        'avg_user_util': user_utils.mean(),\n",
    "        'max_user_util': user_utils.max(),\n",
    "        'min_user_util': user_utils.min(),\n",
    "      }\n",
    "  res.append(di)\n",
    "df_dim10 = pd.DataFrame(res)"
   ]
  },
  {
   "cell_type": "code",
   "execution_count": 23,
   "id": "1cccc589",
   "metadata": {},
   "outputs": [
    {
     "data": {
      "text/plain": [
       "array([0.62418517, 0.62452471, 0.62452471, 0.624273  , 0.62516624,\n",
       "       0.62516624, 0.62477015, 0.62516624, 0.62516624, 0.62477015,\n",
       "       0.62516624, 0.62452471, 0.62418517, 0.62452471, 0.62418517,\n",
       "       0.62516624, 0.62516624, 0.62516624, 0.62418517, 0.62452471,\n",
       "       0.624273  , 0.62516624, 0.62516624, 0.62516624, 0.624273  ,\n",
       "       0.62418517, 0.62516624, 0.62545332, 0.62477015, 0.62418517,\n",
       "       0.62418517, 0.62418517, 0.62452471, 0.62418517, 0.62477015,\n",
       "       0.62545332, 0.62516624, 0.62545332, 0.62516624, 0.62452471,\n",
       "       0.62516624, 0.62418517, 0.62518027, 0.62477015, 0.62418517,\n",
       "       0.62418517, 0.62545332, 0.62452471, 0.62516624, 0.62518027,\n",
       "       0.62516624, 0.62516624, 0.62418517, 0.62418517, 0.62516624,\n",
       "       0.624273  , 0.62477015, 0.62516624, 0.62545332, 0.62516624,\n",
       "       0.62418517, 0.62516624, 0.62418517, 0.62516624, 0.62477015,\n",
       "       0.62418517, 0.62516624, 0.62477015, 0.62516624, 0.624273  ,\n",
       "       0.62545332, 0.62418517, 0.62418517, 0.62418517, 0.62516624,\n",
       "       0.62418517, 0.62516624, 0.62516624, 0.62418517, 0.62518027,\n",
       "       0.62418517, 0.62452471, 0.624273  , 0.62516624, 0.62418517,\n",
       "       0.624273  , 0.62477015, 0.62516624, 0.62452471, 0.62477015,\n",
       "       0.62452471, 0.62516624, 0.62418517, 0.62418517, 0.62516624,\n",
       "       0.62516624, 0.62418517, 0.62452471, 0.62418517, 0.62516624,\n",
       "       0.62545332, 0.624273  , 0.62516624, 0.62418517, 0.62477015,\n",
       "       0.62516624, 0.62516624, 0.62418517, 0.62418517, 0.62418517,\n",
       "       0.62418517, 0.62452471, 0.62452471, 0.62418517, 0.62418517,\n",
       "       0.62452471, 0.62516624, 0.62516624, 0.62516624, 0.62452471,\n",
       "       0.62545332, 0.62452471, 0.62418517, 0.62516624, 0.62518027,\n",
       "       0.62418517, 0.62418517, 0.62545332, 0.62516624, 0.62518027,\n",
       "       0.62418517, 0.62477015, 0.62452471, 0.62516624, 0.62418517,\n",
       "       0.62418517, 0.62452471, 0.62516624, 0.62418517, 0.62418517,\n",
       "       0.62452471, 0.62516624, 0.62518027, 0.62516624, 0.62518027,\n",
       "       0.62477015, 0.62545332, 0.62452471, 0.62418517, 0.624273  ,\n",
       "       0.62418517, 0.62452471, 0.62516624, 0.62418517, 0.62418517,\n",
       "       0.62418517, 0.62418517, 0.62418517, 0.62518027, 0.62516624,\n",
       "       0.62477015, 0.62516624, 0.62418517, 0.62516624, 0.62518027,\n",
       "       0.62452471, 0.62452471, 0.62477015, 0.62516624, 0.62418517,\n",
       "       0.62418517, 0.624273  , 0.62516624, 0.62418517, 0.62418517,\n",
       "       0.62418517, 0.62418517, 0.62418517, 0.62477015, 0.62477015,\n",
       "       0.62452471, 0.62418517, 0.62516624, 0.62477015, 0.62418517,\n",
       "       0.62518027, 0.62477015, 0.624273  , 0.62516624, 0.62452471,\n",
       "       0.62516624, 0.62516624, 0.62516624, 0.62516624, 0.62477015,\n",
       "       0.62477015, 0.62418517, 0.62516624, 0.62477015, 0.62477015])"
      ]
     },
     "execution_count": 23,
     "metadata": {},
     "output_type": "execute_result"
    }
   ],
   "source": [
    "prod_utils"
   ]
  },
  {
   "cell_type": "code",
   "execution_count": 26,
   "id": "44690167",
   "metadata": {},
   "outputs": [
    {
     "data": {
      "text/html": [
       "<div>\n",
       "<style scoped>\n",
       "    .dataframe tbody tr th:only-of-type {\n",
       "        vertical-align: middle;\n",
       "    }\n",
       "\n",
       "    .dataframe tbody tr th {\n",
       "        vertical-align: top;\n",
       "    }\n",
       "\n",
       "    .dataframe thead th {\n",
       "        text-align: right;\n",
       "    }\n",
       "</style>\n",
       "<table border=\"1\" class=\"dataframe\">\n",
       "  <thead>\n",
       "    <tr style=\"text-align: right;\">\n",
       "      <th></th>\n",
       "      <th>n_prod</th>\n",
       "      <th>NE_compact</th>\n",
       "      <th>prod_dist</th>\n",
       "      <th>user_dist</th>\n",
       "      <th>iters_to_NE</th>\n",
       "      <th>total_prod_util</th>\n",
       "      <th>avg_prod_util</th>\n",
       "      <th>max_prod_util</th>\n",
       "      <th>min_prod_util</th>\n",
       "      <th>total_user_util</th>\n",
       "      <th>avg_user_util</th>\n",
       "      <th>max_user_util</th>\n",
       "      <th>min_user_util</th>\n",
       "    </tr>\n",
       "  </thead>\n",
       "  <tbody>\n",
       "    <tr>\n",
       "      <th>0</th>\n",
       "      <td>5</td>\n",
       "      <td>[0.0, 0.0, 0.0, 0.0, 0.0, 0.0, 2.0, 0.0, 2.0, ...</td>\n",
       "      <td>[0.0, 0.0, 0.0, 0.0, 0.0, 0.0, 0.4, 0.0, 0.4, ...</td>\n",
       "      <td>[0.0962641501460523, 0.10136871592148264, 0.09...</td>\n",
       "      <td>6</td>\n",
       "      <td>122.338263</td>\n",
       "      <td>24.467653</td>\n",
       "      <td>24.754108</td>\n",
       "      <td>24.053156</td>\n",
       "      <td>122.338263</td>\n",
       "      <td>0.129733</td>\n",
       "      <td>0.322927</td>\n",
       "      <td>0.011202</td>\n",
       "    </tr>\n",
       "    <tr>\n",
       "      <th>1</th>\n",
       "      <td>10</td>\n",
       "      <td>[0.0, 1.0, 0.0, 0.0, 1.0, 0.0, 3.0, 0.0, 3.0, ...</td>\n",
       "      <td>[0.0, 0.1, 0.0, 0.0, 0.1, 0.0, 0.3, 0.0, 0.3, ...</td>\n",
       "      <td>[0.0962641501460523, 0.10136871592148264, 0.09...</td>\n",
       "      <td>9</td>\n",
       "      <td>124.295364</td>\n",
       "      <td>12.429536</td>\n",
       "      <td>12.624609</td>\n",
       "      <td>12.126717</td>\n",
       "      <td>124.295364</td>\n",
       "      <td>0.131808</td>\n",
       "      <td>0.323127</td>\n",
       "      <td>0.054588</td>\n",
       "    </tr>\n",
       "    <tr>\n",
       "      <th>2</th>\n",
       "      <td>50</td>\n",
       "      <td>[0.0, 6.0, 3.0, 2.0, 2.0, 0.0, 15.0, 0.0, 15.0...</td>\n",
       "      <td>[0.0, 0.12, 0.06, 0.04, 0.04, 0.0, 0.3, 0.0, 0...</td>\n",
       "      <td>[0.0962641501460523, 0.10136871592148264, 0.09...</td>\n",
       "      <td>37</td>\n",
       "      <td>124.898447</td>\n",
       "      <td>2.497969</td>\n",
       "      <td>2.526019</td>\n",
       "      <td>2.485973</td>\n",
       "      <td>124.898447</td>\n",
       "      <td>0.132448</td>\n",
       "      <td>0.310314</td>\n",
       "      <td>0.069587</td>\n",
       "    </tr>\n",
       "    <tr>\n",
       "      <th>3</th>\n",
       "      <td>100</td>\n",
       "      <td>[0.0, 11.0, 5.0, 5.0, 5.0, 0.0, 30.0, 0.0, 31....</td>\n",
       "      <td>[0.0, 0.11, 0.05, 0.05, 0.05, 0.0, 0.3, 0.0, 0...</td>\n",
       "      <td>[0.0962641501460523, 0.10136871592148264, 0.09...</td>\n",
       "      <td>60</td>\n",
       "      <td>124.933615</td>\n",
       "      <td>1.249336</td>\n",
       "      <td>1.255282</td>\n",
       "      <td>1.246815</td>\n",
       "      <td>124.933615</td>\n",
       "      <td>0.132485</td>\n",
       "      <td>0.310291</td>\n",
       "      <td>0.067457</td>\n",
       "    </tr>\n",
       "    <tr>\n",
       "      <th>4</th>\n",
       "      <td>200</td>\n",
       "      <td>[0.0, 23.0, 11.0, 10.0, 10.0, 0.0, 59.0, 0.0, ...</td>\n",
       "      <td>[0.0, 0.115, 0.055, 0.05, 0.05, 0.0, 0.295, 0....</td>\n",
       "      <td>[0.0962641501460523, 0.10136871592148264, 0.09...</td>\n",
       "      <td>117</td>\n",
       "      <td>124.940798</td>\n",
       "      <td>0.624704</td>\n",
       "      <td>0.625453</td>\n",
       "      <td>0.624185</td>\n",
       "      <td>124.940798</td>\n",
       "      <td>0.132493</td>\n",
       "      <td>0.309688</td>\n",
       "      <td>0.068430</td>\n",
       "    </tr>\n",
       "  </tbody>\n",
       "</table>\n",
       "</div>"
      ],
      "text/plain": [
       "   n_prod                                         NE_compact  \\\n",
       "0       5  [0.0, 0.0, 0.0, 0.0, 0.0, 0.0, 2.0, 0.0, 2.0, ...   \n",
       "1      10  [0.0, 1.0, 0.0, 0.0, 1.0, 0.0, 3.0, 0.0, 3.0, ...   \n",
       "2      50  [0.0, 6.0, 3.0, 2.0, 2.0, 0.0, 15.0, 0.0, 15.0...   \n",
       "3     100  [0.0, 11.0, 5.0, 5.0, 5.0, 0.0, 30.0, 0.0, 31....   \n",
       "4     200  [0.0, 23.0, 11.0, 10.0, 10.0, 0.0, 59.0, 0.0, ...   \n",
       "\n",
       "                                           prod_dist  \\\n",
       "0  [0.0, 0.0, 0.0, 0.0, 0.0, 0.0, 0.4, 0.0, 0.4, ...   \n",
       "1  [0.0, 0.1, 0.0, 0.0, 0.1, 0.0, 0.3, 0.0, 0.3, ...   \n",
       "2  [0.0, 0.12, 0.06, 0.04, 0.04, 0.0, 0.3, 0.0, 0...   \n",
       "3  [0.0, 0.11, 0.05, 0.05, 0.05, 0.0, 0.3, 0.0, 0...   \n",
       "4  [0.0, 0.115, 0.055, 0.05, 0.05, 0.0, 0.295, 0....   \n",
       "\n",
       "                                           user_dist  iters_to_NE  \\\n",
       "0  [0.0962641501460523, 0.10136871592148264, 0.09...            6   \n",
       "1  [0.0962641501460523, 0.10136871592148264, 0.09...            9   \n",
       "2  [0.0962641501460523, 0.10136871592148264, 0.09...           37   \n",
       "3  [0.0962641501460523, 0.10136871592148264, 0.09...           60   \n",
       "4  [0.0962641501460523, 0.10136871592148264, 0.09...          117   \n",
       "\n",
       "   total_prod_util  avg_prod_util  max_prod_util  min_prod_util  \\\n",
       "0       122.338263      24.467653      24.754108      24.053156   \n",
       "1       124.295364      12.429536      12.624609      12.126717   \n",
       "2       124.898447       2.497969       2.526019       2.485973   \n",
       "3       124.933615       1.249336       1.255282       1.246815   \n",
       "4       124.940798       0.624704       0.625453       0.624185   \n",
       "\n",
       "   total_user_util  avg_user_util  max_user_util  min_user_util  \n",
       "0       122.338263       0.129733       0.322927       0.011202  \n",
       "1       124.295364       0.131808       0.323127       0.054588  \n",
       "2       124.898447       0.132448       0.310314       0.069587  \n",
       "3       124.933615       0.132485       0.310291       0.067457  \n",
       "4       124.940798       0.132493       0.309688       0.068430  "
      ]
     },
     "execution_count": 26,
     "metadata": {},
     "output_type": "execute_result"
    }
   ],
   "source": [
    "df_dim10"
   ]
  },
  {
   "cell_type": "code",
   "execution_count": 28,
   "id": "d36319b9",
   "metadata": {},
   "outputs": [
    {
     "data": {
      "text/html": [
       "<div>\n",
       "<style scoped>\n",
       "    .dataframe tbody tr th:only-of-type {\n",
       "        vertical-align: middle;\n",
       "    }\n",
       "\n",
       "    .dataframe tbody tr th {\n",
       "        vertical-align: top;\n",
       "    }\n",
       "\n",
       "    .dataframe thead th {\n",
       "        text-align: right;\n",
       "    }\n",
       "</style>\n",
       "<table border=\"1\" class=\"dataframe\">\n",
       "  <thead>\n",
       "    <tr style=\"text-align: right;\">\n",
       "      <th></th>\n",
       "      <th>n_prod</th>\n",
       "      <th>iters_to_NE</th>\n",
       "      <th>total_prod_util</th>\n",
       "      <th>avg_prod_util</th>\n",
       "      <th>max_prod_util</th>\n",
       "      <th>min_prod_util</th>\n",
       "      <th>total_user_util</th>\n",
       "      <th>avg_user_util</th>\n",
       "      <th>max_user_util</th>\n",
       "      <th>min_user_util</th>\n",
       "    </tr>\n",
       "  </thead>\n",
       "  <tbody>\n",
       "    <tr>\n",
       "      <th>0</th>\n",
       "      <td>5</td>\n",
       "      <td>6</td>\n",
       "      <td>122.338263</td>\n",
       "      <td>24.467653</td>\n",
       "      <td>24.754108</td>\n",
       "      <td>24.053156</td>\n",
       "      <td>122.338263</td>\n",
       "      <td>0.129733</td>\n",
       "      <td>0.322927</td>\n",
       "      <td>0.011202</td>\n",
       "    </tr>\n",
       "    <tr>\n",
       "      <th>1</th>\n",
       "      <td>10</td>\n",
       "      <td>9</td>\n",
       "      <td>124.295364</td>\n",
       "      <td>12.429536</td>\n",
       "      <td>12.624609</td>\n",
       "      <td>12.126717</td>\n",
       "      <td>124.295364</td>\n",
       "      <td>0.131808</td>\n",
       "      <td>0.323127</td>\n",
       "      <td>0.054588</td>\n",
       "    </tr>\n",
       "    <tr>\n",
       "      <th>2</th>\n",
       "      <td>50</td>\n",
       "      <td>37</td>\n",
       "      <td>124.898447</td>\n",
       "      <td>2.497969</td>\n",
       "      <td>2.526019</td>\n",
       "      <td>2.485973</td>\n",
       "      <td>124.898447</td>\n",
       "      <td>0.132448</td>\n",
       "      <td>0.310314</td>\n",
       "      <td>0.069587</td>\n",
       "    </tr>\n",
       "    <tr>\n",
       "      <th>3</th>\n",
       "      <td>100</td>\n",
       "      <td>60</td>\n",
       "      <td>124.933615</td>\n",
       "      <td>1.249336</td>\n",
       "      <td>1.255282</td>\n",
       "      <td>1.246815</td>\n",
       "      <td>124.933615</td>\n",
       "      <td>0.132485</td>\n",
       "      <td>0.310291</td>\n",
       "      <td>0.067457</td>\n",
       "    </tr>\n",
       "    <tr>\n",
       "      <th>4</th>\n",
       "      <td>200</td>\n",
       "      <td>117</td>\n",
       "      <td>124.940798</td>\n",
       "      <td>0.624704</td>\n",
       "      <td>0.625453</td>\n",
       "      <td>0.624185</td>\n",
       "      <td>124.940798</td>\n",
       "      <td>0.132493</td>\n",
       "      <td>0.309688</td>\n",
       "      <td>0.068430</td>\n",
       "    </tr>\n",
       "  </tbody>\n",
       "</table>\n",
       "</div>"
      ],
      "text/plain": [
       "   n_prod  iters_to_NE  total_prod_util  avg_prod_util  max_prod_util  \\\n",
       "0       5            6       122.338263      24.467653      24.754108   \n",
       "1      10            9       124.295364      12.429536      12.624609   \n",
       "2      50           37       124.898447       2.497969       2.526019   \n",
       "3     100           60       124.933615       1.249336       1.255282   \n",
       "4     200          117       124.940798       0.624704       0.625453   \n",
       "\n",
       "   min_prod_util  total_user_util  avg_user_util  max_user_util  min_user_util  \n",
       "0      24.053156       122.338263       0.129733       0.322927       0.011202  \n",
       "1      12.126717       124.295364       0.131808       0.323127       0.054588  \n",
       "2       2.485973       124.898447       0.132448       0.310314       0.069587  \n",
       "3       1.246815       124.933615       0.132485       0.310291       0.067457  \n",
       "4       0.624185       124.940798       0.132493       0.309688       0.068430  "
      ]
     },
     "execution_count": 28,
     "metadata": {},
     "output_type": "execute_result"
    }
   ],
   "source": [
    "df_dim10.drop(['NE_compact','prod_dist', 'user_dist'], axis=1)"
   ]
  },
  {
   "cell_type": "code",
   "execution_count": 13,
   "id": "31c818cf",
   "metadata": {},
   "outputs": [
    {
     "data": {
      "text/plain": [
       "(2.0, 3, 1)"
      ]
     },
     "execution_count": 13,
     "metadata": {},
     "output_type": "execute_result"
    }
   ],
   "source": [
    "ar = np.array([1,2,3])\n",
    "ar.mean(), ar.max(), ar.min()"
   ]
  },
  {
   "cell_type": "code",
   "execution_count": null,
   "id": "d5e671a9",
   "metadata": {},
   "outputs": [],
   "source": [
    "df_dim10"
   ]
  },
  {
   "cell_type": "code",
   "execution_count": 29,
   "id": "feaefa43",
   "metadata": {},
   "outputs": [],
   "source": [
    "df_dim10.to_pickle('linear_dim10_movielens_utilswincreasing_prods.pkl')"
   ]
  },
  {
   "cell_type": "code",
   "execution_count": null,
   "id": "7447c722",
   "metadata": {},
   "outputs": [],
   "source": []
  }
 ],
 "metadata": {
  "kernelspec": {
   "display_name": "recsys3.10",
   "language": "python",
   "name": "recsys3.10"
  },
  "language_info": {
   "codemirror_mode": {
    "name": "ipython",
    "version": 3
   },
   "file_extension": ".py",
   "mimetype": "text/x-python",
   "name": "python",
   "nbconvert_exporter": "python",
   "pygments_lexer": "ipython3",
   "version": "3.10.9"
  }
 },
 "nbformat": 4,
 "nbformat_minor": 5
}
