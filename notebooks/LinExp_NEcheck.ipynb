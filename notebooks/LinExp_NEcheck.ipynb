{
 "cells": [
  {
   "cell_type": "code",
   "execution_count": 1,
   "id": "9a0b804b-5240-4122-8dd9-993433f59d67",
   "metadata": {},
   "outputs": [],
   "source": [
    "import sys\n",
    "sys.path.append('../source/')\n",
    "import numpy as np\n",
    "from Users import Users\n",
    "from Producers import *\n",
    "from embeddings import *\n",
    "from sklearn.preprocessing import normalize"
   ]
  },
  {
   "cell_type": "code",
   "execution_count": 23,
   "id": "1b7a8af8-78d8-4fc0-8817-7b521d8997ec",
   "metadata": {},
   "outputs": [
    {
     "name": "stdout",
     "output_type": "stream",
     "text": [
      "##### PRODUCERS FOR ITER 0\n",
      " [22. 16. 22. 18. 22.]\n"
     ]
    },
    {
     "name": "stderr",
     "output_type": "stream",
     "text": [
      "/home/jupyter-kriach/.conda/envs/recsys/lib/python3.10/site-packages/cvxpy/reductions/solvers/solving_chain.py:336: FutureWarning: \n",
      "    Your problem is being solved with the ECOS solver by default. Starting in \n",
      "    CVXPY 1.5.0, Clarabel will be used as the default solver instead. To continue \n",
      "    using ECOS, specify the ECOS solver explicitly using the ``solver=cp.ECOS`` \n",
      "    argument to the ``problem.solve`` method.\n",
      "    \n",
      "  warnings.warn(ECOS_DEPRECATION_MSG, FutureWarning)\n"
     ]
    },
    {
     "name": "stdout",
     "output_type": "stream",
     "text": [
      "##### PRODUCERS FOR ITER 0 \n",
      " [22. 16. 23. 18. 21.]\n",
      "##### PRODUCERS FOR ITER 1 \n",
      " [22. 16. 24. 17. 21.]\n",
      "##### PRODUCERS FOR ITER 2 \n",
      " [21. 16. 25. 17. 21.]\n",
      "##### PRODUCERS FOR ITER 3 \n",
      " [21.         16.         25.99999999 16.         21.        ]\n",
      "##### PRODUCERS FOR ITER 4 \n",
      " [21.00000002 16.00000001 26.99999997 16.         20.        ]\n",
      "##### PRODUCERS FOR ITER 5 \n",
      " [21.16374116 16.09867367 27.73758517 16.         19.        ]\n",
      "##### PRODUCERS FOR ITER 6 \n",
      " [21.4604475  16.25412837 28.28542412 15.         19.        ]\n",
      "##### PRODUCERS FOR ITER 7 \n",
      " [21.80875374 16.49884975 28.69239651 15.         18.        ]\n",
      "##### PRODUCERS FOR ITER 8 \n",
      " [22.18423734 16.79013548 29.02562718 15.         17.        ]\n",
      "##### PRODUCERS FOR ITER 9 \n",
      " [22.57453697 17.10647048 29.31899254 15.         16.        ]\n",
      "##### PRODUCERS FOR ITER 10 \n",
      " [22.9734353  17.43702106 29.58954364 15.00000001 15.        ]\n",
      "##### PRODUCERS FOR ITER 11 \n",
      " [23.38945298 17.7108173  29.89972971 14.00000001 15.        ]\n",
      "##### PRODUCERS FOR ITER 12 \n",
      " [23.81452574 17.95590708 30.22956717 13.00000001 15.        ]\n",
      "##### PRODUCERS FOR ITER 13 \n",
      " [24.24450544 18.18661413 30.56888042 12.00000001 15.        ]\n",
      "##### PRODUCERS FOR ITER 14 \n",
      " [24.66448127 18.47653916 30.85897956 12.00000001 14.        ]\n",
      "##### PRODUCERS FOR ITER 15 \n",
      " [25.09196703 18.730657   31.17737596 11.00000001 14.        ]\n",
      "##### PRODUCERS FOR ITER 16 \n",
      " [25.50336966 19.03029022 31.44691671 11.01942341 13.        ]\n",
      "##### PRODUCERS FOR ITER 17 \n",
      " [25.86693953 19.33403545 31.65623643 11.14278859 12.00000001]\n",
      "##### PRODUCERS FOR ITER 18 \n",
      " [26.20668108 19.64095692 31.83129836 11.32106363 11.00000001]\n",
      "##### PRODUCERS FOR ITER 19 \n",
      " [26.53465066 19.95055516 31.98498194 11.52981222 10.00000001]\n",
      "##### PRODUCERS FOR ITER 20 \n",
      " [26.85689979 20.26258474 32.12355896 11.7569565   9.00000001]\n",
      "##### PRODUCERS FOR ITER 21 \n",
      " [27.17642967 20.5769198  32.24997542 11.9966751   8.00000002]\n",
      "##### PRODUCERS FOR ITER 22 \n",
      " [27.17642967 20.5769198  32.24997542 11.9966751   8.00000002]\n",
      "Number of iterations to coverge to eps NE: 22\n"
     ]
    }
   ],
   "source": [
    "# EXPERIMENT 1 - Exposure with linear serving utility, run best response dynamics twice, takes long\n",
    "dimension = 5\n",
    "num_producers = 100\n",
    "num_users = 100\n",
    "seed = 17\n",
    "\n",
    "np.random.seed(seed)\n",
    "\n",
    "user_embeddings = generate_uniform_users(dimension = dimension, num_users = num_users)\n",
    "users = Users(user_embeddings)\n",
    "PExp = ProducerLinearExposureGame(num_producers=num_producers, users=users, epsilon = 1e-2) # epsilon for the epsilon-NE\n",
    "converged_exp, lp_exp, lp_compact_exp, iters_exp = PExp.best_response_dynamics(verbose=True) # FIRST RUN"
   ]
  },
  {
   "cell_type": "code",
   "execution_count": 24,
   "id": "54d2b4fc-151a-48ef-8f72-b29516e659dd",
   "metadata": {},
   "outputs": [
    {
     "name": "stdout",
     "output_type": "stream",
     "text": [
      "True [27.17642967 20.5769198  32.24997542 11.9966751   8.00000002] 22\n"
     ]
    }
   ],
   "source": [
    "print(converged_exp, lp_compact_exp, iters_exp)"
   ]
  },
  {
   "cell_type": "code",
   "execution_count": 26,
   "id": "3b4975c0-6d1f-4695-b0bf-1e1d412c4f0e",
   "metadata": {},
   "outputs": [
    {
     "name": "stdout",
     "output_type": "stream",
     "text": [
      "##### PRODUCERS FOR ITER 0\n",
      " [16. 24. 22. 17. 21.]\n",
      "##### PRODUCERS FOR ITER 0 \n",
      " [16.56726354 24.         22.43273646 17.         20.        ]\n",
      "##### PRODUCERS FOR ITER 1 \n",
      " [17.10363403 24.         22.89636597 16.         20.        ]\n",
      "##### PRODUCERS FOR ITER 2 \n",
      " [17.63578216 24.         23.36421784 16.         19.        ]\n",
      "##### PRODUCERS FOR ITER 3 \n",
      " [18.15542417 24.         23.84457583 15.         19.        ]\n",
      "##### PRODUCERS FOR ITER 4 \n",
      " [18.68127839 24.         24.31872161 15.         18.        ]\n",
      "##### PRODUCERS FOR ITER 5 \n",
      " [19.21212826 24.         24.78787174 15.         17.        ]\n",
      "##### PRODUCERS FOR ITER 6 \n",
      " [19.74740473 24.         25.25259527 15.         16.        ]\n",
      "##### PRODUCERS FOR ITER 7 \n",
      " [20.2705822  24.         25.72941779 14.         16.        ]\n",
      "##### PRODUCERS FOR ITER 8 \n",
      " [20.73937871 23.         26.26062129 14.         16.        ]\n",
      "##### PRODUCERS FOR ITER 9 \n",
      " [21.18005002 22.         26.81994997 14.         16.        ]\n",
      "##### PRODUCERS FOR ITER 10 \n",
      " [21.65734937 22.         27.34265062 13.         16.        ]\n",
      "##### PRODUCERS FOR ITER 11 \n",
      " [22.10242739 21.         27.8975726  13.         16.        ]\n",
      "##### PRODUCERS FOR ITER 12 \n",
      " [22.58346048 21.         28.41653951 12.00000001 16.        ]\n",
      "##### PRODUCERS FOR ITER 13 \n",
      " [23.0974806  21.         28.90251939 12.00000001 15.        ]\n",
      "##### PRODUCERS FOR ITER 14 \n",
      " [23.56153409 20.         29.4384659  12.00000001 15.        ]\n",
      "##### PRODUCERS FOR ITER 15 \n",
      " [24.06931632 20.00000001 29.93068367 12.00000001 14.        ]\n",
      "##### PRODUCERS FOR ITER 16 \n",
      " [24.60143467 20.00000001 30.39856531 12.00000001 13.        ]\n",
      "##### PRODUCERS FOR ITER 17 \n",
      " [25.0487619  19.06245109 30.888787   12.00000001 13.        ]\n",
      "##### PRODUCERS FOR ITER 18 \n",
      " [25.4815047  19.19791226 31.30114338 11.01943966 13.00000001]\n",
      "##### PRODUCERS FOR ITER 19 \n",
      " [25.85585029 19.41875603 31.58261074 11.14278292 12.00000001]\n",
      "##### PRODUCERS FOR ITER 20 \n",
      " [26.20104991 19.68378541 31.79411519 11.32104948 11.00000001]\n",
      "##### PRODUCERS FOR ITER 21 \n",
      " [26.53178822 19.97221034 31.96620324 11.5297982  10.00000001]\n",
      "##### PRODUCERS FOR ITER 22 \n",
      " [26.8554442  20.27353361 32.11407642 11.75694576  9.00000001]\n",
      "##### PRODUCERS FOR ITER 23 \n",
      " [27.17568682 20.58245358 32.24519337 11.99666621  8.00000001]\n",
      "##### PRODUCERS FOR ITER 24 \n",
      " [27.17568682 20.58245358 32.24519337 11.99666621  8.00000001]\n",
      "Number of iterations to coverge to eps NE: 24\n"
     ]
    }
   ],
   "source": [
    "# SECOND RUN OF best response dynamics\n",
    "converged_exp, lp_exp, lp_compact_exp, iters_exp = PExp.best_response_dynamics(verbose=True)\n",
    "# lp_compact has the sum of producer strategies across dimensions"
   ]
  },
  {
   "cell_type": "code",
   "execution_count": 27,
   "id": "e1fc0f25-a015-4e38-80d4-d0c09508ecaa",
   "metadata": {},
   "outputs": [
    {
     "name": "stdout",
     "output_type": "stream",
     "text": [
      "True [27.17568682 20.58245358 32.24519337 11.99666621  8.00000001] 24\n"
     ]
    }
   ],
   "source": [
    "print(converged_exp, lp_compact_exp, iters_exp) # lp_compact has the sum of producer strategies across dimensions"
   ]
  },
  {
   "cell_type": "code",
   "execution_count": 28,
   "id": "118396da-c319-4342-9f4b-188a607a0f65",
   "metadata": {},
   "outputs": [
    {
     "data": {
      "text/plain": [
       "{(27.175686824684487,\n",
       "  20.582453579273203,\n",
       "  32.24519337133185,\n",
       "  11.996666209716233,\n",
       "  8.000000014630363),\n",
       " (27.17642967057992,\n",
       "  20.57691979777521,\n",
       "  32.2499754181421,\n",
       "  11.99667509800908,\n",
       "  8.000000015117873)}"
      ]
     },
     "execution_count": 28,
     "metadata": {},
     "output_type": "execute_result"
    }
   ],
   "source": [
    "PExp.BR_dyna_epsNE"
   ]
  },
  {
   "cell_type": "code",
   "execution_count": 30,
   "id": "5873bae3-a1b6-416e-b670-1ba599789e16",
   "metadata": {},
   "outputs": [
    {
     "name": "stdout",
     "output_type": "stream",
     "text": [
      "99.9999999996242\n",
      "99.99999999963615\n"
     ]
    }
   ],
   "source": [
    "for s in PExp.BR_dyna_epsNE: # this set saves all the epsilon - nash equilibria\n",
    "    print(np.sum(s))"
   ]
  },
  {
   "cell_type": "code",
   "execution_count": 31,
   "id": "a331ac35-ab9f-4be7-8de9-cad52d95869a",
   "metadata": {},
   "outputs": [
    {
     "name": "stdout",
     "output_type": "stream",
     "text": [
      "##### PRODUCERS FOR ITER 0\n",
      " [22. 16. 22. 18. 22.]\n",
      "##### PRODUCERS FOR ITER 0 \n",
      " [22. 17. 22. 18. 21.]\n",
      "##### PRODUCERS FOR ITER 1 \n",
      " [22. 17. 23. 17. 21.]\n",
      "##### PRODUCERS FOR ITER 2 \n",
      " [21. 18. 23. 17. 21.]\n",
      "##### PRODUCERS FOR ITER 3 \n",
      " [21. 18. 24. 16. 21.]\n",
      "##### PRODUCERS FOR ITER 4 \n",
      " [21. 19. 24. 16. 20.]\n",
      "##### PRODUCERS FOR ITER 5 \n",
      " [21. 19. 25. 16. 19.]\n",
      "##### PRODUCERS FOR ITER 6 \n",
      " [21. 19. 26. 15. 19.]\n",
      "##### PRODUCERS FOR ITER 7 \n",
      " [21. 20. 26. 15. 18.]\n",
      "##### PRODUCERS FOR ITER 8 \n",
      " [20. 20. 27. 15. 18.]\n",
      "##### PRODUCERS FOR ITER 9 \n",
      " [21. 20. 27. 15. 17.]\n",
      "##### PRODUCERS FOR ITER 10 \n",
      " [21. 21. 27. 15. 16.]\n",
      "##### PRODUCERS FOR ITER 11 \n",
      " [21. 21. 28. 14. 16.]\n",
      "##### PRODUCERS FOR ITER 12 \n",
      " [22. 21. 28. 14. 15.]\n",
      "##### PRODUCERS FOR ITER 13 \n",
      " [22. 22. 28. 13. 15.]\n",
      "##### PRODUCERS FOR ITER 14 \n",
      " [22. 22. 29. 13. 14.]\n",
      "##### PRODUCERS FOR ITER 15 \n",
      " [23. 22. 29. 12. 14.]\n",
      "##### PRODUCERS FOR ITER 16 \n",
      " [23. 23. 29. 12. 13.]\n",
      "##### PRODUCERS FOR ITER 17 \n",
      " [24. 23. 29. 11. 13.]\n",
      "##### PRODUCERS FOR ITER 18 \n",
      " [24. 23. 30. 10. 13.]\n",
      "##### PRODUCERS FOR ITER 19 \n",
      " [25. 23. 30. 10. 12.]\n",
      "##### PRODUCERS FOR ITER 20 \n",
      " [25. 24. 30. 10. 11.]\n",
      "##### PRODUCERS FOR ITER 21 \n",
      " [25. 24. 31. 10. 10.]\n",
      "##### PRODUCERS FOR ITER 22 \n",
      " [26. 24. 31. 10.  9.]\n",
      "##### PRODUCERS FOR ITER 23 \n",
      " [26. 25. 31. 10.  8.]\n",
      "##### PRODUCERS FOR ITER 24 \n",
      " [26. 25. 31. 11.  7.]\n",
      "##### PRODUCERS FOR ITER 25 \n",
      " [26. 25. 32. 11.  6.]\n",
      "##### PRODUCERS FOR ITER 26 \n",
      " [27. 25. 32. 11.  5.]\n",
      "##### PRODUCERS FOR ITER 27 \n",
      " [27. 25. 32. 11.  5.]\n",
      "Number of iterations to coverge: 27\n"
     ]
    }
   ],
   "source": [
    "# EXPERIMENT - compare with engagement utility, Way faster\n",
    "dimension = 5\n",
    "num_producers = 100\n",
    "num_users = 100\n",
    "seed = 17\n",
    "\n",
    "np.random.seed(seed)\n",
    "\n",
    "user_embeddings = generate_uniform_users(dimension = dimension, num_users = num_users)\n",
    "users = Users(user_embeddings)\n",
    "PEng = ProducersEngagementGame(num_producers=num_producers, users=users)\n",
    "converged_eng, lp_eng, lp_compact_eng, iters_eng = PEng.best_response_dynamics(verbose=True)"
   ]
  },
  {
   "cell_type": "code",
   "execution_count": 32,
   "id": "24bf1862-d169-4605-8539-f07d6d9759a0",
   "metadata": {},
   "outputs": [
    {
     "data": {
      "text/plain": [
       "(0.20604382158558798, 0.31073405791948105)"
      ]
     },
     "execution_count": 32,
     "metadata": {},
     "output_type": "execute_result"
    }
   ],
   "source": [
    "# user utilities with producers maximizing for exposure\n",
    "dir_prod, prod_utils, user_utils = get_all_engagement_utilities(lp_exp, user_embeddings)\n",
    "np.min(user_utils), np.mean(user_utils)"
   ]
  },
  {
   "cell_type": "code",
   "execution_count": 33,
   "id": "8ba70877-869d-4b2e-8592-afddf26c99a3",
   "metadata": {},
   "outputs": [
    {
     "data": {
      "text/plain": [
       "(0.18933588534488874, 0.33091175967801073)"
      ]
     },
     "execution_count": 33,
     "metadata": {},
     "output_type": "execute_result"
    }
   ],
   "source": [
    "# user utilities with producers maximizing for engagement\n",
    "dir_prod, prod_utils, user_utils = get_all_engagement_utilities(lp_eng, user_embeddings)\n",
    "np.min(user_utils), np.mean(user_utils)"
   ]
  },
  {
   "cell_type": "code",
   "execution_count": 36,
   "id": "1f97d2a2-ad9c-4e10-80f7-4c2c824f6fd7",
   "metadata": {},
   "outputs": [
    {
     "data": {
      "text/plain": [
       "(array([27.17568682, 20.58245358, 32.24519337, 11.99666621,  8.00000001]),\n",
       " array([27., 25., 32., 11.,  5.]))"
      ]
     },
     "execution_count": 36,
     "metadata": {},
     "output_type": "execute_result"
    }
   ],
   "source": [
    "lp_compact_exp, lp_compact_eng # exposure vs engagement weights across dimensions"
   ]
  },
  {
   "cell_type": "code",
   "execution_count": 11,
   "id": "caa8d5fc-071c-46c3-b04b-3b4d8dfd0a10",
   "metadata": {},
   "outputs": [
    {
     "data": {
      "text/plain": [
       "array([21.03172959, 19.9761332 , 22.12108909, 18.93840249, 17.93264563])"
      ]
     },
     "execution_count": 11,
     "metadata": {},
     "output_type": "execute_result"
    }
   ],
   "source": [
    "user_embeddings.sum(axis=0)"
   ]
  }
 ],
 "metadata": {
  "kernelspec": {
   "display_name": "recsys",
   "language": "python",
   "name": "recsys"
  },
  "language_info": {
   "codemirror_mode": {
    "name": "ipython",
    "version": 3
   },
   "file_extension": ".py",
   "mimetype": "text/x-python",
   "name": "python",
   "nbconvert_exporter": "python",
   "pygments_lexer": "ipython3",
   "version": "3.10.13"
  }
 },
 "nbformat": 4,
 "nbformat_minor": 5
}
