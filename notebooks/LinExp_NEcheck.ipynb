{
 "cells": [
  {
   "cell_type": "code",
   "execution_count": 1,
   "id": "9a0b804b-5240-4122-8dd9-993433f59d67",
   "metadata": {},
   "outputs": [],
   "source": [
    "import sys\n",
    "sys.path.append('../source/')\n",
    "import numpy as np\n",
    "from Users import Users\n",
    "from Producers import *\n",
    "from embeddings import *\n",
    "from sklearn.preprocessing import normalize"
   ]
  },
  {
   "cell_type": "code",
   "execution_count": 2,
   "id": "07dccd4f-f6d8-4234-b8fa-9c3fc2031882",
   "metadata": {},
   "outputs": [],
   "source": [
    "# EXPERIMENT 1 - Exposure objective on Movielens data\n",
    "dimension = 5\n",
    "num_producers = 100\n",
    "num_users = 943\n",
    "seed = 17\n",
    "\n",
    "np.random.seed(seed)\n",
    "\n",
    "user_embeddings = generate_uniform_users(dimension = dimension, num_users = num_users)\n",
    "users = Users(user_embeddings)\n",
    "PEng = ProducerLinearExposureGame(num_producers=num_producers, users=users)"
   ]
  },
  {
   "cell_type": "code",
   "execution_count": null,
   "id": "36b91a8b-52e5-4a47-ac13-c3f8ad1d3968",
   "metadata": {},
   "outputs": [
    {
     "name": "stdout",
     "output_type": "stream",
     "text": [
      "##### PRODUCERS FOR ITER 0\n",
      " [18. 23. 16. 16. 27.]\n"
     ]
    },
    {
     "name": "stderr",
     "output_type": "stream",
     "text": [
      "/home/jupyter-kriach/.conda/envs/recsys/lib/python3.10/site-packages/cvxpy/problems/problem.py:158: UserWarning: Objective contains too many subexpressions. Consider vectorizing your CVXPY code to speed up compilation.\n",
      "  warnings.warn(\"Objective contains too many subexpressions. \"\n",
      "/home/jupyter-kriach/.conda/envs/recsys/lib/python3.10/site-packages/cvxpy/reductions/solvers/solving_chain.py:336: FutureWarning: \n",
      "    Your problem is being solved with the ECOS solver by default. Starting in \n",
      "    CVXPY 1.5.0, Clarabel will be used as the default solver instead. To continue \n",
      "    using ECOS, specify the ECOS solver explicitly using the ``solver=cp.ECOS`` \n",
      "    argument to the ``problem.solve`` method.\n",
      "    \n",
      "  warnings.warn(ECOS_DEPRECATION_MSG, FutureWarning)\n"
     ]
    },
    {
     "name": "stdout",
     "output_type": "stream",
     "text": [
      "##### PRODUCERS FOR ITER 0 \n",
      " [19. 23. 16. 16. 26.]\n",
      "##### PRODUCERS FOR ITER 1 \n",
      " [20. 22. 16. 16. 26.]\n",
      "##### PRODUCERS FOR ITER 2 \n",
      " [20.93492393 22.         16.00000007 16.         25.065076  ]\n",
      "##### PRODUCERS FOR ITER 3 \n",
      " [21.56033199 22.         16.13568513 15.         25.30398288]\n",
      "##### PRODUCERS FOR ITER 4 \n",
      " [21.8772606  22.         16.20401677 15.00000001 24.91872262]\n",
      "##### PRODUCERS FOR ITER 5 \n",
      " [22.0828172  22.         16.2838458  14.34088298 25.29245402]\n",
      "##### PRODUCERS FOR ITER 6 \n",
      " [22.18679081 22.         15.81800985 14.51359194 25.4816074 ]\n",
      "##### PRODUCERS FOR ITER 7 \n",
      " [21.73338886 22.         16.08893246 14.60077936 25.57689932]\n",
      "##### PRODUCERS FOR ITER 8 \n",
      " [22.01010884 22.         16.22575884 14.64464365 25.11948866]\n",
      "##### PRODUCERS FOR ITER 9 \n",
      " [22.15016707 22.         15.78856406 14.66694079 25.39432809]\n",
      "##### PRODUCERS FOR ITER 10 \n",
      " [22.34362828 21.         16.17801273 14.79685641 25.68150257]\n",
      "##### PRODUCERS FOR ITER 11 \n",
      " [22.44164995 21.00000001 16.37544181 14.35600729 25.82690093]\n",
      "##### PRODUCERS FOR ITER 12 \n",
      " [21.98516293 21.00000001 16.47501087 14.6398462  25.89997999]\n"
     ]
    }
   ],
   "source": [
    "converged, lp, lp_compact, iters = PEng.best_response_dynamics(verbose=True)"
   ]
  },
  {
   "cell_type": "code",
   "execution_count": null,
   "id": "4a00906f-a33e-405b-95fa-e0b8f55e2229",
   "metadata": {},
   "outputs": [],
   "source": []
  }
 ],
 "metadata": {
  "kernelspec": {
   "display_name": "recsys",
   "language": "python",
   "name": "recsys"
  },
  "language_info": {
   "codemirror_mode": {
    "name": "ipython",
    "version": 3
   },
   "file_extension": ".py",
   "mimetype": "text/x-python",
   "name": "python",
   "nbconvert_exporter": "python",
   "pygments_lexer": "ipython3",
   "version": "3.10.13"
  }
 },
 "nbformat": 4,
 "nbformat_minor": 5
}
