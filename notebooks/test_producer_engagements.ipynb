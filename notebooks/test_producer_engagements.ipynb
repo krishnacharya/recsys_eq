{
 "cells": [
  {
   "cell_type": "code",
   "execution_count": 1,
   "metadata": {},
   "outputs": [],
   "source": [
    "import sys\n",
    "sys.path.append('../source/')\n",
    "import numpy as np\n",
    "from Users import Users\n",
    "from Producers import ProducersEngagementGame\n",
    "from embeddings import generate_uniform_users\n",
    "from sklearn.preprocessing import normalize"
   ]
  },
  {
   "cell_type": "code",
   "execution_count": 2,
   "metadata": {},
   "outputs": [],
   "source": [
    "from Producers import *"
   ]
  },
  {
   "cell_type": "code",
   "execution_count": 4,
   "metadata": {},
   "outputs": [
    {
     "name": "stdout",
     "output_type": "stream",
     "text": [
      "##### PRODUCERS FOR ITER 0\n",
      " [[0. 1. 0. 0. 0.]\n",
      " [0. 0. 1. 0. 0.]\n",
      " [0. 0. 0. 1. 0.]\n",
      " [1. 0. 0. 0. 0.]]\n",
      "##### PRODUCERS FOR ITER 0 \n",
      " [[0. 0. 0. 0. 1.]\n",
      " [0. 0. 1. 0. 0.]\n",
      " [0. 0. 0. 1. 0.]\n",
      " [1. 0. 0. 0. 0.]]\n",
      "##### PRODUCERS FOR ITER 1 \n",
      " [[0. 0. 0. 0. 1.]\n",
      " [0. 0. 0. 0. 1.]\n",
      " [0. 0. 0. 1. 0.]\n",
      " [1. 0. 0. 0. 0.]]\n",
      "##### PRODUCERS FOR ITER 2 \n",
      " [[0. 0. 0. 0. 1.]\n",
      " [0. 0. 0. 0. 1.]\n",
      " [1. 0. 0. 0. 0.]\n",
      " [1. 0. 0. 0. 0.]]\n",
      "##### PRODUCERS FOR ITER 3 \n",
      " [[0. 0. 0. 0. 1.]\n",
      " [0. 0. 0. 0. 1.]\n",
      " [1. 0. 0. 0. 0.]\n",
      " [1. 0. 0. 0. 0.]]\n",
      "Number of iterations to coverge: 3\n"
     ]
    }
   ],
   "source": [
    "# EXPERIMENT 1 - Linear probability of RS\n",
    "dimension = 5\n",
    "num_users = 10\n",
    "num_producers = 4\n",
    "\n",
    "user_embeddings = generate_uniform_users(dimension = dimension, num_users=num_users)\n",
    "users = Users(user_embeddings)\n",
    "PEng = ProducersEngagementGame(num_producers=num_producers, users=users, prob = 'linear')\n",
    "NE, NE_compact, iters = PEng.best_response_dynamics(verbose=True)"
   ]
  },
  {
   "cell_type": "code",
   "execution_count": 5,
   "metadata": {},
   "outputs": [
    {
     "data": {
      "text/plain": [
       "(array([[0., 0., 0., 0., 1.],\n",
       "        [0., 0., 0., 0., 1.],\n",
       "        [1., 0., 0., 0., 0.],\n",
       "        [1., 0., 0., 0., 0.]]),\n",
       " array([2., 0., 0., 0., 2.]))"
      ]
     },
     "execution_count": 5,
     "metadata": {},
     "output_type": "execute_result"
    }
   ],
   "source": [
    "NE, NE_compact"
   ]
  },
  {
   "cell_type": "code",
   "execution_count": 6,
   "metadata": {},
   "outputs": [],
   "source": [
    "dir_prod, utils_prod, utils_users = get_all_engagement_utilities(NE, user_embeddings)"
   ]
  },
  {
   "cell_type": "code",
   "execution_count": 7,
   "metadata": {},
   "outputs": [
    {
     "data": {
      "text/plain": [
       "(array([4, 4, 0, 0]), array([0.96545875, 0.96545875, 0.79417971, 0.79417971]))"
      ]
     },
     "execution_count": 7,
     "metadata": {},
     "output_type": "execute_result"
    }
   ],
   "source": [
    "dir_prod, utils_prod"
   ]
  },
  {
   "cell_type": "code",
   "execution_count": 8,
   "metadata": {},
   "outputs": [
    {
     "data": {
      "text/plain": [
       "array([0.38556769, 0.2738863 , 0.46312451, 0.34529366, 0.18423299,\n",
       "       0.70957449, 0.27648798, 0.21460999, 0.45402938, 0.21246992])"
      ]
     },
     "execution_count": 8,
     "metadata": {},
     "output_type": "execute_result"
    }
   ],
   "source": [
    "utils_users"
   ]
  },
  {
   "cell_type": "code",
   "execution_count": null,
   "metadata": {},
   "outputs": [],
   "source": []
  }
 ],
 "metadata": {
  "kernelspec": {
   "display_name": "Python 3.10.13 ('recsys')",
   "language": "python",
   "name": "python3"
  },
  "language_info": {
   "codemirror_mode": {
    "name": "ipython",
    "version": 3
   },
   "file_extension": ".py",
   "mimetype": "text/x-python",
   "name": "python",
   "nbconvert_exporter": "python",
   "pygments_lexer": "ipython3",
   "version": "3.10.13"
  },
  "orig_nbformat": 4,
  "vscode": {
   "interpreter": {
    "hash": "ee54be9069c715697806837d8c51e202bd664c5c3200a4325dc96f05a2e1ec8f"
   }
  }
 },
 "nbformat": 4,
 "nbformat_minor": 2
}
