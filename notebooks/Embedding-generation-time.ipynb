{
 "cells": [
  {
   "cell_type": "code",
   "execution_count": 11,
   "id": "e77fb571",
   "metadata": {},
   "outputs": [],
   "source": [
    "from surprise import Dataset\n",
    "import sys\n",
    "from surprise import NMF\n",
    "from surprise.model_selection import cross_validate"
   ]
  },
  {
   "cell_type": "code",
   "execution_count": 20,
   "id": "2062deaf",
   "metadata": {},
   "outputs": [],
   "source": [
    "sys.path.append('../source/')\n",
    "from Embeddings import *"
   ]
  },
  {
   "cell_type": "code",
   "execution_count": 27,
   "id": "2ac16333",
   "metadata": {},
   "outputs": [],
   "source": [
    "seed = 21\n",
    "dimension = 20\n",
    "num_users = 10000"
   ]
  },
  {
   "cell_type": "code",
   "execution_count": 28,
   "id": "a853ac5b",
   "metadata": {},
   "outputs": [
    {
     "name": "stdout",
     "output_type": "stream",
     "text": [
      "CPU times: user 103 ms, sys: 29.5 ms, total: 133 ms\n",
      "Wall time: 107 ms\n"
     ]
    },
    {
     "data": {
      "text/plain": [
       "<Embeddings.Synth_Uniform_Embedding at 0x2836cd2d0>"
      ]
     },
     "execution_count": 28,
     "metadata": {},
     "output_type": "execute_result"
    }
   ],
   "source": [
    "%%time\n",
    "Synth_Uniform_Embedding(seed = seed, dimension = dimension, num_users = num_users)"
   ]
  },
  {
   "cell_type": "code",
   "execution_count": 30,
   "id": "ca63592d",
   "metadata": {},
   "outputs": [
    {
     "name": "stdout",
     "output_type": "stream",
     "text": [
      "CPU times: user 100 ms, sys: 10.9 ms, total: 111 ms\n",
      "Wall time: 102 ms\n"
     ]
    },
    {
     "data": {
      "text/plain": [
       "<Embeddings.Synth_Skewed_Embedding at 0x2836cd810>"
      ]
     },
     "execution_count": 30,
     "metadata": {},
     "output_type": "execute_result"
    }
   ],
   "source": [
    "%%time \n",
    "Synth_Skewed_Embedding(seed = seed, dimension = dimension, num_users = num_users)"
   ]
  },
  {
   "cell_type": "code",
   "execution_count": 31,
   "id": "b7cd6911",
   "metadata": {},
   "outputs": [],
   "source": [
    "data_1m = Dataset.load_builtin(\"ml-1m\")\n",
    "algo = NMF(n_factors = dimension)"
   ]
  },
  {
   "cell_type": "code",
   "execution_count": 32,
   "id": "da24b9e2",
   "metadata": {},
   "outputs": [
    {
     "name": "stdout",
     "output_type": "stream",
     "text": [
      "CPU times: user 44.1 s, sys: 1.23 s, total: 45.3 s\n",
      "Wall time: 45.9 s\n"
     ]
    },
    {
     "data": {
      "text/plain": [
       "{'test_rmse': array([0.92154039, 0.92485808, 0.92895589, 0.92276978, 0.92222595]),\n",
       " 'test_mae': array([0.71805658, 0.72097449, 0.72349717, 0.71861359, 0.71875723]),\n",
       " 'fit_time': (6.67971396446228,\n",
       "  7.832223892211914,\n",
       "  7.470250129699707,\n",
       "  7.059213638305664,\n",
       "  8.431855201721191),\n",
       " 'test_time': (0.9118578433990479,\n",
       "  0.7928268909454346,\n",
       "  0.8068079948425293,\n",
       "  0.8744821548461914,\n",
       "  0.907249927520752)}"
      ]
     },
     "execution_count": 32,
     "metadata": {},
     "output_type": "execute_result"
    }
   ],
   "source": [
    "%%time\n",
    "cross_validate(algo, data, measures=['RMSE', 'MAE'], cv=5, verbose=False)"
   ]
  },
  {
   "cell_type": "code",
   "execution_count": null,
   "id": "f9adedad",
   "metadata": {},
   "outputs": [],
   "source": []
  },
  {
   "cell_type": "code",
   "execution_count": 13,
   "id": "bfb71994",
   "metadata": {},
   "outputs": [],
   "source": [
    "data_100k = Dataset.load_builtin(\"ml-100k\")\n",
    "algo = NMF(n_factors = dimension)"
   ]
  },
  {
   "cell_type": "code",
   "execution_count": 17,
   "id": "1a8b214a",
   "metadata": {},
   "outputs": [
    {
     "name": "stdout",
     "output_type": "stream",
     "text": [
      "CPU times: user 3.45 s, sys: 47.9 ms, total: 3.5 s\n",
      "Wall time: 3.5 s\n"
     ]
    },
    {
     "data": {
      "text/plain": [
       "{'test_rmse': array([0.98100904, 0.95739606, 0.96490483, 0.96961046, 0.96613193]),\n",
       " 'test_mae': array([0.76027786, 0.74715946, 0.74949183, 0.75416723, 0.75261982]),\n",
       " 'fit_time': (0.5318951606750488,\n",
       "  0.6303560733795166,\n",
       "  0.5633001327514648,\n",
       "  0.518355131149292,\n",
       "  0.5442061424255371),\n",
       " 'test_time': (0.03415083885192871,\n",
       "  0.03374910354614258,\n",
       "  0.0338129997253418,\n",
       "  0.03432035446166992,\n",
       "  0.03285098075866699)}"
      ]
     },
     "execution_count": 17,
     "metadata": {},
     "output_type": "execute_result"
    }
   ],
   "source": [
    "%%time\n",
    "cross_validate(algo, data_100k, measures=['RMSE', 'MAE'], cv=5, verbose=False)"
   ]
  },
  {
   "cell_type": "code",
   "execution_count": null,
   "id": "7c7c66c5",
   "metadata": {},
   "outputs": [],
   "source": []
  }
 ],
 "metadata": {
  "kernelspec": {
   "display_name": "recsys3.10",
   "language": "python",
   "name": "recsys3.10"
  },
  "language_info": {
   "codemirror_mode": {
    "name": "ipython",
    "version": 3
   },
   "file_extension": ".py",
   "mimetype": "text/x-python",
   "name": "python",
   "nbconvert_exporter": "python",
   "pygments_lexer": "ipython3",
   "version": "3.10.9"
  }
 },
 "nbformat": 4,
 "nbformat_minor": 5
}
