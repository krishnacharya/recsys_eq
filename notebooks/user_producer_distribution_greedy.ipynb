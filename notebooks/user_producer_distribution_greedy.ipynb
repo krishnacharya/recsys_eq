{
 "cells": [
  {
   "cell_type": "code",
   "execution_count": 1,
   "id": "0b47f225",
   "metadata": {},
   "outputs": [],
   "source": [
    "import sys\n",
    "sys.path.append('../source/')\n",
    "import numpy as np\n",
    "from plotting import *\n",
    "from tqdm import tqdm\n",
    "import pandas as pd"
   ]
  },
  {
   "cell_type": "code",
   "execution_count": 2,
   "id": "08dbe436",
   "metadata": {},
   "outputs": [],
   "source": [
    "## PLOT configs\n",
    "plt.rcParams.update({\n",
    "    \"pgf.texsystem\": \"pdflatex\",\n",
    "    'font.family': 'serif',\n",
    "    'font.size' : 15,                   # Set font size to 11pt\n",
    "    'axes.labelsize': 15,               # -> axis labels\n",
    "    'xtick.labelsize':12,\n",
    "    'ytick.labelsize':12,\n",
    "    'legend.fontsize': 12,\n",
    "    'lines.linewidth':2,\n",
    "    'text.usetex': False,\n",
    "    'pgf.rcfonts': False,\n",
    "})\n",
    "# plt.tight_layout(rect=[0, 0.03, 1, 0.85])"
   ]
  },
  {
   "cell_type": "markdown",
   "id": "51364368",
   "metadata": {},
   "source": [
    "### UNIFORM SYNTHETIC\n",
    "- all 400 instances converged to NE for softmax serving, \n",
    "- 399 o/f 400 instances conveged to NE for linear-prop serving\n",
    "- 397 o/f 400 instances converged to NE for greedy serving"
   ]
  },
  {
   "cell_type": "code",
   "execution_count": null,
   "id": "f307ec9b",
   "metadata": {},
   "outputs": [],
   "source": [
    "df_linear = pd.read_pickle(\"../saved_frames/uniform_synthetic_grid_linear_statistics.pkl\") \n",
    "df_softmax = pd.read_pickle(\"../saved_frames/uniform_synthetic_grid_softmax_statistics.pkl\") \n",
    "print(df_linear.shape, df_softmax.shape)"
   ]
  },
  {
   "cell_type": "code",
   "execution_count": null,
   "id": "76148fdc",
   "metadata": {},
   "outputs": [],
   "source": []
  }
 ],
 "metadata": {
  "kernelspec": {
   "display_name": "recsys3.10",
   "language": "python",
   "name": "recsys3.10"
  },
  "language_info": {
   "codemirror_mode": {
    "name": "ipython",
    "version": 3
   },
   "file_extension": ".py",
   "mimetype": "text/x-python",
   "name": "python",
   "nbconvert_exporter": "python",
   "pygments_lexer": "ipython3",
   "version": "3.10.9"
  }
 },
 "nbformat": 4,
 "nbformat_minor": 5
}
