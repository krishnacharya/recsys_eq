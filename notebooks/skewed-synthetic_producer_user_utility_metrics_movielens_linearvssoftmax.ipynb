{
 "cells": [
  {
   "cell_type": "code",
   "execution_count": 1,
   "id": "99f65dd4",
   "metadata": {},
   "outputs": [],
   "source": [
    "import sys\n",
    "sys.path.append('../source/')\n",
    "import numpy as np\n",
    "from Users import Users\n",
    "from Producers import ProducersEngagementGame\n",
    "from embeddings import *\n",
    "from sklearn.preprocessing import normalize\n",
    "from plotting import *"
   ]
  },
  {
   "cell_type": "code",
   "execution_count": 3,
   "id": "88f9a7f1",
   "metadata": {},
   "outputs": [],
   "source": [
    "def get_df_increasing_prods(user_embeddding, prob_type = 'linear', n_prodarr = [5, 10, 50, 100, 200]):\n",
    "  n_users, dimension = user_embeddding.shape\n",
    "  print(n_users, user_embeddding.sum())\n",
    "  res = []\n",
    "  for n_prod in tqdm(n_prodarr):\n",
    "    PEng = ProducersEngagementGame(num_producers = n_prod, users = Users(user_embeddding), prob = prob_type)\n",
    "    NE, NE_compact, iters = PEng.best_response_dynamics(verbose=False)\n",
    "    print(NE.shape, NE_compact.sum(), n_prod)\n",
    "    dir_prods, prod_utils, user_utils = get_all_engagement_utilities(NE, user_embeddding, prob_type = prob_type)\n",
    "    di = {'n_prod' : n_prod,\n",
    "        'NE_compact' : NE_compact,\n",
    "        'prod_dist' : NE_compact / n_prod,\n",
    "        'user_dist': user_embeddding.sum(axis = 0) / n_users,\n",
    "        'iters_to_NE':iters,\n",
    "        \n",
    "        'total_prod_util': prod_utils.sum(),\n",
    "        'avg_prod_util': prod_utils.mean(),\n",
    "        'max_prod_util': prod_utils.max(),\n",
    "        'min_prod_util': prod_utils.min(),\n",
    "        \n",
    "        'total_user_util': user_utils.sum(),\n",
    "        'avg_user_util': user_utils.mean(),\n",
    "        'max_user_util': user_utils.max(),\n",
    "        'min_user_util': user_utils.min(),\n",
    "      }\n",
    "    res.append(di)\n",
    "  return pd.DataFrame(res)"
   ]
  },
  {
   "cell_type": "code",
   "execution_count": 2,
   "id": "730898f6",
   "metadata": {},
   "outputs": [
    {
     "data": {
      "text/plain": [
       "array([[0.01752031, 0.01809514, 0.01859104, ..., 0.16073743, 0.26796799,\n",
       "        0.28320297],\n",
       "       [0.01399876, 0.03481485, 0.04713128, ..., 0.14682736, 0.20080331,\n",
       "        0.21259828],\n",
       "       [0.00514616, 0.00538522, 0.02656787, ..., 0.09776193, 0.22318876,\n",
       "        0.41546878],\n",
       "       ...,\n",
       "       [0.00807673, 0.02690842, 0.05638621, ..., 0.163757  , 0.19469924,\n",
       "        0.21837601],\n",
       "       [0.00682801, 0.01373812, 0.01531504, ..., 0.2368593 , 0.23695991,\n",
       "        0.24160434],\n",
       "       [0.00846924, 0.01734071, 0.01912364, ..., 0.18137199, 0.26712553,\n",
       "        0.26810482]])"
      ]
     },
     "execution_count": 2,
     "metadata": {},
     "output_type": "execute_result"
    }
   ],
   "source": [
    "# sorted user embeddings, linear probability, dim 10 \n",
    "num_users = 10000\n",
    "dimension = 10\n",
    "\n",
    "user_embeddings = generate_uniform_users(dimension = dimension, num_users = num_users)\n",
    "user_embeddings.sort(axis=1) # sort each row in ascending order\n",
    "\n",
    "user_embeddings"
   ]
  },
  {
   "cell_type": "code",
   "execution_count": null,
   "id": "13d19786",
   "metadata": {},
   "outputs": [],
   "source": []
  }
 ],
 "metadata": {
  "kernelspec": {
   "display_name": "recsys3.10",
   "language": "python",
   "name": "recsys3.10"
  },
  "language_info": {
   "codemirror_mode": {
    "name": "ipython",
    "version": 3
   },
   "file_extension": ".py",
   "mimetype": "text/x-python",
   "name": "python",
   "nbconvert_exporter": "python",
   "pygments_lexer": "ipython3",
   "version": "3.10.9"
  }
 },
 "nbformat": 4,
 "nbformat_minor": 5
}
