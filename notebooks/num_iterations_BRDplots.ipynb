{
 "cells": [
  {
   "cell_type": "code",
   "execution_count": 1,
   "metadata": {},
   "outputs": [],
   "source": [
    "import sys\n",
    "sys.path.append('../source/')\n",
    "import numpy as np\n",
    "from Users import Users\n",
    "from Producers import ProducersEngagementGame\n",
    "from embeddings import generate_uniform_user\n",
    "from sklearn.preprocessing import normalize"
   ]
  },
  {
   "cell_type": "code",
   "execution_count": 2,
   "metadata": {},
   "outputs": [],
   "source": [
    "from surprise import NMF\n",
    "from surprise import Dataset\n",
    "from surprise.model_selection import cross_validate\n",
    "from sklearn.preprocessing import normalize\n",
    "import numpy as np\n",
    "import random"
   ]
  },
  {
   "cell_type": "code",
   "execution_count": 3,
   "metadata": {},
   "outputs": [
    {
     "name": "stdout",
     "output_type": "stream",
     "text": [
      "Dataset ml-100k could not be found. Do you want to download it? [Y/n] Y\n",
      "Trying to download dataset from https://files.grouplens.org/datasets/movielens/ml-100k.zip...\n",
      "Done! Dataset ml-100k has been saved to /Users/krishna/.surprise_data/ml-100k\n"
     ]
    }
   ],
   "source": [
    "# Load the movielens-100k dataset\n",
    "data = Dataset.load_builtin('ml-100k')\n",
    "#data = Dataset.load_builtin('ml-1m')\n",
    "\n",
    "# Compute user embeddings\n",
    "def get_user_embeddings(user_dimension,algorithm):\n",
    "  if algorithm == 'NMF':\n",
    "    algo = NMF(n_factors=user_dimension)\n",
    "    cross_validate(algo, data, measures=['RMSE', 'MAE'], cv=5, verbose=False)\n",
    "    users = normalize(algo.pu, \"l1\")\n",
    "    print('Used NMF')\n",
    "\n",
    "  # if algorithm == 'SVD':\n",
    "  #   algo = SVD(n_factors=user_dimension)\n",
    "  #   cross_validate(algo, data, measures=['RMSE', 'MAE'], cv=5, verbose=False)\n",
    "  #   users = normalize(-np.min(algo.pu,axis = None) + algo.pu,\"l1\")\n",
    "  #   print('Used SVD')\n",
    "  return users"
   ]
  },
  {
   "cell_type": "markdown",
   "metadata": {},
   "source": [
    "### Below we plot the number of iterations to convergence for the best response dynamics\n",
    "#### for dimension = 5, 10, 15 and increasing the number of producers from 1 to 100"
   ]
  },
  {
   "cell_type": "code",
   "execution_count": null,
   "metadata": {},
   "outputs": [],
   "source": [
    "dimension = 15\n",
    "num_producers = 100\n",
    "dataset = Dataset.load_builtin('ml-100k')\n",
    "user_embeddings = get_user_embeddings(dimension, dataset) # first generate the embedding then pass to Users class to make an object\n",
    "users = Users(user_embeddings) # we must use the Users class and pass it the numpy embeddings\n",
    "# PEng = ProducersEngagementGame(num_producers=num_producers, users=users, prob = 'linear')\n",
    "PEng = ProducersEngagementGame(num_producers=num_producers, users=users, prob = 'softmax')\n",
    "NE, iters= PEng.best_response_dynamics(verbose=True) # runs a single best response dynamics"
   ]
  },
  {
   "cell_type": "code",
   "execution_count": 5,
   "metadata": {},
   "outputs": [],
   "source": [
    "num_prod_array = np.arange(1, 101, 1) # 1..100 producers"
   ]
  },
  {
   "cell_type": "code",
   "execution_count": null,
   "metadata": {},
   "outputs": [],
   "source": [
    "# five dimensional embeddings\n",
    "dimension = 5"
   ]
  },
  {
   "cell_type": "code",
   "execution_count": null,
   "metadata": {},
   "outputs": [],
   "source": []
  }
 ],
 "metadata": {
  "kernelspec": {
   "display_name": "Python 3.10.13 ('recsys')",
   "language": "python",
   "name": "python3"
  },
  "language_info": {
   "codemirror_mode": {
    "name": "ipython",
    "version": 3
   },
   "file_extension": ".py",
   "mimetype": "text/x-python",
   "name": "python",
   "nbconvert_exporter": "python",
   "pygments_lexer": "ipython3",
   "version": "3.10.13"
  },
  "vscode": {
   "interpreter": {
    "hash": "ee54be9069c715697806837d8c51e202bd664c5c3200a4325dc96f05a2e1ec8f"
   }
  }
 },
 "nbformat": 4,
 "nbformat_minor": 2
}
