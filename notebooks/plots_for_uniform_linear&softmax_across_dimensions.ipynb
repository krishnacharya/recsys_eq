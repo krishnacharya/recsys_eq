{
 "cells": [
  {
   "cell_type": "code",
   "execution_count": 1,
   "id": "ff8aea8e",
   "metadata": {},
   "outputs": [],
   "source": [
    "import pandas as pd\n",
    "import numpy as np\n",
    "import matplotlib.pyplot as plt"
   ]
  },
  {
   "cell_type": "code",
   "execution_count": 6,
   "id": "8d89863c",
   "metadata": {},
   "outputs": [],
   "source": [
    "df = pd.read_pickle('../saved_frames/uniform_users_s')"
   ]
  },
  {
   "cell_type": "code",
   "execution_count": 5,
   "id": "f6b6e71d",
   "metadata": {},
   "outputs": [
    {
     "data": {
      "text/html": [
       "<div>\n",
       "<style scoped>\n",
       "    .dataframe tbody tr th:only-of-type {\n",
       "        vertical-align: middle;\n",
       "    }\n",
       "\n",
       "    .dataframe tbody tr th {\n",
       "        vertical-align: top;\n",
       "    }\n",
       "\n",
       "    .dataframe thead th {\n",
       "        text-align: right;\n",
       "    }\n",
       "</style>\n",
       "<table border=\"1\" class=\"dataframe\">\n",
       "  <thead>\n",
       "    <tr style=\"text-align: right;\">\n",
       "      <th></th>\n",
       "      <th>dimension</th>\n",
       "      <th>user_draw</th>\n",
       "      <th>num_users</th>\n",
       "      <th>num_producers</th>\n",
       "      <th>num_iters</th>\n",
       "      <th>NE</th>\n",
       "      <th>producer_dist</th>\n",
       "      <th>user_dist</th>\n",
       "    </tr>\n",
       "  </thead>\n",
       "  <tbody>\n",
       "    <tr>\n",
       "      <th>0</th>\n",
       "      <td>5</td>\n",
       "      <td>0</td>\n",
       "      <td>10000</td>\n",
       "      <td>100</td>\n",
       "      <td>[15, 6, 13, 12, 12, 12, 6, 13, 13, 3, 16, 12, ...</td>\n",
       "      <td>[20.0, 21.0, 19.0, 19.0, 21.0]</td>\n",
       "      <td>[0.2, 0.21, 0.19, 0.19, 0.21]</td>\n",
       "      <td>[0.2004279908273688, 0.20078002329014444, 0.19...</td>\n",
       "    </tr>\n",
       "    <tr>\n",
       "      <th>1</th>\n",
       "      <td>5</td>\n",
       "      <td>1</td>\n",
       "      <td>10000</td>\n",
       "      <td>100</td>\n",
       "      <td>[6, 9, 5, 9, 6, 6, 6, 9, 10, 16, 11, 10, 14, 8...</td>\n",
       "      <td>[17.0, 19.0, 21.0, 22.0, 21.0]</td>\n",
       "      <td>[0.17, 0.19, 0.21, 0.22, 0.21]</td>\n",
       "      <td>[0.19622756304484776, 0.19862866013688202, 0.2...</td>\n",
       "    </tr>\n",
       "    <tr>\n",
       "      <th>2</th>\n",
       "      <td>5</td>\n",
       "      <td>2</td>\n",
       "      <td>10000</td>\n",
       "      <td>100</td>\n",
       "      <td>[4, 8, 13, 10, 2, 6, 12, 7, 15, 12, 13, 21, 11...</td>\n",
       "      <td>[19.0, 20.0, 21.0, 21.0, 19.0]</td>\n",
       "      <td>[0.19, 0.2, 0.21, 0.21, 0.19]</td>\n",
       "      <td>[0.19828060760023797, 0.2000865819399328, 0.20...</td>\n",
       "    </tr>\n",
       "    <tr>\n",
       "      <th>3</th>\n",
       "      <td>5</td>\n",
       "      <td>3</td>\n",
       "      <td>10000</td>\n",
       "      <td>100</td>\n",
       "      <td>[10, 8, 17, 9, 12, 7, 14, 14, 6, 9, 7, 6, 8, 7...</td>\n",
       "      <td>[21.0, 20.0, 21.0, 19.0, 19.0]</td>\n",
       "      <td>[0.21, 0.2, 0.21, 0.19, 0.19]</td>\n",
       "      <td>[0.2008020682774922, 0.20159366537787254, 0.20...</td>\n",
       "    </tr>\n",
       "    <tr>\n",
       "      <th>4</th>\n",
       "      <td>5</td>\n",
       "      <td>4</td>\n",
       "      <td>10000</td>\n",
       "      <td>100</td>\n",
       "      <td>[9, 15, 7, 4, 13, 14, 12, 14, 18, 10, 12, 15, ...</td>\n",
       "      <td>[21.0, 19.0, 20.0, 20.0, 20.0]</td>\n",
       "      <td>[0.21, 0.19, 0.2, 0.2, 0.2]</td>\n",
       "      <td>[0.2012262613773008, 0.19850349784622717, 0.20...</td>\n",
       "    </tr>\n",
       "  </tbody>\n",
       "</table>\n",
       "</div>"
      ],
      "text/plain": [
       "   dimension  user_draw  num_users  num_producers  \\\n",
       "0          5          0      10000            100   \n",
       "1          5          1      10000            100   \n",
       "2          5          2      10000            100   \n",
       "3          5          3      10000            100   \n",
       "4          5          4      10000            100   \n",
       "\n",
       "                                           num_iters  \\\n",
       "0  [15, 6, 13, 12, 12, 12, 6, 13, 13, 3, 16, 12, ...   \n",
       "1  [6, 9, 5, 9, 6, 6, 6, 9, 10, 16, 11, 10, 14, 8...   \n",
       "2  [4, 8, 13, 10, 2, 6, 12, 7, 15, 12, 13, 21, 11...   \n",
       "3  [10, 8, 17, 9, 12, 7, 14, 14, 6, 9, 7, 6, 8, 7...   \n",
       "4  [9, 15, 7, 4, 13, 14, 12, 14, 18, 10, 12, 15, ...   \n",
       "\n",
       "                               NE                   producer_dist  \\\n",
       "0  [20.0, 21.0, 19.0, 19.0, 21.0]   [0.2, 0.21, 0.19, 0.19, 0.21]   \n",
       "1  [17.0, 19.0, 21.0, 22.0, 21.0]  [0.17, 0.19, 0.21, 0.22, 0.21]   \n",
       "2  [19.0, 20.0, 21.0, 21.0, 19.0]   [0.19, 0.2, 0.21, 0.21, 0.19]   \n",
       "3  [21.0, 20.0, 21.0, 19.0, 19.0]   [0.21, 0.2, 0.21, 0.19, 0.19]   \n",
       "4  [21.0, 19.0, 20.0, 20.0, 20.0]     [0.21, 0.19, 0.2, 0.2, 0.2]   \n",
       "\n",
       "                                           user_dist  \n",
       "0  [0.2004279908273688, 0.20078002329014444, 0.19...  \n",
       "1  [0.19622756304484776, 0.19862866013688202, 0.2...  \n",
       "2  [0.19828060760023797, 0.2000865819399328, 0.20...  \n",
       "3  [0.2008020682774922, 0.20159366537787254, 0.20...  \n",
       "4  [0.2012262613773008, 0.19850349784622717, 0.20...  "
      ]
     },
     "execution_count": 5,
     "metadata": {},
     "output_type": "execute_result"
    }
   ],
   "source": [
    "df.head()"
   ]
  },
  {
   "cell_type": "markdown",
   "id": "c9dc999a",
   "metadata": {},
   "source": [
    "### number of iterations d = 5, 10, 15, n_prod = 100, n_users = 10000, draws taken 10 times"
   ]
  },
  {
   "cell_type": "code",
   "execution_count": 8,
   "id": "19a1a632",
   "metadata": {},
   "outputs": [
    {
     "data": {
      "text/plain": [
       "(10.36, 3.448245930904581)"
      ]
     },
     "execution_count": 8,
     "metadata": {},
     "output_type": "execute_result"
    }
   ],
   "source": [
    "df_dim5 = df[df['dimension'] == 5]\n",
    "num_iters_dim5_across_draws = np.array(df_dim5.num_iters.to_list())\n",
    "num_iters_dim5_across_draws.mean(), num_iters_dim5_across_draws.std()"
   ]
  },
  {
   "cell_type": "code",
   "execution_count": 9,
   "id": "e1fb8efa",
   "metadata": {},
   "outputs": [
    {
     "data": {
      "text/plain": [
       "(16.755, 3.854215224919335)"
      ]
     },
     "execution_count": 9,
     "metadata": {},
     "output_type": "execute_result"
    }
   ],
   "source": [
    "df_dim10 = df[df['dimension'] == 10]\n",
    "num_iters_dim10_across_draws = np.array(df_dim10.num_iters.to_list())\n",
    "num_iters_dim10_across_draws.mean(), num_iters_dim10_across_draws.std()"
   ]
  },
  {
   "cell_type": "code",
   "execution_count": 10,
   "id": "5117d68b",
   "metadata": {},
   "outputs": [
    {
     "data": {
      "text/plain": [
       "(21.505, 3.853566529852573)"
      ]
     },
     "execution_count": 10,
     "metadata": {},
     "output_type": "execute_result"
    }
   ],
   "source": [
    "df_dim15 = df[df['dimension'] == 15]\n",
    "num_iters_dim15_across_draws = np.array(df_dim15.num_iters.to_list())\n",
    "num_iters_dim15_across_draws.mean(), num_iters_dim15_across_draws.std()"
   ]
  },
  {
   "cell_type": "markdown",
   "id": "b256dab9",
   "metadata": {},
   "source": [
    "### Representative sample of NE producer spread, and average users in each direction"
   ]
  },
  {
   "cell_type": "code",
   "execution_count": 56,
   "id": "c0f539c4",
   "metadata": {},
   "outputs": [],
   "source": [
    "seed = 13"
   ]
  },
  {
   "cell_type": "code",
   "execution_count": 63,
   "id": "0ca21d1b",
   "metadata": {},
   "outputs": [
    {
     "name": "stdout",
     "output_type": "stream",
     "text": [
      "[0.21 0.2  0.21 0.19 0.19] [0.20080207 0.20159367 0.20089622 0.19871976 0.19798828]\n"
     ]
    }
   ],
   "source": [
    "df_dim5_rand_row = df_dim5.sample(n=1, random_state=seed)\n",
    "pd_5, ud_5 = df_dim5_rand_row['producer_dist'].iloc[0], df_dim5_rand_row['user_dist'].iloc[0]\n",
    "print(pd_5, ud_5)"
   ]
  },
  {
   "cell_type": "code",
   "execution_count": 64,
   "id": "5c1460f8",
   "metadata": {},
   "outputs": [
    {
     "name": "stdout",
     "output_type": "stream",
     "text": [
      "[0.09 0.1  0.1  0.1  0.11 0.12 0.1  0.08 0.08 0.12] [0.09934937 0.10062304 0.09999563 0.09995971 0.10074951 0.10174999\n",
      " 0.10037545 0.0976615  0.09805109 0.10148471]\n"
     ]
    }
   ],
   "source": [
    "df_dim10_rand_row = df_dim10.sample(n=1, random_state=seed)\n",
    "pd_10, ud_10 = df_dim10_rand_row['producer_dist'].iloc[0], df_dim10_rand_row['user_dist'].iloc[0]\n",
    "print(pd_10, ud_10)"
   ]
  },
  {
   "cell_type": "code",
   "execution_count": 65,
   "id": "91b90e68",
   "metadata": {},
   "outputs": [
    {
     "name": "stdout",
     "output_type": "stream",
     "text": [
      "[0.09 0.05 0.08 0.06 0.06 0.07 0.05 0.07 0.04 0.07 0.07 0.07 0.08 0.08\n",
      " 0.06] [0.06772556 0.06575526 0.0670628  0.0658633  0.06629241 0.06648079\n",
      " 0.06608811 0.06654841 0.06540092 0.06722944 0.06704071 0.06714202\n",
      " 0.06722719 0.06775367 0.06638941]\n"
     ]
    }
   ],
   "source": [
    "df_dim15_rand_row = df_dim15.sample(n=1, random_state=seed)\n",
    "pd_15, ud_15  = df_dim15_rand_row['producer_dist'].iloc[0], df_dim15_rand_row['user_dist'].iloc[0]\n",
    "print(pd_15, ud_15)"
   ]
  },
  {
   "cell_type": "code",
   "execution_count": 103,
   "id": "0c690cb3",
   "metadata": {},
   "outputs": [],
   "source": [
    "def user_producer_2bar_plot(pd, ud): #producer distribution and user distirbution\n",
    "  dim = len(pd)\n",
    "  y_max = max(max(ud), max(pd))\n",
    "  \n",
    "  x1, y1 = np.arange(dim), ud\n",
    "  x2, y2 = np.arange(dim), pd\n",
    "\n",
    "  fig, ax = plt.subplots()\n",
    "  ax.bar(np.array(x1)-0.15, y1, width = 0.3, color='royalblue')\n",
    "  ax.set_ylabel('Average User weight', fontsize=16)\n",
    "  ax.set_xlabel('feature #', fontsize=16)\n",
    "  plt.ylim(0, y_max)\n",
    "\n",
    "  ax2 = ax.twinx()\n",
    "  ax2.bar(np.array(x2)+0.15, y2, width = 0.3, color='seagreen')\n",
    "  ax2.set_ylabel('Fraction of Producers', fontsize=16)\n",
    "  plt.ylim(0, y_max)\n",
    "\n",
    "  plt.xticks(range(N))\n",
    "  plt.show()"
   ]
  },
  {
   "cell_type": "code",
   "execution_count": 94,
   "id": "5ef3bdb4",
   "metadata": {},
   "outputs": [],
   "source": [
    "# import numpy as np\n",
    "# import matplotlib.pyplot as plt\n",
    "\n",
    "# def plot_2bar_producer_user(pd, ud, savename): # producer distribution and user distribution\n",
    "#   print(pd.shape, ud.shape)\n",
    "#   print(np.sum(pd), np.sum(ud))\n",
    "#   N = len(pd)\n",
    "#   ind = np.arange(N)  # the x locations for the groups\n",
    "#   width = 0.35       # the width of the bars\n",
    "#   fig = plt.figure()\n",
    "#   ax = fig.add_subplot(111)\n",
    "#   # rects1 = ax.bar(ind, menMeans, width, color='royalblue', yerr=menStd)\n",
    "#   rects1 = ax.bar(ind, ud, width, color='royalblue')\n",
    "#   rects2 = ax.bar(ind+width, pd, width, color='seagreen')\n",
    "#   ax\n",
    "#   ax2 = ax.twinx()\n",
    "#   ax.set_xlabel('feature #')\n",
    "#   # ax.set_title('')\n",
    "#   ax.set_xticks(ind + width / 2)\n",
    "#   ax.set_xticklabels(range(1,N+1))\n",
    "#   ax.legend( (rects1[0], rects2[0]), ('User fraction', 'Producer fraction'), loc='upper center')\n",
    "#   plt.savefig(savename)\n",
    "#   plt.show()"
   ]
  },
  {
   "cell_type": "code",
   "execution_count": 104,
   "id": "1382bde2",
   "metadata": {},
   "outputs": [
    {
     "data": {
      "image/png": "[encoded data removed]",
      "text/plain": [
       "<Figure size 640x480 with 2 Axes>"
      ]
     },
     "metadata": {},
     "output_type": "display_data"
    }
   ],
   "source": [
    "user_producer_2bar_plot(pd_15, ud_15)"
   ]
  },
  {
   "cell_type": "code",
   "execution_count": null,
   "id": "fa71d99d",
   "metadata": {},
   "outputs": [],
   "source": []
  }
 ],
 "metadata": {
  "kernelspec": {
   "display_name": "recsys3.10",
   "language": "python",
   "name": "recsys3.10"
  },
  "language_info": {
   "codemirror_mode": {
    "name": "ipython",
    "version": 3
   },
   "file_extension": ".py",
   "mimetype": "text/x-python",
   "name": "python",
   "nbconvert_exporter": "python",
   "pygments_lexer": "ipython3",
   "version": "3.10.9"
  }
 },
 "nbformat": 4,
 "nbformat_minor": 5
}
