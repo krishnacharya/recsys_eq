{
 "cells": [
  {
   "cell_type": "code",
   "execution_count": 19,
   "metadata": {},
   "outputs": [],
   "source": [
    "import sys\n",
    "sys.path.append('../source/')\n",
    "import numpy as np\n",
    "from Users import Users\n",
    "from Producers import ProducersEngagementGame\n",
    "from embeddings import generate_uniform_user\n",
    "from sklearn.preprocessing import normalize\n",
    "from surprise import NMF\n",
    "from surprise import Dataset\n",
    "from surprise.model_selection import cross_validate\n",
    "from sklearn.preprocessing import normalize\n",
    "import numpy as np\n",
    "import random\n",
    "from tqdm import tqdm"
   ]
  },
  {
   "cell_type": "markdown",
   "metadata": {},
   "source": [
    "### Synthetic data uniformly drawn\n"
   ]
  },
  {
   "cell_type": "code",
   "execution_count": 39,
   "metadata": {},
   "outputs": [],
   "source": [
    "num_users = 10000\n",
    "dimensions = [5, 10, 15]\n",
    "num_producers = 100\n",
    "runs = 10 # number of BRD runs for each game"
   ]
  },
  {
   "cell_type": "markdown",
   "metadata": {},
   "source": [
    "#### Dimension = 5, linear and softmax"
   ]
  },
  {
   "cell_type": "code",
   "execution_count": 5,
   "metadata": {},
   "outputs": [],
   "source": [
    "# for dim = 5\n",
    "dim = 5\n",
    "user_embeddings = np.array([generate_uniform_user(dim) for i in range(num_users)])"
   ]
  },
  {
   "cell_type": "code",
   "execution_count": 13,
   "metadata": {},
   "outputs": [
    {
     "name": "stdout",
     "output_type": "stream",
     "text": [
      "(10000, 5)\n",
      "[1. 1. 1. ... 1. 1. 1.] 0.9311126606742359 1.2388563260246066e-05\n"
     ]
    },
    {
     "data": {
      "text/plain": [
       "(array([0.19885719, 0.20164988, 0.20212607, 0.20155954, 0.19580732]),\n",
       " array([0.16292697, 0.16392367, 0.16354044, 0.16389205, 0.1614871 ]))"
      ]
     },
     "execution_count": 13,
     "metadata": {},
     "output_type": "execute_result"
    }
   ],
   "source": [
    "print(user_embeddings.shape)\n",
    "print(np.sum(user_embeddings, axis=1), np.max(user_embeddings), np.min(user_embeddings))\n",
    "np.mean(user_embeddings, axis=0), np.std(user_embeddings, axis=0)"
   ]
  },
  {
   "cell_type": "markdown",
   "metadata": {},
   "source": [
    "#### LINEAR, d=5"
   ]
  },
  {
   "cell_type": "code",
   "execution_count": 40,
   "metadata": {},
   "outputs": [
    {
     "name": "stderr",
     "output_type": "stream",
     "text": [
      "100%|██████████| 10/10 [00:55<00:00,  5.59s/it]\n"
     ]
    }
   ],
   "source": [
    "users = Users(user_embeddings)\n",
    "PEng = ProducersEngagementGame(num_producers=num_producers, users=users, prob = 'softmax') #change back to linear\n",
    "for run in tqdm(range(runs)):\n",
    "    PEng.best_response_dynamics(verbose=False) # runs a single best response dynamics\n",
    "NE_linear_uniform_users = PEng.BR_dyna_NE"
   ]
  },
  {
   "cell_type": "code",
   "execution_count": 41,
   "metadata": {},
   "outputs": [
    {
     "name": "stdout",
     "output_type": "stream",
     "text": [
      "#unique nash equilibria 1 {(17.0, 24.0, 26.0, 24.0, 9.0)}\n"
     ]
    }
   ],
   "source": [
    "print(f'#unique nash equilibria {len(NE_linear_uniform_users)}', NE_linear_uniform_users)"
   ]
  },
  {
   "cell_type": "code",
   "execution_count": 31,
   "metadata": {},
   "outputs": [
    {
     "name": "stdout",
     "output_type": "stream",
     "text": [
      "(19.0, 21.0, 21.0, 21.0, 18.0)\n"
     ]
    }
   ],
   "source": [
    "tuple_producer_profile = NE_linear_uniform_users.pop()\n",
    "print(tuple_producer_profile)"
   ]
  },
  {
   "cell_type": "code",
   "execution_count": 42,
   "metadata": {},
   "outputs": [
    {
     "name": "stdout",
     "output_type": "stream",
     "text": [
      "(17.0, 24.0, 26.0, 24.0, 9.0)\n"
     ]
    }
   ],
   "source": [
    "tuple_producer_profile = NE_linear_uniform_users.pop()\n",
    "print(tuple_producer_profile)\n",
    "NE_softmax_dim5 = np.array(tuple_producer_profile)"
   ]
  },
  {
   "cell_type": "code",
   "execution_count": 34,
   "metadata": {},
   "outputs": [],
   "source": [
    "NE_linear_dim5 = np.array(tuple_producer_profile)"
   ]
  },
  {
   "cell_type": "code",
   "execution_count": 44,
   "metadata": {},
   "outputs": [
    {
     "data": {
      "text/plain": [
       "(array([19., 21., 21., 21., 18.]), array([17., 24., 26., 24.,  9.]))"
      ]
     },
     "execution_count": 44,
     "metadata": {},
     "output_type": "execute_result"
    }
   ],
   "source": [
    "NE_linear_dim5, NE_softmax_dim5"
   ]
  },
  {
   "cell_type": "code",
   "execution_count": 46,
   "metadata": {},
   "outputs": [
    {
     "data": {
      "text/plain": [
       "(array([0.19885719, 0.20164988, 0.20212607, 0.20155954, 0.19580732]),\n",
       " array([0.19885719, 0.20164988, 0.20212607, 0.20155954, 0.19580732]))"
      ]
     },
     "execution_count": 46,
     "metadata": {},
     "output_type": "execute_result"
    }
   ],
   "source": [
    "np.sum(user_embeddings, axis=0) / np.sum(user_embeddings), np.sum(user_embeddings, axis=0) / user_embeddings.shape[0]"
   ]
  },
  {
   "cell_type": "code",
   "execution_count": null,
   "metadata": {},
   "outputs": [],
   "source": []
  }
 ],
 "metadata": {
  "kernelspec": {
   "display_name": "Python 3.10.13 ('recsys')",
   "language": "python",
   "name": "python3"
  },
  "language_info": {
   "codemirror_mode": {
    "name": "ipython",
    "version": 3
   },
   "file_extension": ".py",
   "mimetype": "text/x-python",
   "name": "python",
   "nbconvert_exporter": "python",
   "pygments_lexer": "ipython3",
   "version": "3.10.13"
  },
  "orig_nbformat": 4,
  "vscode": {
   "interpreter": {
    "hash": "ee54be9069c715697806837d8c51e202bd664c5c3200a4325dc96f05a2e1ec8f"
   }
  }
 },
 "nbformat": 4,
 "nbformat_minor": 2
}
