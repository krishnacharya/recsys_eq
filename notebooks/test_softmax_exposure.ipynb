{
 "cells": [
  {
   "cell_type": "code",
   "execution_count": 1,
   "id": "33b012e1",
   "metadata": {},
   "outputs": [],
   "source": [
    "import sys\n",
    "sys.path.append('../source/')\n",
    "import pandas as pd\n",
    "import numpy as np\n",
    "import matplotlib.pyplot as plt"
   ]
  },
  {
   "cell_type": "code",
   "execution_count": 2,
   "id": "cb021448",
   "metadata": {},
   "outputs": [],
   "source": [
    "from Producers import *\n",
    "from Users import *\n",
    "from embeddings import *"
   ]
  },
  {
   "cell_type": "code",
   "execution_count": 3,
   "id": "32c03a5d",
   "metadata": {},
   "outputs": [],
   "source": [
    "# testing out on synthetic data\n",
    "\n",
    "dimension = 5\n",
    "num_users = 10000\n",
    "num_producers = 100\n",
    "\n",
    "user_embeddings = np.array([generate_uniform_user(dimension) for _ in range(num_users)])\n",
    "users = Users(user_embeddings)\n",
    "Psmexp = ProducerSoftmaxExposureGame(num_producers=num_producers, users=users)"
   ]
  },
  {
   "cell_type": "code",
   "execution_count": null,
   "id": "71ea8850",
   "metadata": {},
   "outputs": [],
   "source": [
    "PEng = ProducersEngagementGame(num_producers=num_producers, users=users, pr)"
   ]
  },
  {
   "cell_type": "code",
   "execution_count": 8,
   "id": "3c983a4c",
   "metadata": {},
   "outputs": [
    {
     "name": "stdout",
     "output_type": "stream",
     "text": [
      "##### PRODUCERS FOR ITER 0\n",
      " [17. 19. 23. 17. 24.]\n",
      "##### PRODUCERS FOR ITER 0 \n",
      " [17. 20. 22. 17. 24.]\n",
      "##### PRODUCERS FOR ITER 1 \n",
      " [17. 21. 22. 17. 23.]\n",
      "##### PRODUCERS FOR ITER 2 \n",
      " [17. 21. 21. 17. 24.]\n",
      "##### PRODUCERS FOR ITER 3 \n",
      " [17. 22. 20. 17. 24.]\n",
      "##### PRODUCERS FOR ITER 4 \n",
      " [17. 22. 19. 17. 25.]\n",
      "##### PRODUCERS FOR ITER 5 \n",
      " [17. 23. 18. 17. 25.]\n",
      "##### PRODUCERS FOR ITER 6 \n",
      " [17. 23. 18. 16. 26.]\n",
      "##### PRODUCERS FOR ITER 7 \n",
      " [16. 24. 18. 16. 26.]\n",
      "##### PRODUCERS FOR ITER 8 \n",
      " [15. 24. 18. 16. 27.]\n",
      "##### PRODUCERS FOR ITER 9 \n",
      " [15. 25. 17. 16. 27.]\n",
      "##### PRODUCERS FOR ITER 10 \n",
      " [15. 25. 17. 15. 28.]\n",
      "##### PRODUCERS FOR ITER 11 \n",
      " [16. 25. 16. 15. 28.]\n",
      "##### PRODUCERS FOR ITER 12 \n",
      " [16. 26. 15. 15. 28.]\n",
      "##### PRODUCERS FOR ITER 13 \n",
      " [16. 26. 14. 15. 29.]\n",
      "##### PRODUCERS FOR ITER 14 \n",
      " [16. 26. 14. 15. 29.]\n",
      "Number of iterations to coverge: 14\n"
     ]
    }
   ],
   "source": [
    "converged, lp, lp_compact, i  = Psmexp.best_response_dynamics(verbose=True)"
   ]
  },
  {
   "cell_type": "code",
   "execution_count": 9,
   "id": "daf94cfe",
   "metadata": {},
   "outputs": [
    {
     "data": {
      "text/plain": [
       "{(16.0, 26.0, 14.0, 15.0, 29.0)}"
      ]
     },
     "execution_count": 9,
     "metadata": {},
     "output_type": "execute_result"
    }
   ],
   "source": [
    "Psmexp.BR_dyna_NE"
   ]
  },
  {
   "cell_type": "code",
   "execution_count": null,
   "id": "e9b6057c",
   "metadata": {},
   "outputs": [],
   "source": []
  }
 ],
 "metadata": {
  "kernelspec": {
   "display_name": "recsys3.10",
   "language": "python",
   "name": "recsys3.10"
  },
  "language_info": {
   "codemirror_mode": {
    "name": "ipython",
    "version": 3
   },
   "file_extension": ".py",
   "mimetype": "text/x-python",
   "name": "python",
   "nbconvert_exporter": "python",
   "pygments_lexer": "ipython3",
   "version": "3.10.9"
  }
 },
 "nbformat": 4,
 "nbformat_minor": 5
}
